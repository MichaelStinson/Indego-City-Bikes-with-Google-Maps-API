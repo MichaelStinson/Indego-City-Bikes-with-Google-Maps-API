{
 "cells": [
  {
   "cell_type": "markdown",
   "id": "577963dc",
   "metadata": {},
   "source": [
    "# Part 3: Indego Data Analysis with SQL and Pandas\n",
    "## ***Work in Progress***\n",
    "\n",
    "Jump to a specific section:\n",
    "<br> *(jump to does not work if viewing thru GitHub)*<br>\n",
    "- [Data overview](#Data-overview)\n",
    "- [Analyze station data](#Analyze-station-data)\n",
    "- [Join trip data with distance data](#Join-trip-data-with-distance-data)\n",
    "- [Analyze trip data](#Analyze-trip-data)\n",
    "- [Analyze trip data for standard vs electric bikes](#Analyze-trip-data-for-standard-vs-electric-bikes)"
   ]
  },
  {
   "cell_type": "markdown",
   "id": "a0bc28b3",
   "metadata": {},
   "source": [
    "## Data overview\n",
    "[Return to top](#Part-3:-Indego-Data-Analysis-with-SQL-and-Pandas)"
   ]
  },
  {
   "cell_type": "markdown",
   "id": "480239a7",
   "metadata": {},
   "source": [
    "<br>Load the db"
   ]
  },
  {
   "cell_type": "code",
   "execution_count": 5,
   "id": "75321e84",
   "metadata": {},
   "outputs": [],
   "source": [
    "%%capture\n",
    "%load_ext sql\n",
    "%sql sqlite:///bike_trip_db"
   ]
  },
  {
   "cell_type": "markdown",
   "id": "db2d5bcd",
   "metadata": {},
   "source": [
    "<br>Print the list of tables"
   ]
  },
  {
   "cell_type": "code",
   "execution_count": 172,
   "id": "d634a489",
   "metadata": {},
   "outputs": [
    {
     "name": "stdout",
     "output_type": "stream",
     "text": [
      " * sqlite:///bike_trip_db\n",
      "Done.\n"
     ]
    },
    {
     "data": {
      "text/html": [
       "<table>\n",
       "    <thead>\n",
       "        <tr>\n",
       "            <th>type</th>\n",
       "            <th>name</th>\n",
       "            <th>tbl_name</th>\n",
       "            <th>rootpage</th>\n",
       "            <th>sql</th>\n",
       "        </tr>\n",
       "    </thead>\n",
       "    <tbody>\n",
       "        <tr>\n",
       "            <td>table</td>\n",
       "            <td>stations</td>\n",
       "            <td>stations</td>\n",
       "            <td>2</td>\n",
       "            <td>CREATE TABLE &quot;stations&quot; (<br>&quot;station_id&quot; INTEGER,<br>  &quot;station_name&quot; TEXT,<br>  &quot;day_of_go_live_date&quot; TIMESTAMP,<br>  &quot;status&quot; TEXT,<br>  &quot;neighborhood&quot; TEXT,<br>  &quot;station_lat&quot; REAL,<br>  &quot;station_lon&quot; REAL<br>)</td>\n",
       "        </tr>\n",
       "        <tr>\n",
       "            <td>table</td>\n",
       "            <td>station_combos</td>\n",
       "            <td>station_combos</td>\n",
       "            <td>45771</td>\n",
       "            <td>CREATE TABLE &quot;station_combos&quot; (<br>&quot;start_name&quot; TEXT,<br>  &quot;end_name&quot; TEXT,<br>  &quot;distance&quot; REAL<br>)</td>\n",
       "        </tr>\n",
       "        <tr>\n",
       "            <td>table</td>\n",
       "            <td>trips</td>\n",
       "            <td>trips</td>\n",
       "            <td>45773</td>\n",
       "            <td>CREATE TABLE &quot;trips&quot; (<br>&quot;trip_id&quot; INTEGER,<br>  &quot;duration&quot; INTEGER,<br>  &quot;start_time&quot; TIMESTAMP,<br>  &quot;end_time&quot; TIMESTAMP,<br>  &quot;start_station&quot; INTEGER,<br>  &quot;end_station&quot; INTEGER,<br>  &quot;bike_id&quot; TEXT,<br>  &quot;plan_duration&quot; REAL,<br>  &quot;trip_route_category&quot; TEXT,<br>  &quot;passholder_type&quot; TEXT,<br>  &quot;bike_type&quot; TEXT<br>)</td>\n",
       "        </tr>\n",
       "    </tbody>\n",
       "</table>"
      ],
      "text/plain": [
       "[('table', 'stations', 'stations', 2, 'CREATE TABLE \"stations\" (\\n\"station_id\" INTEGER,\\n  \"station_name\" TEXT,\\n  \"day_of_go_live_date\" TIMESTAMP,\\n  \"status\" TEXT,\\n  \"neighborhood\" TEXT,\\n  \"station_lat\" REAL,\\n  \"station_lon\" REAL\\n)'),\n",
       " ('table', 'station_combos', 'station_combos', 45771, 'CREATE TABLE \"station_combos\" (\\n\"start_name\" TEXT,\\n  \"end_name\" TEXT,\\n  \"distance\" REAL\\n)'),\n",
       " ('table', 'trips', 'trips', 45773, 'CREATE TABLE \"trips\" (\\n\"trip_id\" INTEGER,\\n  \"duration\" INTEGER,\\n  \"start_time\" TIMESTAMP,\\n  \"end_time\" TIMESTAMP,\\n  \"start_station\" INTEGER,\\n  \"end_station\" INTEGER,\\n  \"bike_id\" TEXT,\\n  \"plan_duration\" REAL,\\n  \"trip_route_category\" TEXT,\\n  \"passholder_type\" TEXT,\\n  \"bike_type\" TEXT\\n)')]"
      ]
     },
     "execution_count": 172,
     "metadata": {},
     "output_type": "execute_result"
    }
   ],
   "source": [
    "%%sql\n",
    "SELECT *\n",
    "FROM sqlite_master\n",
    "WHERE type='table';"
   ]
  },
  {
   "cell_type": "markdown",
   "id": "d8ea4e01",
   "metadata": {},
   "source": [
    "<br>Print the first few rows from each table"
   ]
  },
  {
   "cell_type": "code",
   "execution_count": 7,
   "id": "57590b78",
   "metadata": {},
   "outputs": [
    {
     "name": "stdout",
     "output_type": "stream",
     "text": [
      " * sqlite:///bike_trip_db\n",
      "Done.\n"
     ]
    },
    {
     "data": {
      "text/html": [
       "<table>\n",
       "    <thead>\n",
       "        <tr>\n",
       "            <th>station_id</th>\n",
       "            <th>station_name</th>\n",
       "            <th>day_of_go_live_date</th>\n",
       "            <th>status</th>\n",
       "            <th>neighborhood</th>\n",
       "            <th>station_lat</th>\n",
       "            <th>station_lon</th>\n",
       "        </tr>\n",
       "    </thead>\n",
       "    <tbody>\n",
       "        <tr>\n",
       "            <td>3000</td>\n",
       "            <td>Virtual Station</td>\n",
       "            <td>2015-04-23 00:00:00</td>\n",
       "            <td>Active</td>\n",
       "            <td>Center City</td>\n",
       "            <td>None</td>\n",
       "            <td>None</td>\n",
       "        </tr>\n",
       "        <tr>\n",
       "            <td>3004</td>\n",
       "            <td>Municipal Services Building Plaza</td>\n",
       "            <td>2015-04-23 00:00:00</td>\n",
       "            <td>Active</td>\n",
       "            <td>Center City</td>\n",
       "            <td>39.953781</td>\n",
       "            <td>-75.163742</td>\n",
       "        </tr>\n",
       "        <tr>\n",
       "            <td>3005</td>\n",
       "            <td>Welcome Park, NPS</td>\n",
       "            <td>2015-04-23 00:00:00</td>\n",
       "            <td>Active</td>\n",
       "            <td>Center City East</td>\n",
       "            <td>39.94733</td>\n",
       "            <td>-75.144028</td>\n",
       "        </tr>\n",
       "        <tr>\n",
       "            <td>3006</td>\n",
       "            <td>40th &amp; Spruce</td>\n",
       "            <td>2015-04-23 00:00:00</td>\n",
       "            <td>Active</td>\n",
       "            <td>University City</td>\n",
       "            <td>39.952202</td>\n",
       "            <td>-75.20311</td>\n",
       "        </tr>\n",
       "        <tr>\n",
       "            <td>3007</td>\n",
       "            <td>11th &amp; Pine, Kahn Park</td>\n",
       "            <td>2015-04-23 00:00:00</td>\n",
       "            <td>Active</td>\n",
       "            <td>Washington Square West</td>\n",
       "            <td>39.945171</td>\n",
       "            <td>-75.159927</td>\n",
       "        </tr>\n",
       "    </tbody>\n",
       "</table>"
      ],
      "text/plain": [
       "[(3000, 'Virtual Station', '2015-04-23 00:00:00', 'Active', 'Center City', None, None),\n",
       " (3004, 'Municipal Services Building Plaza', '2015-04-23 00:00:00', 'Active', 'Center City', 39.953781, -75.163742),\n",
       " (3005, 'Welcome Park, NPS', '2015-04-23 00:00:00', 'Active', 'Center City East', 39.94733, -75.144028),\n",
       " (3006, '40th & Spruce', '2015-04-23 00:00:00', 'Active', 'University City', 39.952202, -75.20311),\n",
       " (3007, '11th & Pine, Kahn Park', '2015-04-23 00:00:00', 'Active', 'Washington Square West', 39.945171, -75.159927)]"
      ]
     },
     "execution_count": 7,
     "metadata": {},
     "output_type": "execute_result"
    }
   ],
   "source": [
    "%%sql\n",
    "SELECT * \n",
    "FROM stations\n",
    "LIMIT 5"
   ]
  },
  {
   "cell_type": "code",
   "execution_count": 8,
   "id": "d4b925ce",
   "metadata": {},
   "outputs": [
    {
     "name": "stdout",
     "output_type": "stream",
     "text": [
      " * sqlite:///bike_trip_db\n",
      "Done.\n"
     ]
    },
    {
     "data": {
      "text/html": [
       "<table>\n",
       "    <thead>\n",
       "        <tr>\n",
       "            <th>COUNT(*)</th>\n",
       "        </tr>\n",
       "    </thead>\n",
       "    <tbody>\n",
       "        <tr>\n",
       "            <td>180</td>\n",
       "        </tr>\n",
       "    </tbody>\n",
       "</table>"
      ],
      "text/plain": [
       "[(180,)]"
      ]
     },
     "execution_count": 8,
     "metadata": {},
     "output_type": "execute_result"
    }
   ],
   "source": [
    "%%sql\n",
    "SELECT COUNT(*) \n",
    "FROM stations\n",
    "LIMIT 5"
   ]
  },
  {
   "cell_type": "code",
   "execution_count": 9,
   "id": "31b9c322",
   "metadata": {},
   "outputs": [
    {
     "name": "stdout",
     "output_type": "stream",
     "text": [
      " * sqlite:///bike_trip_db\n",
      "Done.\n"
     ]
    },
    {
     "data": {
      "text/html": [
       "<table>\n",
       "    <thead>\n",
       "        <tr>\n",
       "            <th>trip_id</th>\n",
       "            <th>duration</th>\n",
       "            <th>start_time</th>\n",
       "            <th>end_time</th>\n",
       "            <th>start_station</th>\n",
       "            <th>end_station</th>\n",
       "            <th>bike_id</th>\n",
       "            <th>plan_duration</th>\n",
       "            <th>trip_route_category</th>\n",
       "            <th>passholder_type</th>\n",
       "            <th>bike_type</th>\n",
       "        </tr>\n",
       "    </thead>\n",
       "    <tbody>\n",
       "        <tr>\n",
       "            <td>306773863</td>\n",
       "            <td>8</td>\n",
       "            <td>2019-01-01 00:19:00</td>\n",
       "            <td>2019-01-01 00:27:00</td>\n",
       "            <td>3049</td>\n",
       "            <td>3007</td>\n",
       "            <td>14495</td>\n",
       "            <td>30.0</td>\n",
       "            <td>One Way</td>\n",
       "            <td>Indego30</td>\n",
       "            <td>standard</td>\n",
       "        </tr>\n",
       "        <tr>\n",
       "            <td>306773862</td>\n",
       "            <td>7</td>\n",
       "            <td>2019-01-01 00:30:00</td>\n",
       "            <td>2019-01-01 00:37:00</td>\n",
       "            <td>3005</td>\n",
       "            <td>3007</td>\n",
       "            <td>05332</td>\n",
       "            <td>1.0</td>\n",
       "            <td>One Way</td>\n",
       "            <td>Day Pass</td>\n",
       "            <td>standard</td>\n",
       "        </tr>\n",
       "        <tr>\n",
       "            <td>306773861</td>\n",
       "            <td>13</td>\n",
       "            <td>2019-01-01 00:52:00</td>\n",
       "            <td>2019-01-01 01:05:00</td>\n",
       "            <td>3166</td>\n",
       "            <td>3169</td>\n",
       "            <td>14623</td>\n",
       "            <td>30.0</td>\n",
       "            <td>One Way</td>\n",
       "            <td>Indego30</td>\n",
       "            <td>standard</td>\n",
       "        </tr>\n",
       "        <tr>\n",
       "            <td>306773860</td>\n",
       "            <td>9</td>\n",
       "            <td>2019-01-01 00:55:00</td>\n",
       "            <td>2019-01-01 01:04:00</td>\n",
       "            <td>3058</td>\n",
       "            <td>3103</td>\n",
       "            <td>11706</td>\n",
       "            <td>30.0</td>\n",
       "            <td>One Way</td>\n",
       "            <td>Indego30</td>\n",
       "            <td>standard</td>\n",
       "        </tr>\n",
       "        <tr>\n",
       "            <td>306773859</td>\n",
       "            <td>12</td>\n",
       "            <td>2019-01-01 01:05:00</td>\n",
       "            <td>2019-01-01 01:17:00</td>\n",
       "            <td>3182</td>\n",
       "            <td>3028</td>\n",
       "            <td>11039</td>\n",
       "            <td>30.0</td>\n",
       "            <td>One Way</td>\n",
       "            <td>Indego30</td>\n",
       "            <td>standard</td>\n",
       "        </tr>\n",
       "    </tbody>\n",
       "</table>"
      ],
      "text/plain": [
       "[(306773863, 8, '2019-01-01 00:19:00', '2019-01-01 00:27:00', 3049, 3007, '14495', 30.0, 'One Way', 'Indego30', 'standard'),\n",
       " (306773862, 7, '2019-01-01 00:30:00', '2019-01-01 00:37:00', 3005, 3007, '05332', 1.0, 'One Way', 'Day Pass', 'standard'),\n",
       " (306773861, 13, '2019-01-01 00:52:00', '2019-01-01 01:05:00', 3166, 3169, '14623', 30.0, 'One Way', 'Indego30', 'standard'),\n",
       " (306773860, 9, '2019-01-01 00:55:00', '2019-01-01 01:04:00', 3058, 3103, '11706', 30.0, 'One Way', 'Indego30', 'standard'),\n",
       " (306773859, 12, '2019-01-01 01:05:00', '2019-01-01 01:17:00', 3182, 3028, '11039', 30.0, 'One Way', 'Indego30', 'standard')]"
      ]
     },
     "execution_count": 9,
     "metadata": {},
     "output_type": "execute_result"
    }
   ],
   "source": [
    "%%sql\n",
    "SELECT * \n",
    "FROM trips\n",
    "LIMIT 5"
   ]
  },
  {
   "cell_type": "code",
   "execution_count": 10,
   "id": "ad9fe776",
   "metadata": {},
   "outputs": [
    {
     "name": "stdout",
     "output_type": "stream",
     "text": [
      " * sqlite:///bike_trip_db\n",
      "Done.\n"
     ]
    },
    {
     "data": {
      "text/html": [
       "<table>\n",
       "    <thead>\n",
       "        <tr>\n",
       "            <th>COUNT(*)</th>\n",
       "        </tr>\n",
       "    </thead>\n",
       "    <tbody>\n",
       "        <tr>\n",
       "            <td>1989934</td>\n",
       "        </tr>\n",
       "    </tbody>\n",
       "</table>"
      ],
      "text/plain": [
       "[(1989934,)]"
      ]
     },
     "execution_count": 10,
     "metadata": {},
     "output_type": "execute_result"
    }
   ],
   "source": [
    "%%sql\n",
    "SELECT COUNT(*)\n",
    "FROM trips"
   ]
  },
  {
   "cell_type": "code",
   "execution_count": 11,
   "id": "27a3395c",
   "metadata": {},
   "outputs": [
    {
     "name": "stdout",
     "output_type": "stream",
     "text": [
      " * sqlite:///bike_trip_db\n",
      "Done.\n"
     ]
    },
    {
     "data": {
      "text/html": [
       "<table>\n",
       "    <thead>\n",
       "        <tr>\n",
       "            <th>start_name</th>\n",
       "            <th>end_name</th>\n",
       "            <th>distance</th>\n",
       "        </tr>\n",
       "    </thead>\n",
       "    <tbody>\n",
       "        <tr>\n",
       "            <td>10th &amp; Chestnut</td>\n",
       "            <td>10th &amp; Federal</td>\n",
       "            <td>1.1</td>\n",
       "        </tr>\n",
       "        <tr>\n",
       "            <td>10th &amp; Chestnut</td>\n",
       "            <td>11th &amp; Market</td>\n",
       "            <td>0.4</td>\n",
       "        </tr>\n",
       "        <tr>\n",
       "            <td>10th &amp; Chestnut</td>\n",
       "            <td>11th &amp; Pine, Kahn Park</td>\n",
       "            <td>0.6</td>\n",
       "        </tr>\n",
       "        <tr>\n",
       "            <td>10th &amp; Chestnut</td>\n",
       "            <td>11th &amp; Poplar, John F. Street Community Center</td>\n",
       "            <td>1.6</td>\n",
       "        </tr>\n",
       "        <tr>\n",
       "            <td>10th &amp; Chestnut</td>\n",
       "            <td>11th &amp; Reed</td>\n",
       "            <td>1.3</td>\n",
       "        </tr>\n",
       "    </tbody>\n",
       "</table>"
      ],
      "text/plain": [
       "[('10th & Chestnut', '10th & Federal', 1.1),\n",
       " ('10th & Chestnut', '11th & Market', 0.4),\n",
       " ('10th & Chestnut', '11th & Pine, Kahn Park', 0.6),\n",
       " ('10th & Chestnut', '11th & Poplar, John F. Street Community Center', 1.6),\n",
       " ('10th & Chestnut', '11th & Reed', 1.3)]"
      ]
     },
     "execution_count": 11,
     "metadata": {},
     "output_type": "execute_result"
    }
   ],
   "source": [
    "%%sql\n",
    "SELECT * from station_combos\n",
    "LIMIT 5"
   ]
  },
  {
   "cell_type": "code",
   "execution_count": 12,
   "id": "d2194a40",
   "metadata": {},
   "outputs": [
    {
     "name": "stdout",
     "output_type": "stream",
     "text": [
      " * sqlite:///bike_trip_db\n",
      "Done.\n"
     ]
    },
    {
     "data": {
      "text/html": [
       "<table>\n",
       "    <thead>\n",
       "        <tr>\n",
       "            <th>start_name</th>\n",
       "            <th>end_name</th>\n",
       "            <th>distance</th>\n",
       "        </tr>\n",
       "    </thead>\n",
       "    <tbody>\n",
       "        <tr>\n",
       "            <td>10th &amp; Chestnut</td>\n",
       "            <td>10th &amp; Federal</td>\n",
       "            <td>1.1</td>\n",
       "        </tr>\n",
       "        <tr>\n",
       "            <td>10th &amp; Chestnut</td>\n",
       "            <td>11th &amp; Market</td>\n",
       "            <td>0.4</td>\n",
       "        </tr>\n",
       "        <tr>\n",
       "            <td>10th &amp; Chestnut</td>\n",
       "            <td>11th &amp; Pine, Kahn Park</td>\n",
       "            <td>0.6</td>\n",
       "        </tr>\n",
       "        <tr>\n",
       "            <td>10th &amp; Chestnut</td>\n",
       "            <td>11th &amp; Poplar, John F. Street Community Center</td>\n",
       "            <td>1.6</td>\n",
       "        </tr>\n",
       "        <tr>\n",
       "            <td>10th &amp; Chestnut</td>\n",
       "            <td>11th &amp; Reed</td>\n",
       "            <td>1.3</td>\n",
       "        </tr>\n",
       "    </tbody>\n",
       "</table>"
      ],
      "text/plain": [
       "[('10th & Chestnut', '10th & Federal', 1.1),\n",
       " ('10th & Chestnut', '11th & Market', 0.4),\n",
       " ('10th & Chestnut', '11th & Pine, Kahn Park', 0.6),\n",
       " ('10th & Chestnut', '11th & Poplar, John F. Street Community Center', 1.6),\n",
       " ('10th & Chestnut', '11th & Reed', 1.3)]"
      ]
     },
     "execution_count": 12,
     "metadata": {},
     "output_type": "execute_result"
    }
   ],
   "source": [
    "%%sql\n",
    "SELECT *\n",
    "FROM station_combos\n",
    "LIMIT 5"
   ]
  },
  {
   "cell_type": "markdown",
   "id": "d308039d",
   "metadata": {},
   "source": [
    "## Analyze station data\n",
    "[Return to top](#Part-3:-Indego-Data-Analysis-with-SQL-and-Pandas)"
   ]
  },
  {
   "cell_type": "markdown",
   "id": "4debdc5f",
   "metadata": {},
   "source": [
    "<br>Get a list of all neighborhoods and the count of Indego stations"
   ]
  },
  {
   "cell_type": "code",
   "execution_count": 30,
   "id": "0d506d49",
   "metadata": {},
   "outputs": [
    {
     "name": "stdout",
     "output_type": "stream",
     "text": [
      " * sqlite:///bike_trip_db\n",
      "Done.\n"
     ]
    },
    {
     "data": {
      "text/html": [
       "<table>\n",
       "    <thead>\n",
       "        <tr>\n",
       "            <th>neighborhood</th>\n",
       "            <th>count</th>\n",
       "        </tr>\n",
       "    </thead>\n",
       "    <tbody>\n",
       "        <tr>\n",
       "            <td>North Philadelphia</td>\n",
       "            <td>35</td>\n",
       "        </tr>\n",
       "        <tr>\n",
       "            <td>University City</td>\n",
       "            <td>25</td>\n",
       "        </tr>\n",
       "        <tr>\n",
       "            <td>Center City</td>\n",
       "            <td>21</td>\n",
       "        </tr>\n",
       "        <tr>\n",
       "            <td>Center City West</td>\n",
       "            <td>12</td>\n",
       "        </tr>\n",
       "        <tr>\n",
       "            <td>Center City East</td>\n",
       "            <td>11</td>\n",
       "        </tr>\n",
       "        <tr>\n",
       "            <td>West Philadelphia</td>\n",
       "            <td>9</td>\n",
       "        </tr>\n",
       "        <tr>\n",
       "            <td>Rittenhouse Square</td>\n",
       "            <td>6</td>\n",
       "        </tr>\n",
       "        <tr>\n",
       "            <td>Point Breeze</td>\n",
       "            <td>6</td>\n",
       "        </tr>\n",
       "        <tr>\n",
       "            <td>Graduate Hospital</td>\n",
       "            <td>6</td>\n",
       "        </tr>\n",
       "        <tr>\n",
       "            <td>Washington Square West</td>\n",
       "            <td>4</td>\n",
       "        </tr>\n",
       "        <tr>\n",
       "            <td>South Philadelphia East</td>\n",
       "            <td>4</td>\n",
       "        </tr>\n",
       "        <tr>\n",
       "            <td>South Philadelphia</td>\n",
       "            <td>4</td>\n",
       "        </tr>\n",
       "        <tr>\n",
       "            <td>West Poplar</td>\n",
       "            <td>3</td>\n",
       "        </tr>\n",
       "        <tr>\n",
       "            <td>Queen Village</td>\n",
       "            <td>3</td>\n",
       "        </tr>\n",
       "        <tr>\n",
       "            <td>Grays Ferry</td>\n",
       "            <td>3</td>\n",
       "        </tr>\n",
       "        <tr>\n",
       "            <td>Bella Vista</td>\n",
       "            <td>3</td>\n",
       "        </tr>\n",
       "        <tr>\n",
       "            <td>South Philadelphia West</td>\n",
       "            <td>2</td>\n",
       "        </tr>\n",
       "        <tr>\n",
       "            <td>Society Hill</td>\n",
       "            <td>2</td>\n",
       "        </tr>\n",
       "        <tr>\n",
       "            <td>Olde Kensington</td>\n",
       "            <td>2</td>\n",
       "        </tr>\n",
       "        <tr>\n",
       "            <td>Old City</td>\n",
       "            <td>2</td>\n",
       "        </tr>\n",
       "        <tr>\n",
       "            <td>Mantua</td>\n",
       "            <td>2</td>\n",
       "        </tr>\n",
       "        <tr>\n",
       "            <td>Gayborhood</td>\n",
       "            <td>2</td>\n",
       "        </tr>\n",
       "        <tr>\n",
       "            <td>East Passyunk Crossing</td>\n",
       "            <td>2</td>\n",
       "        </tr>\n",
       "        <tr>\n",
       "            <td>Devil&#x27;s Pocket</td>\n",
       "            <td>2</td>\n",
       "        </tr>\n",
       "        <tr>\n",
       "            <td>Chinatown</td>\n",
       "            <td>2</td>\n",
       "        </tr>\n",
       "        <tr>\n",
       "            <td>West Parkside</td>\n",
       "            <td>1</td>\n",
       "        </tr>\n",
       "        <tr>\n",
       "            <td>Pennsport</td>\n",
       "            <td>1</td>\n",
       "        </tr>\n",
       "        <tr>\n",
       "            <td>Northern Liberties</td>\n",
       "            <td>1</td>\n",
       "        </tr>\n",
       "        <tr>\n",
       "            <td>North Philadelphia West</td>\n",
       "            <td>1</td>\n",
       "        </tr>\n",
       "        <tr>\n",
       "            <td>Melrose</td>\n",
       "            <td>1</td>\n",
       "        </tr>\n",
       "        <tr>\n",
       "            <td>East Parkside</td>\n",
       "            <td>1</td>\n",
       "        </tr>\n",
       "        <tr>\n",
       "            <td>Dickinson Narrows</td>\n",
       "            <td>1</td>\n",
       "        </tr>\n",
       "    </tbody>\n",
       "</table>"
      ],
      "text/plain": [
       "[('North Philadelphia', 35),\n",
       " ('University City', 25),\n",
       " ('Center City', 21),\n",
       " ('Center City West', 12),\n",
       " ('Center City East', 11),\n",
       " ('West Philadelphia', 9),\n",
       " ('Rittenhouse Square', 6),\n",
       " ('Point Breeze', 6),\n",
       " ('Graduate Hospital', 6),\n",
       " ('Washington Square West', 4),\n",
       " ('South Philadelphia East', 4),\n",
       " ('South Philadelphia', 4),\n",
       " ('West Poplar', 3),\n",
       " ('Queen Village', 3),\n",
       " ('Grays Ferry', 3),\n",
       " ('Bella Vista', 3),\n",
       " ('South Philadelphia West', 2),\n",
       " ('Society Hill', 2),\n",
       " ('Olde Kensington', 2),\n",
       " ('Old City', 2),\n",
       " ('Mantua', 2),\n",
       " ('Gayborhood', 2),\n",
       " ('East Passyunk Crossing', 2),\n",
       " (\"Devil's Pocket\", 2),\n",
       " ('Chinatown', 2),\n",
       " ('West Parkside', 1),\n",
       " ('Pennsport', 1),\n",
       " ('Northern Liberties', 1),\n",
       " ('North Philadelphia West', 1),\n",
       " ('Melrose', 1),\n",
       " ('East Parkside', 1),\n",
       " ('Dickinson Narrows', 1)]"
      ]
     },
     "execution_count": 30,
     "metadata": {},
     "output_type": "execute_result"
    }
   ],
   "source": [
    "%%sql\n",
    "SELECT neighborhood, COUNT(*) count\n",
    "FROM stations\n",
    "GROUP BY neighborhood\n",
    "ORDER BY count DESC;"
   ]
  },
  {
   "cell_type": "markdown",
   "id": "2112d67c",
   "metadata": {},
   "source": [
    "<br>See how many stations are in Center City, inclusive of those with East/West suffixes"
   ]
  },
  {
   "cell_type": "code",
   "execution_count": 20,
   "id": "4725e296",
   "metadata": {},
   "outputs": [
    {
     "name": "stdout",
     "output_type": "stream",
     "text": [
      " * sqlite:///bike_trip_db\n",
      "Done.\n"
     ]
    },
    {
     "data": {
      "text/html": [
       "<table>\n",
       "    <thead>\n",
       "        <tr>\n",
       "            <th>count</th>\n",
       "        </tr>\n",
       "    </thead>\n",
       "    <tbody>\n",
       "        <tr>\n",
       "            <td>44</td>\n",
       "        </tr>\n",
       "    </tbody>\n",
       "</table>"
      ],
      "text/plain": [
       "[(44,)]"
      ]
     },
     "execution_count": 20,
     "metadata": {},
     "output_type": "execute_result"
    }
   ],
   "source": [
    "%%sql\n",
    "SELECT COUNT(*) count\n",
    "FROM stations\n",
    "WHERE neighborhood LIKE 'Center City%'"
   ]
  },
  {
   "cell_type": "markdown",
   "id": "093b4538",
   "metadata": {},
   "source": [
    "<br>Are any stations inactive?"
   ]
  },
  {
   "cell_type": "code",
   "execution_count": 23,
   "id": "6b113540",
   "metadata": {},
   "outputs": [
    {
     "name": "stdout",
     "output_type": "stream",
     "text": [
      " * sqlite:///bike_trip_db\n",
      "Done.\n"
     ]
    },
    {
     "data": {
      "text/html": [
       "<table>\n",
       "    <thead>\n",
       "        <tr>\n",
       "            <th>station_id</th>\n",
       "            <th>station_name</th>\n",
       "            <th>day_of_go_live_date</th>\n",
       "            <th>status</th>\n",
       "            <th>neighborhood</th>\n",
       "            <th>station_lat</th>\n",
       "            <th>station_lon</th>\n",
       "        </tr>\n",
       "    </thead>\n",
       "    <tbody>\n",
       "        <tr>\n",
       "            <td>3023</td>\n",
       "            <td>Rittenhouse Square</td>\n",
       "            <td>2015-04-23 00:00:00</td>\n",
       "            <td>Inactive</td>\n",
       "            <td>Rittenhouse Square</td>\n",
       "            <td>None</td>\n",
       "            <td>None</td>\n",
       "        </tr>\n",
       "        <tr>\n",
       "            <td>3027</td>\n",
       "            <td>40th Street Station, MFL</td>\n",
       "            <td>2015-04-23 00:00:00</td>\n",
       "            <td>Inactive</td>\n",
       "            <td>University City</td>\n",
       "            <td>39.95694</td>\n",
       "            <td>-75.200691</td>\n",
       "        </tr>\n",
       "        <tr>\n",
       "            <td>3036</td>\n",
       "            <td>2nd &amp; Germantown</td>\n",
       "            <td>2015-04-23 00:00:00</td>\n",
       "            <td>Inactive</td>\n",
       "            <td>North Philadelphia</td>\n",
       "            <td>39.968441</td>\n",
       "            <td>-75.140007</td>\n",
       "        </tr>\n",
       "        <tr>\n",
       "            <td>3038</td>\n",
       "            <td>The Children&#x27;s Hospital of Philadelphia (CHOP)</td>\n",
       "            <td>2015-04-23 00:00:00</td>\n",
       "            <td>Inactive</td>\n",
       "            <td>University City</td>\n",
       "            <td>39.947811</td>\n",
       "            <td>-75.194092</td>\n",
       "        </tr>\n",
       "        <tr>\n",
       "            <td>3048</td>\n",
       "            <td>Broad &amp; Fitzwater</td>\n",
       "            <td>2015-04-23 00:00:00</td>\n",
       "            <td>Inactive</td>\n",
       "            <td>South Philadelphia</td>\n",
       "            <td>None</td>\n",
       "            <td>None</td>\n",
       "        </tr>\n",
       "        <tr>\n",
       "            <td>3095</td>\n",
       "            <td>29th &amp; Diamond</td>\n",
       "            <td>2016-04-28 00:00:00</td>\n",
       "            <td>Inactive</td>\n",
       "            <td>North Philadelphia</td>\n",
       "            <td>39.987709</td>\n",
       "            <td>-75.180519</td>\n",
       "        </tr>\n",
       "        <tr>\n",
       "            <td>3103</td>\n",
       "            <td>27th &amp; Master, Athletic Recreation Center</td>\n",
       "            <td>2016-05-03 00:00:00</td>\n",
       "            <td>Inactive</td>\n",
       "            <td>North Philadelphia</td>\n",
       "            <td>39.977139</td>\n",
       "            <td>-75.179398</td>\n",
       "        </tr>\n",
       "        <tr>\n",
       "            <td>3105</td>\n",
       "            <td>Penn Treaty Park</td>\n",
       "            <td>2016-05-03 00:00:00</td>\n",
       "            <td>Inactive</td>\n",
       "            <td>North Philadelphia</td>\n",
       "            <td>39.96207</td>\n",
       "            <td>-75.141113</td>\n",
       "        </tr>\n",
       "        <tr>\n",
       "            <td>3109</td>\n",
       "            <td>Parkside &amp; Girard</td>\n",
       "            <td>2016-05-06 00:00:00</td>\n",
       "            <td>Inactive</td>\n",
       "            <td>East Parkside</td>\n",
       "            <td>None</td>\n",
       "            <td>None</td>\n",
       "        </tr>\n",
       "        <tr>\n",
       "            <td>3122</td>\n",
       "            <td>24th &amp; Cecil B. Moore, Cecil B. Moore Library</td>\n",
       "            <td>2016-04-27 00:00:00</td>\n",
       "            <td>Inactive</td>\n",
       "            <td>North Philadelphia</td>\n",
       "            <td>None</td>\n",
       "            <td>None</td>\n",
       "        </tr>\n",
       "        <tr>\n",
       "            <td>3129</td>\n",
       "            <td>The Children&#x27;s Hospital of Philadelphia, Osler Circle</td>\n",
       "            <td>2016-05-24 00:00:00</td>\n",
       "            <td>Inactive</td>\n",
       "            <td>University City</td>\n",
       "            <td>39.94714280284724</td>\n",
       "            <td>-75.19452676057021</td>\n",
       "        </tr>\n",
       "        <tr>\n",
       "            <td>3195</td>\n",
       "            <td>18th &amp; JFK Curbside</td>\n",
       "            <td>2019-04-06 00:00:00</td>\n",
       "            <td>Inactive</td>\n",
       "            <td>Center City</td>\n",
       "            <td>39.954102</td>\n",
       "            <td>-75.169647</td>\n",
       "        </tr>\n",
       "        <tr>\n",
       "            <td>3213</td>\n",
       "            <td>Broad &amp; Carpenter</td>\n",
       "            <td>2020-09-16 00:00:00</td>\n",
       "            <td>Inactive</td>\n",
       "            <td>Graduate Hospital</td>\n",
       "            <td>39.938869</td>\n",
       "            <td>-75.166634</td>\n",
       "        </tr>\n",
       "        <tr>\n",
       "            <td>3042</td>\n",
       "            <td>15th &amp; Walnut</td>\n",
       "            <td>None</td>\n",
       "            <td>Inactive</td>\n",
       "            <td>Center City West</td>\n",
       "            <td>39.949421</td>\n",
       "            <td>-75.16613</td>\n",
       "        </tr>\n",
       "    </tbody>\n",
       "</table>"
      ],
      "text/plain": [
       "[(3023, 'Rittenhouse Square', '2015-04-23 00:00:00', 'Inactive', 'Rittenhouse Square', None, None),\n",
       " (3027, '40th Street Station, MFL', '2015-04-23 00:00:00', 'Inactive', 'University City', 39.95694, -75.200691),\n",
       " (3036, '2nd & Germantown', '2015-04-23 00:00:00', 'Inactive', 'North Philadelphia', 39.968441, -75.140007),\n",
       " (3038, \"The Children's Hospital of Philadelphia (CHOP)\", '2015-04-23 00:00:00', 'Inactive', 'University City', 39.947811, -75.194092),\n",
       " (3048, 'Broad & Fitzwater', '2015-04-23 00:00:00', 'Inactive', 'South Philadelphia', None, None),\n",
       " (3095, '29th & Diamond', '2016-04-28 00:00:00', 'Inactive', 'North Philadelphia', 39.987709, -75.180519),\n",
       " (3103, '27th & Master, Athletic Recreation Center', '2016-05-03 00:00:00', 'Inactive', 'North Philadelphia', 39.977139, -75.179398),\n",
       " (3105, 'Penn Treaty Park', '2016-05-03 00:00:00', 'Inactive', 'North Philadelphia', 39.96207, -75.141113),\n",
       " (3109, 'Parkside & Girard', '2016-05-06 00:00:00', 'Inactive', 'East Parkside', None, None),\n",
       " (3122, '24th & Cecil B. Moore, Cecil B. Moore Library', '2016-04-27 00:00:00', 'Inactive', 'North Philadelphia', None, None),\n",
       " (3129, \"The Children's Hospital of Philadelphia, Osler Circle\", '2016-05-24 00:00:00', 'Inactive', 'University City', 39.94714280284724, -75.19452676057021),\n",
       " (3195, '18th & JFK Curbside', '2019-04-06 00:00:00', 'Inactive', 'Center City', 39.954102, -75.169647),\n",
       " (3213, 'Broad & Carpenter', '2020-09-16 00:00:00', 'Inactive', 'Graduate Hospital', 39.938869, -75.166634),\n",
       " (3042, '15th & Walnut', None, 'Inactive', 'Center City West', 39.949421, -75.16613)]"
      ]
     },
     "execution_count": 23,
     "metadata": {},
     "output_type": "execute_result"
    }
   ],
   "source": [
    "%%sql\n",
    "SELECT *\n",
    "FROM stations\n",
    "WHERE status = \"Inactive\""
   ]
  },
  {
   "cell_type": "markdown",
   "id": "f86e8cd5",
   "metadata": {},
   "source": [
    "<br>Find the top ten neighborhoods by active stations. Treat all Center City stations as a single neighborhood"
   ]
  },
  {
   "cell_type": "code",
   "execution_count": 31,
   "id": "0f859c96",
   "metadata": {},
   "outputs": [
    {
     "name": "stdout",
     "output_type": "stream",
     "text": [
      " * sqlite:///bike_trip_db\n",
      "Done.\n"
     ]
    },
    {
     "data": {
      "text/html": [
       "<table>\n",
       "    <thead>\n",
       "        <tr>\n",
       "            <th>updated_neighborhood</th>\n",
       "            <th>count</th>\n",
       "        </tr>\n",
       "    </thead>\n",
       "    <tbody>\n",
       "        <tr>\n",
       "            <td>Center City</td>\n",
       "            <td>42</td>\n",
       "        </tr>\n",
       "        <tr>\n",
       "            <td>North Philadelphia</td>\n",
       "            <td>30</td>\n",
       "        </tr>\n",
       "        <tr>\n",
       "            <td>University City</td>\n",
       "            <td>22</td>\n",
       "        </tr>\n",
       "        <tr>\n",
       "            <td>West Philadelphia</td>\n",
       "            <td>9</td>\n",
       "        </tr>\n",
       "        <tr>\n",
       "            <td>Point Breeze</td>\n",
       "            <td>6</td>\n",
       "        </tr>\n",
       "        <tr>\n",
       "            <td>Rittenhouse Square</td>\n",
       "            <td>5</td>\n",
       "        </tr>\n",
       "        <tr>\n",
       "            <td>Graduate Hospital</td>\n",
       "            <td>5</td>\n",
       "        </tr>\n",
       "        <tr>\n",
       "            <td>Washington Square West</td>\n",
       "            <td>4</td>\n",
       "        </tr>\n",
       "        <tr>\n",
       "            <td>South Philadelphia East</td>\n",
       "            <td>4</td>\n",
       "        </tr>\n",
       "        <tr>\n",
       "            <td>West Poplar</td>\n",
       "            <td>3</td>\n",
       "        </tr>\n",
       "    </tbody>\n",
       "</table>"
      ],
      "text/plain": [
       "[('Center City', 42),\n",
       " ('North Philadelphia', 30),\n",
       " ('University City', 22),\n",
       " ('West Philadelphia', 9),\n",
       " ('Point Breeze', 6),\n",
       " ('Rittenhouse Square', 5),\n",
       " ('Graduate Hospital', 5),\n",
       " ('Washington Square West', 4),\n",
       " ('South Philadelphia East', 4),\n",
       " ('West Poplar', 3)]"
      ]
     },
     "execution_count": 31,
     "metadata": {},
     "output_type": "execute_result"
    }
   ],
   "source": [
    "%%sql\n",
    "WITH stations_updated_neighborhoods AS (\n",
    "    SELECT *, \n",
    "    CASE \n",
    "        WHEN neighborhood LIKE 'Center City%' THEN 'Center City'\n",
    "        ELSE neighborhood\n",
    "    END updated_neighborhood\n",
    "    FROM stations\n",
    ")\n",
    "SELECT \n",
    "    updated_neighborhood, \n",
    "    COUNT(*) count\n",
    "FROM stations_updated_neighborhoods\n",
    "WHERE status = 'Active'\n",
    "GROUP BY updated_neighborhood\n",
    "ORDER BY count DESC\n",
    "LIMIT 10;"
   ]
  },
  {
   "cell_type": "markdown",
   "id": "5c58cfb6",
   "metadata": {},
   "source": [
    "## Join trip data with distance data\n",
    "[Return to top](#Part-3:-Indego-Data-Analysis-with-SQL-and-Pandas)"
   ]
  },
  {
   "cell_type": "code",
   "execution_count": 64,
   "id": "d36305eb",
   "metadata": {},
   "outputs": [
    {
     "name": "stdout",
     "output_type": "stream",
     "text": [
      " * sqlite:///bike_trip_db\n",
      "Done.\n",
      "Done.\n",
      "Done.\n"
     ]
    },
    {
     "data": {
      "text/html": [
       "<table>\n",
       "    <thead>\n",
       "        <tr>\n",
       "            <th>start_name</th>\n",
       "            <th>start_id</th>\n",
       "            <th>start_neighborhood</th>\n",
       "            <th>end_name</th>\n",
       "            <th>end_id</th>\n",
       "            <th>end_neighborhood</th>\n",
       "            <th>distance</th>\n",
       "        </tr>\n",
       "    </thead>\n",
       "    <tbody>\n",
       "        <tr>\n",
       "            <td>10th &amp; Chestnut</td>\n",
       "            <td>3033</td>\n",
       "            <td>Center City East</td>\n",
       "            <td>10th &amp; Federal</td>\n",
       "            <td>3098</td>\n",
       "            <td>South Philadelphia</td>\n",
       "            <td>1.1</td>\n",
       "        </tr>\n",
       "        <tr>\n",
       "            <td>10th &amp; Chestnut</td>\n",
       "            <td>3033</td>\n",
       "            <td>Center City East</td>\n",
       "            <td>11th &amp; Market</td>\n",
       "            <td>3185</td>\n",
       "            <td>Center City East</td>\n",
       "            <td>0.4</td>\n",
       "        </tr>\n",
       "        <tr>\n",
       "            <td>10th &amp; Chestnut</td>\n",
       "            <td>3033</td>\n",
       "            <td>Center City East</td>\n",
       "            <td>11th &amp; Pine, Kahn Park</td>\n",
       "            <td>3007</td>\n",
       "            <td>Washington Square West</td>\n",
       "            <td>0.6</td>\n",
       "        </tr>\n",
       "        <tr>\n",
       "            <td>10th &amp; Chestnut</td>\n",
       "            <td>3033</td>\n",
       "            <td>Center City East</td>\n",
       "            <td>11th &amp; Poplar, John F. Street Community Center</td>\n",
       "            <td>3016</td>\n",
       "            <td>West Poplar</td>\n",
       "            <td>1.6</td>\n",
       "        </tr>\n",
       "        <tr>\n",
       "            <td>10th &amp; Chestnut</td>\n",
       "            <td>3033</td>\n",
       "            <td>Center City East</td>\n",
       "            <td>11th &amp; Reed</td>\n",
       "            <td>3034</td>\n",
       "            <td>South Philadelphia</td>\n",
       "            <td>1.3</td>\n",
       "        </tr>\n",
       "        <tr>\n",
       "            <td>10th &amp; Chestnut</td>\n",
       "            <td>3033</td>\n",
       "            <td>Center City East</td>\n",
       "            <td>11th &amp; South</td>\n",
       "            <td>3101</td>\n",
       "            <td>Washington Square West</td>\n",
       "            <td>0.6</td>\n",
       "        </tr>\n",
       "        <tr>\n",
       "            <td>10th &amp; Chestnut</td>\n",
       "            <td>3033</td>\n",
       "            <td>Center City East</td>\n",
       "            <td>11th &amp; Washington</td>\n",
       "            <td>3025</td>\n",
       "            <td>Bella Vista</td>\n",
       "            <td>1.1</td>\n",
       "        </tr>\n",
       "        <tr>\n",
       "            <td>10th &amp; Chestnut</td>\n",
       "            <td>3033</td>\n",
       "            <td>Center City East</td>\n",
       "            <td>12th &amp; Callowhill</td>\n",
       "            <td>3154</td>\n",
       "            <td>Center City</td>\n",
       "            <td>0.9</td>\n",
       "        </tr>\n",
       "        <tr>\n",
       "            <td>10th &amp; Chestnut</td>\n",
       "            <td>3033</td>\n",
       "            <td>Center City East</td>\n",
       "            <td>12th &amp; Chestnut</td>\n",
       "            <td>3167</td>\n",
       "            <td>Gayborhood</td>\n",
       "            <td>0.3</td>\n",
       "        </tr>\n",
       "        <tr>\n",
       "            <td>10th &amp; Chestnut</td>\n",
       "            <td>3033</td>\n",
       "            <td>Center City East</td>\n",
       "            <td>12th &amp; Filbert</td>\n",
       "            <td>3018</td>\n",
       "            <td>Center City East</td>\n",
       "            <td>0.7</td>\n",
       "        </tr>\n",
       "    </tbody>\n",
       "</table>"
      ],
      "text/plain": [
       "[('10th & Chestnut', 3033, 'Center City East', '10th & Federal', 3098, 'South Philadelphia', 1.1),\n",
       " ('10th & Chestnut', 3033, 'Center City East', '11th & Market', 3185, 'Center City East', 0.4),\n",
       " ('10th & Chestnut', 3033, 'Center City East', '11th & Pine, Kahn Park', 3007, 'Washington Square West', 0.6),\n",
       " ('10th & Chestnut', 3033, 'Center City East', '11th & Poplar, John F. Street Community Center', 3016, 'West Poplar', 1.6),\n",
       " ('10th & Chestnut', 3033, 'Center City East', '11th & Reed', 3034, 'South Philadelphia', 1.3),\n",
       " ('10th & Chestnut', 3033, 'Center City East', '11th & South', 3101, 'Washington Square West', 0.6),\n",
       " ('10th & Chestnut', 3033, 'Center City East', '11th & Washington', 3025, 'Bella Vista', 1.1),\n",
       " ('10th & Chestnut', 3033, 'Center City East', '12th & Callowhill', 3154, 'Center City', 0.9),\n",
       " ('10th & Chestnut', 3033, 'Center City East', '12th & Chestnut', 3167, 'Gayborhood', 0.3),\n",
       " ('10th & Chestnut', 3033, 'Center City East', '12th & Filbert', 3018, 'Center City East', 0.7)]"
      ]
     },
     "execution_count": 64,
     "metadata": {},
     "output_type": "execute_result"
    }
   ],
   "source": [
    "%%sql\n",
    "DROP VIEW IF EXISTS station_combos_with_id;\n",
    "\n",
    "CREATE VIEW station_combos_with_id AS\n",
    "    SELECT \n",
    "        sc.start_name, \n",
    "        s1.station_id start_id, \n",
    "        s1.neighborhood start_neighborhood, \n",
    "        sc.end_name,\n",
    "        s2.station_id end_id, \n",
    "        s2.neighborhood end_neighborhood,\n",
    "        sc.distance\n",
    "    FROM station_combos sc\n",
    "    LEFT JOIN stations s1\n",
    "    ON sc.start_name = s1.station_name\n",
    "    LEFT JOIN stations s2\n",
    "    ON sc.end_name = s2.station_name;\n",
    "\n",
    "SELECT *\n",
    "FROM station_combos_with_id\n",
    "LIMIT 10;"
   ]
  },
  {
   "cell_type": "code",
   "execution_count": 72,
   "id": "187e829e",
   "metadata": {},
   "outputs": [
    {
     "name": "stdout",
     "output_type": "stream",
     "text": [
      " * sqlite:///bike_trip_db\n",
      "Done.\n",
      "Done.\n",
      "Done.\n"
     ]
    },
    {
     "data": {
      "text/html": [
       "<table>\n",
       "    <thead>\n",
       "        <tr>\n",
       "            <th>trip_id</th>\n",
       "            <th>start_id</th>\n",
       "            <th>start_name</th>\n",
       "            <th>start_neighborhood</th>\n",
       "            <th>end_id</th>\n",
       "            <th>end_name</th>\n",
       "            <th>end_neighborhood</th>\n",
       "            <th>start_time</th>\n",
       "            <th>end_time</th>\n",
       "            <th>duration</th>\n",
       "            <th>distance</th>\n",
       "            <th>bike_id</th>\n",
       "            <th>plan_duration</th>\n",
       "            <th>trip_route_category</th>\n",
       "            <th>passholder_type</th>\n",
       "            <th>bike_type</th>\n",
       "        </tr>\n",
       "    </thead>\n",
       "    <tbody>\n",
       "        <tr>\n",
       "            <td>306773863</td>\n",
       "            <td>3049</td>\n",
       "            <td>Foglietta Plaza</td>\n",
       "            <td>Center City</td>\n",
       "            <td>3007</td>\n",
       "            <td>11th &amp; Pine, Kahn Park</td>\n",
       "            <td>Washington Square West</td>\n",
       "            <td>2019-01-01 00:19:00</td>\n",
       "            <td>2019-01-01 00:27:00</td>\n",
       "            <td>8</td>\n",
       "            <td>1.3</td>\n",
       "            <td>14495</td>\n",
       "            <td>30.0</td>\n",
       "            <td>One Way</td>\n",
       "            <td>Indego30</td>\n",
       "            <td>standard</td>\n",
       "        </tr>\n",
       "        <tr>\n",
       "            <td>306773862</td>\n",
       "            <td>3005</td>\n",
       "            <td>Welcome Park, NPS</td>\n",
       "            <td>Center City East</td>\n",
       "            <td>3007</td>\n",
       "            <td>11th &amp; Pine, Kahn Park</td>\n",
       "            <td>Washington Square West</td>\n",
       "            <td>2019-01-01 00:30:00</td>\n",
       "            <td>2019-01-01 00:37:00</td>\n",
       "            <td>7</td>\n",
       "            <td>1.2</td>\n",
       "            <td>05332</td>\n",
       "            <td>1.0</td>\n",
       "            <td>One Way</td>\n",
       "            <td>Day Pass</td>\n",
       "            <td>standard</td>\n",
       "        </tr>\n",
       "        <tr>\n",
       "            <td>306773861</td>\n",
       "            <td>3166</td>\n",
       "            <td>Frankford &amp; Belgrade</td>\n",
       "            <td>North Philadelphia</td>\n",
       "            <td>3169</td>\n",
       "            <td>2nd &amp; Race</td>\n",
       "            <td>Center City East</td>\n",
       "            <td>2019-01-01 00:52:00</td>\n",
       "            <td>2019-01-01 01:05:00</td>\n",
       "            <td>13</td>\n",
       "            <td>1.6</td>\n",
       "            <td>14623</td>\n",
       "            <td>30.0</td>\n",
       "            <td>One Way</td>\n",
       "            <td>Indego30</td>\n",
       "            <td>standard</td>\n",
       "        </tr>\n",
       "        <tr>\n",
       "            <td>306773860</td>\n",
       "            <td>3058</td>\n",
       "            <td>20th &amp; Fairmount</td>\n",
       "            <td>North Philadelphia</td>\n",
       "            <td>3103</td>\n",
       "            <td>27th &amp; Master, Athletic Recreation Center</td>\n",
       "            <td>North Philadelphia</td>\n",
       "            <td>2019-01-01 00:55:00</td>\n",
       "            <td>2019-01-01 01:04:00</td>\n",
       "            <td>9</td>\n",
       "            <td>1.3</td>\n",
       "            <td>11706</td>\n",
       "            <td>30.0</td>\n",
       "            <td>One Way</td>\n",
       "            <td>Indego30</td>\n",
       "            <td>standard</td>\n",
       "        </tr>\n",
       "        <tr>\n",
       "            <td>306773859</td>\n",
       "            <td>3182</td>\n",
       "            <td>17th &amp; Sansom</td>\n",
       "            <td>Center City West</td>\n",
       "            <td>3028</td>\n",
       "            <td>4th &amp; Bainbridge</td>\n",
       "            <td>Queen Village</td>\n",
       "            <td>2019-01-01 01:05:00</td>\n",
       "            <td>2019-01-01 01:17:00</td>\n",
       "            <td>12</td>\n",
       "            <td>1.9</td>\n",
       "            <td>11039</td>\n",
       "            <td>30.0</td>\n",
       "            <td>One Way</td>\n",
       "            <td>Indego30</td>\n",
       "            <td>standard</td>\n",
       "        </tr>\n",
       "    </tbody>\n",
       "</table>"
      ],
      "text/plain": [
       "[(306773863, 3049, 'Foglietta Plaza', 'Center City', 3007, '11th & Pine, Kahn Park', 'Washington Square West', '2019-01-01 00:19:00', '2019-01-01 00:27:00', 8, 1.3, '14495', 30.0, 'One Way', 'Indego30', 'standard'),\n",
       " (306773862, 3005, 'Welcome Park, NPS', 'Center City East', 3007, '11th & Pine, Kahn Park', 'Washington Square West', '2019-01-01 00:30:00', '2019-01-01 00:37:00', 7, 1.2, '05332', 1.0, 'One Way', 'Day Pass', 'standard'),\n",
       " (306773861, 3166, 'Frankford & Belgrade', 'North Philadelphia', 3169, '2nd & Race', 'Center City East', '2019-01-01 00:52:00', '2019-01-01 01:05:00', 13, 1.6, '14623', 30.0, 'One Way', 'Indego30', 'standard'),\n",
       " (306773860, 3058, '20th & Fairmount', 'North Philadelphia', 3103, '27th & Master, Athletic Recreation Center', 'North Philadelphia', '2019-01-01 00:55:00', '2019-01-01 01:04:00', 9, 1.3, '11706', 30.0, 'One Way', 'Indego30', 'standard'),\n",
       " (306773859, 3182, '17th & Sansom', 'Center City West', 3028, '4th & Bainbridge', 'Queen Village', '2019-01-01 01:05:00', '2019-01-01 01:17:00', 12, 1.9, '11039', 30.0, 'One Way', 'Indego30', 'standard')]"
      ]
     },
     "execution_count": 72,
     "metadata": {},
     "output_type": "execute_result"
    }
   ],
   "source": [
    "%%sql\n",
    "DROP VIEW IF EXISTS trips_with_distance;\n",
    "\n",
    "CREATE VIEW trips_with_distance AS\n",
    "    SELECT \n",
    "        t.trip_id,\n",
    "        scwi.start_id,\n",
    "        scwi.start_name,\n",
    "        scwi.start_neighborhood,\n",
    "        scwi.end_id,\n",
    "        scwi.end_name, \n",
    "        scwi.end_neighborhood,\n",
    "        t.start_time, \n",
    "        t.end_time,\n",
    "        t.duration,\n",
    "        scwi.distance,\n",
    "        t.bike_id,\n",
    "        t.plan_duration,\n",
    "        t.trip_route_category,\n",
    "        t.passholder_type,\n",
    "        t.bike_type\n",
    "    FROM trips t \n",
    "    LEFT JOIN station_combos_with_id scwi\n",
    "    ON t.start_station = scwi.start_id AND t.end_station = scwi.end_id;\n",
    "\n",
    "SELECT * FROM trips_with_distance\n",
    "LIMIT 5;"
   ]
  },
  {
   "cell_type": "markdown",
   "id": "b3ce63a7",
   "metadata": {},
   "source": [
    "## Analyze trip data\n",
    "[Return to top](#Part-3:-Indego-Data-Analysis-with-SQL-and-Pandas)"
   ]
  },
  {
   "cell_type": "markdown",
   "id": "7b104399",
   "metadata": {},
   "source": [
    "<br>Which neighborhoods are the most trips between?"
   ]
  },
  {
   "cell_type": "code",
   "execution_count": 173,
   "id": "cefd4fdb",
   "metadata": {},
   "outputs": [
    {
     "name": "stdout",
     "output_type": "stream",
     "text": [
      " * sqlite:///bike_trip_db\n",
      "Done.\n"
     ]
    },
    {
     "data": {
      "text/html": [
       "<table>\n",
       "    <thead>\n",
       "        <tr>\n",
       "            <th>start_neighborhood</th>\n",
       "            <th>end_neighborhood</th>\n",
       "            <th>count</th>\n",
       "        </tr>\n",
       "    </thead>\n",
       "    <tbody>\n",
       "        <tr>\n",
       "            <td>University City</td>\n",
       "            <td>University City</td>\n",
       "            <td>96560</td>\n",
       "        </tr>\n",
       "        <tr>\n",
       "            <td>North Philadelphia</td>\n",
       "            <td>North Philadelphia</td>\n",
       "            <td>81925</td>\n",
       "        </tr>\n",
       "        <tr>\n",
       "            <td>Center City</td>\n",
       "            <td>Center City</td>\n",
       "            <td>67468</td>\n",
       "        </tr>\n",
       "        <tr>\n",
       "            <td>North Philadelphia</td>\n",
       "            <td>Center City</td>\n",
       "            <td>40565</td>\n",
       "        </tr>\n",
       "        <tr>\n",
       "            <td>Center City East</td>\n",
       "            <td>Center City East</td>\n",
       "            <td>38701</td>\n",
       "        </tr>\n",
       "        <tr>\n",
       "            <td>Center City</td>\n",
       "            <td>North Philadelphia</td>\n",
       "            <td>38552</td>\n",
       "        </tr>\n",
       "        <tr>\n",
       "            <td>University City</td>\n",
       "            <td>Center City West</td>\n",
       "            <td>31194</td>\n",
       "        </tr>\n",
       "        <tr>\n",
       "            <td>Center City West</td>\n",
       "            <td>Center City West</td>\n",
       "            <td>30416</td>\n",
       "        </tr>\n",
       "        <tr>\n",
       "            <td>Center City West</td>\n",
       "            <td>University City</td>\n",
       "            <td>28368</td>\n",
       "        </tr>\n",
       "        <tr>\n",
       "            <td>Center City</td>\n",
       "            <td>Center City West</td>\n",
       "            <td>24888</td>\n",
       "        </tr>\n",
       "        <tr>\n",
       "            <td>Center City West</td>\n",
       "            <td>Center City</td>\n",
       "            <td>24861</td>\n",
       "        </tr>\n",
       "        <tr>\n",
       "            <td>University City</td>\n",
       "            <td>Center City</td>\n",
       "            <td>23869</td>\n",
       "        </tr>\n",
       "        <tr>\n",
       "            <td>Center City</td>\n",
       "            <td>Center City East</td>\n",
       "            <td>23094</td>\n",
       "        </tr>\n",
       "        <tr>\n",
       "            <td>Center City East</td>\n",
       "            <td>Center City</td>\n",
       "            <td>22830</td>\n",
       "        </tr>\n",
       "        <tr>\n",
       "            <td>Center City</td>\n",
       "            <td>University City</td>\n",
       "            <td>22099</td>\n",
       "        </tr>\n",
       "    </tbody>\n",
       "</table>"
      ],
      "text/plain": [
       "[('University City', 'University City', 96560),\n",
       " ('North Philadelphia', 'North Philadelphia', 81925),\n",
       " ('Center City', 'Center City', 67468),\n",
       " ('North Philadelphia', 'Center City', 40565),\n",
       " ('Center City East', 'Center City East', 38701),\n",
       " ('Center City', 'North Philadelphia', 38552),\n",
       " ('University City', 'Center City West', 31194),\n",
       " ('Center City West', 'Center City West', 30416),\n",
       " ('Center City West', 'University City', 28368),\n",
       " ('Center City', 'Center City West', 24888),\n",
       " ('Center City West', 'Center City', 24861),\n",
       " ('University City', 'Center City', 23869),\n",
       " ('Center City', 'Center City East', 23094),\n",
       " ('Center City East', 'Center City', 22830),\n",
       " ('Center City', 'University City', 22099)]"
      ]
     },
     "execution_count": 173,
     "metadata": {},
     "output_type": "execute_result"
    }
   ],
   "source": [
    "%%sql\n",
    "SELECT start_neighborhood, end_neighborhood, COUNT(*) count\n",
    "FROM trips_with_distance\n",
    "GROUP BY start_neighborhood, end_neighborhood\n",
    "ORDER BY count DESC\n",
    "LIMIT 15;"
   ]
  },
  {
   "cell_type": "markdown",
   "id": "4d73eb00",
   "metadata": {},
   "source": [
    "<br>The same query, but filtering out results where start and end neighborhood match"
   ]
  },
  {
   "cell_type": "code",
   "execution_count": 82,
   "id": "c437f14c",
   "metadata": {},
   "outputs": [
    {
     "name": "stdout",
     "output_type": "stream",
     "text": [
      " * sqlite:///bike_trip_db\n",
      "Done.\n"
     ]
    },
    {
     "data": {
      "text/html": [
       "<table>\n",
       "    <thead>\n",
       "        <tr>\n",
       "            <th>start_neighborhood</th>\n",
       "            <th>end_neighborhood</th>\n",
       "            <th>count</th>\n",
       "        </tr>\n",
       "    </thead>\n",
       "    <tbody>\n",
       "        <tr>\n",
       "            <td>North Philadelphia</td>\n",
       "            <td>Center City</td>\n",
       "            <td>40565</td>\n",
       "        </tr>\n",
       "        <tr>\n",
       "            <td>Center City</td>\n",
       "            <td>North Philadelphia</td>\n",
       "            <td>38552</td>\n",
       "        </tr>\n",
       "        <tr>\n",
       "            <td>University City</td>\n",
       "            <td>Center City West</td>\n",
       "            <td>31194</td>\n",
       "        </tr>\n",
       "        <tr>\n",
       "            <td>Center City West</td>\n",
       "            <td>University City</td>\n",
       "            <td>28368</td>\n",
       "        </tr>\n",
       "        <tr>\n",
       "            <td>Center City</td>\n",
       "            <td>Center City West</td>\n",
       "            <td>24888</td>\n",
       "        </tr>\n",
       "        <tr>\n",
       "            <td>Center City West</td>\n",
       "            <td>Center City</td>\n",
       "            <td>24861</td>\n",
       "        </tr>\n",
       "        <tr>\n",
       "            <td>University City</td>\n",
       "            <td>Center City</td>\n",
       "            <td>23869</td>\n",
       "        </tr>\n",
       "        <tr>\n",
       "            <td>Center City</td>\n",
       "            <td>Center City East</td>\n",
       "            <td>23094</td>\n",
       "        </tr>\n",
       "        <tr>\n",
       "            <td>Center City East</td>\n",
       "            <td>Center City</td>\n",
       "            <td>22830</td>\n",
       "        </tr>\n",
       "        <tr>\n",
       "            <td>Center City</td>\n",
       "            <td>University City</td>\n",
       "            <td>22099</td>\n",
       "        </tr>\n",
       "    </tbody>\n",
       "</table>"
      ],
      "text/plain": [
       "[('North Philadelphia', 'Center City', 40565),\n",
       " ('Center City', 'North Philadelphia', 38552),\n",
       " ('University City', 'Center City West', 31194),\n",
       " ('Center City West', 'University City', 28368),\n",
       " ('Center City', 'Center City West', 24888),\n",
       " ('Center City West', 'Center City', 24861),\n",
       " ('University City', 'Center City', 23869),\n",
       " ('Center City', 'Center City East', 23094),\n",
       " ('Center City East', 'Center City', 22830),\n",
       " ('Center City', 'University City', 22099)]"
      ]
     },
     "execution_count": 82,
     "metadata": {},
     "output_type": "execute_result"
    }
   ],
   "source": [
    "%%sql\n",
    "SELECT start_neighborhood, end_neighborhood, COUNT(*) count\n",
    "FROM trips_with_distance\n",
    "GROUP BY start_neighborhood, end_neighborhood\n",
    "HAVING start_neighborhood <> end_neighborhood\n",
    "ORDER BY count DESC\n",
    "LIMIT 10;"
   ]
  },
  {
   "cell_type": "markdown",
   "id": "6f73f73c",
   "metadata": {},
   "source": [
    "<br>Which station has the fewest trips (start or end)?"
   ]
  },
  {
   "cell_type": "code",
   "execution_count": 103,
   "id": "65c34054",
   "metadata": {},
   "outputs": [
    {
     "name": "stdout",
     "output_type": "stream",
     "text": [
      " * sqlite:///bike_trip_db\n",
      "Done.\n"
     ]
    },
    {
     "data": {
      "text/html": [
       "<table>\n",
       "    <thead>\n",
       "        <tr>\n",
       "            <th>station_name</th>\n",
       "            <th>count</th>\n",
       "            <th>count_rank</th>\n",
       "        </tr>\n",
       "    </thead>\n",
       "    <tbody>\n",
       "        <tr>\n",
       "            <td>2nd &amp; Germantown</td>\n",
       "            <td>3</td>\n",
       "            <td>1</td>\n",
       "        </tr>\n",
       "        <tr>\n",
       "            <td>4th &amp; Wood</td>\n",
       "            <td>11</td>\n",
       "            <td>2</td>\n",
       "        </tr>\n",
       "        <tr>\n",
       "            <td>15th &amp; Walnut</td>\n",
       "            <td>19</td>\n",
       "            <td>3</td>\n",
       "        </tr>\n",
       "    </tbody>\n",
       "</table>"
      ],
      "text/plain": [
       "[('2nd & Germantown', 3, 1), ('4th & Wood', 11, 2), ('15th & Walnut', 19, 3)]"
      ]
     },
     "execution_count": 103,
     "metadata": {},
     "output_type": "execute_result"
    }
   ],
   "source": [
    "%%sql\n",
    "\n",
    "WITH num_trips_start AS (\n",
    "    SELECT start_name station_name, COUNT(*) count\n",
    "    FROM trips_with_distance\n",
    "    GROUP BY start_name\n",
    "    ),\n",
    "\n",
    "    num_trips_end AS (\n",
    "    SELECT end_name station_name, COUNT(*) count\n",
    "    FROM trips_with_distance\n",
    "    GROUP BY end_name\n",
    "    ),\n",
    "    \n",
    "    num_trips_total AS (\n",
    "    SELECT * FROM num_trips_start\n",
    "    UNION ALL\n",
    "    SELECT * FROM num_trips_end\n",
    "    )\n",
    "\n",
    "SELECT * FROM (\n",
    "    SELECT \n",
    "        *,\n",
    "        RANK () OVER (\n",
    "            ORDER BY count\n",
    "        ) count_rank\n",
    "    FROM num_trips_total\n",
    "    GROUP BY station_name\n",
    ") WHERE count_rank <=3 "
   ]
  },
  {
   "cell_type": "markdown",
   "id": "0283b16b",
   "metadata": {},
   "source": [
    "## Analyze trip data for standard vs electric bikes\n",
    "[Return to top](#Part-3:-Indego-Data-Analysis-with-SQL-and-Pandas)"
   ]
  },
  {
   "cell_type": "markdown",
   "id": "12b77a54",
   "metadata": {},
   "source": [
    "<br>What percentages of trips use standard vs electric bikes?"
   ]
  },
  {
   "cell_type": "code",
   "execution_count": 112,
   "id": "e6b287eb",
   "metadata": {
    "scrolled": true
   },
   "outputs": [
    {
     "name": "stdout",
     "output_type": "stream",
     "text": [
      " * sqlite:///bike_trip_db\n",
      "Done.\n"
     ]
    },
    {
     "data": {
      "text/html": [
       "<table>\n",
       "    <thead>\n",
       "        <tr>\n",
       "            <th>bike_type</th>\n",
       "            <th>count</th>\n",
       "            <th>percent_trips</th>\n",
       "        </tr>\n",
       "    </thead>\n",
       "    <tbody>\n",
       "        <tr>\n",
       "            <td>electric</td>\n",
       "            <td>424995</td>\n",
       "            <td>21.351168048229088</td>\n",
       "        </tr>\n",
       "        <tr>\n",
       "            <td>standard</td>\n",
       "            <td>1565505</td>\n",
       "            <td>78.64883195177092</td>\n",
       "        </tr>\n",
       "    </tbody>\n",
       "</table>"
      ],
      "text/plain": [
       "[('electric', 424995, 21.351168048229088),\n",
       " ('standard', 1565505, 78.64883195177092)]"
      ]
     },
     "execution_count": 112,
     "metadata": {},
     "output_type": "execute_result"
    }
   ],
   "source": [
    "%%sql\n",
    "SELECT \n",
    "    bike_type, \n",
    "    COUNT(*) count, \n",
    "    100.0 * COUNT(*) / (SELECT COUNT(*) FROM trips_with_distance) percent_trips\n",
    "FROM trips_with_distance\n",
    "GROUP BY bike_type"
   ]
  },
  {
   "cell_type": "markdown",
   "id": "7de2616d",
   "metadata": {},
   "source": [
    "<br>**Broken down by year,** what percentages of trips use standard vs electric bikes?"
   ]
  },
  {
   "cell_type": "code",
   "execution_count": 117,
   "id": "ddd2cb6a",
   "metadata": {},
   "outputs": [
    {
     "name": "stdout",
     "output_type": "stream",
     "text": [
      " * sqlite:///bike_trip_db\n",
      "(sqlite3.OperationalError) near \"FROM\": syntax error\n",
      "[SQL: SELECT \n",
      "    EXTRACT(year FROM start_time) AS year,\n",
      "    bike_type, \n",
      "    COUNT(*) count, \n",
      "    100.0 * COUNT(*) / (SELECT COUNT(*) FROM trips_with_distance) percent_trips\n",
      "FROM trips_with_distance\n",
      "GROUP BY EXTRACT(year FROM start_time), bike_type]\n",
      "(Background on this error at: https://sqlalche.me/e/14/e3q8)\n"
     ]
    }
   ],
   "source": [
    "%%sql\n",
    "SELECT \n",
    "    EXTRACT(year FROM start_time) AS year,\n",
    "    bike_type, \n",
    "    COUNT(*) count, \n",
    "    100.0 * COUNT(*) / (SELECT COUNT(*) FROM trips_with_distance) percent_trips\n",
    "FROM trips_with_distance\n",
    "GROUP BY EXTRACT(year FROM start_time), bike_type"
   ]
  },
  {
   "cell_type": "code",
   "execution_count": 131,
   "id": "c2562812",
   "metadata": {},
   "outputs": [
    {
     "name": "stdout",
     "output_type": "stream",
     "text": [
      " * sqlite:///bike_trip_db\n",
      "Done.\n"
     ]
    },
    {
     "data": {
      "text/html": [
       "<table>\n",
       "    <thead>\n",
       "        <tr>\n",
       "            <th>year</th>\n",
       "            <th>bike_type</th>\n",
       "            <th>count</th>\n",
       "            <th>percent_trips</th>\n",
       "            <th>num_bikes</th>\n",
       "        </tr>\n",
       "    </thead>\n",
       "    <tbody>\n",
       "        <tr>\n",
       "            <td>2019</td>\n",
       "            <td>electric</td>\n",
       "            <td>96672</td>\n",
       "            <td>13.687353724477443</td>\n",
       "            <td>265</td>\n",
       "        </tr>\n",
       "        <tr>\n",
       "            <td>2019</td>\n",
       "            <td>standard</td>\n",
       "            <td>609615</td>\n",
       "            <td>86.31264627552255</td>\n",
       "            <td>2163</td>\n",
       "        </tr>\n",
       "        <tr>\n",
       "            <td>2020</td>\n",
       "            <td>electric</td>\n",
       "            <td>146381</td>\n",
       "            <td>20.72542748202926</td>\n",
       "            <td>350</td>\n",
       "        </tr>\n",
       "        <tr>\n",
       "            <td>2020</td>\n",
       "            <td>standard</td>\n",
       "            <td>543346</td>\n",
       "            <td>76.92991659198032</td>\n",
       "            <td>1244</td>\n",
       "        </tr>\n",
       "        <tr>\n",
       "            <td>2021</td>\n",
       "            <td>electric</td>\n",
       "            <td>181942</td>\n",
       "            <td>25.760349546289255</td>\n",
       "            <td>579</td>\n",
       "        </tr>\n",
       "        <tr>\n",
       "            <td>2021</td>\n",
       "            <td>standard</td>\n",
       "            <td>412544</td>\n",
       "            <td>58.410249657717046</td>\n",
       "            <td>1087</td>\n",
       "        </tr>\n",
       "    </tbody>\n",
       "</table>"
      ],
      "text/plain": [
       "[('2019', 'electric', 96672, 13.687353724477443, 265),\n",
       " ('2019', 'standard', 609615, 86.31264627552255, 2163),\n",
       " ('2020', 'electric', 146381, 20.72542748202926, 350),\n",
       " ('2020', 'standard', 543346, 76.92991659198032, 1244),\n",
       " ('2021', 'electric', 181942, 25.760349546289255, 579),\n",
       " ('2021', 'standard', 412544, 58.410249657717046, 1087)]"
      ]
     },
     "execution_count": 131,
     "metadata": {},
     "output_type": "execute_result"
    }
   ],
   "source": [
    "%%sql\n",
    "SELECT \n",
    "    strftime('%Y',start_time) year,\n",
    "    bike_type, \n",
    "    COUNT(*) count, \n",
    "    100.0 * COUNT(*) / (SELECT COUNT(*) FROM trips_with_distance GROUP BY strftime('%Y',start_time)) percent_trips,\n",
    "    COUNT(DISTINCT bike_id) num_bikes\n",
    "FROM trips_with_distance\n",
    "GROUP BY year, bike_type"
   ]
  },
  {
   "cell_type": "code",
   "execution_count": 167,
   "id": "01d9c50b",
   "metadata": {},
   "outputs": [
    {
     "data": {
      "text/html": [
       "<div>\n",
       "<style scoped>\n",
       "    .dataframe tbody tr th:only-of-type {\n",
       "        vertical-align: middle;\n",
       "    }\n",
       "\n",
       "    .dataframe tbody tr th {\n",
       "        vertical-align: top;\n",
       "    }\n",
       "\n",
       "    .dataframe thead th {\n",
       "        text-align: right;\n",
       "    }\n",
       "</style>\n",
       "<table border=\"1\" class=\"dataframe\">\n",
       "  <thead>\n",
       "    <tr style=\"text-align: right;\">\n",
       "      <th></th>\n",
       "      <th>year</th>\n",
       "      <th>bike_type</th>\n",
       "      <th>count</th>\n",
       "      <th>percent_trips</th>\n",
       "      <th>num_bikes</th>\n",
       "    </tr>\n",
       "  </thead>\n",
       "  <tbody>\n",
       "    <tr>\n",
       "      <th>0</th>\n",
       "      <td>2019</td>\n",
       "      <td>electric</td>\n",
       "      <td>96672</td>\n",
       "      <td>13.687354</td>\n",
       "      <td>265</td>\n",
       "    </tr>\n",
       "    <tr>\n",
       "      <th>1</th>\n",
       "      <td>2019</td>\n",
       "      <td>standard</td>\n",
       "      <td>609615</td>\n",
       "      <td>86.312646</td>\n",
       "      <td>2163</td>\n",
       "    </tr>\n",
       "    <tr>\n",
       "      <th>2</th>\n",
       "      <td>2020</td>\n",
       "      <td>electric</td>\n",
       "      <td>146381</td>\n",
       "      <td>20.725427</td>\n",
       "      <td>350</td>\n",
       "    </tr>\n",
       "    <tr>\n",
       "      <th>3</th>\n",
       "      <td>2020</td>\n",
       "      <td>standard</td>\n",
       "      <td>543346</td>\n",
       "      <td>76.929917</td>\n",
       "      <td>1244</td>\n",
       "    </tr>\n",
       "    <tr>\n",
       "      <th>4</th>\n",
       "      <td>2021</td>\n",
       "      <td>electric</td>\n",
       "      <td>181942</td>\n",
       "      <td>25.760350</td>\n",
       "      <td>579</td>\n",
       "    </tr>\n",
       "    <tr>\n",
       "      <th>5</th>\n",
       "      <td>2021</td>\n",
       "      <td>standard</td>\n",
       "      <td>412544</td>\n",
       "      <td>58.410250</td>\n",
       "      <td>1087</td>\n",
       "    </tr>\n",
       "  </tbody>\n",
       "</table>\n",
       "</div>"
      ],
      "text/plain": [
       "   year bike_type   count  percent_trips  num_bikes\n",
       "0  2019  electric   96672      13.687354        265\n",
       "1  2019  standard  609615      86.312646       2163\n",
       "2  2020  electric  146381      20.725427        350\n",
       "3  2020  standard  543346      76.929917       1244\n",
       "4  2021  electric  181942      25.760350        579\n",
       "5  2021  standard  412544      58.410250       1087"
      ]
     },
     "execution_count": 167,
     "metadata": {},
     "output_type": "execute_result"
    }
   ],
   "source": [
    "import pandas as pd\n",
    "import matplotlib.pyplot as plt\n",
    "\n",
    "summary_bike_type = pd.read_sql('''\n",
    "SELECT \n",
    "    strftime('%Y',start_time) year,\n",
    "    bike_type, \n",
    "    COUNT(*) count, \n",
    "    100.0 * COUNT(*) / (SELECT COUNT(*) FROM trips_with_distance GROUP BY strftime('%Y',start_time)) percent_trips,\n",
    "    COUNT(DISTINCT bike_id) num_bikes\n",
    "FROM trips_with_distance\n",
    "GROUP BY year, bike_type''', 'sqlite:///bike_trip_db')\n",
    "\n",
    "summary_bike_type"
   ]
  },
  {
   "cell_type": "code",
   "execution_count": 170,
   "id": "8ed43562",
   "metadata": {},
   "outputs": [
    {
     "data": {
      "image/png": "[encoded data removed]",
      "text/plain": [
       "<Figure size 432x288 with 1 Axes>"
      ]
     },
     "metadata": {
      "needs_background": "light"
     },
     "output_type": "display_data"
    }
   ],
   "source": [
    "plt.title(\"Rides per Year by Bike Type\")\n",
    "plt.xlabel(\"Year\")\n",
    "plt.ylabel(\"Number of rides\")\n",
    "plt.plot(summary_bike_type['year'].unique(), summary_bike_type.loc[summary_bike_type['bike_type'] == 'electric', 'count'], label=\"Electric\")\n",
    "plt.plot(summary_bike_type['year'].unique(), summary_bike_type.loc[summary_bike_type['bike_type'] == 'standard', 'count'], label=\"Standard\")\n",
    "\n",
    "plt.legend()\n",
    "plt.show()"
   ]
  },
  {
   "cell_type": "code",
   "execution_count": 171,
   "id": "7e9c587b",
   "metadata": {},
   "outputs": [
    {
     "data": {
      "image/png": "[encoded data removed]",
      "text/plain": [
       "<Figure size 432x288 with 1 Axes>"
      ]
     },
     "metadata": {
      "needs_background": "light"
     },
     "output_type": "display_data"
    }
   ],
   "source": [
    "plt.title(\"# Bikes per Year by Bike Type\")\n",
    "plt.xlabel(\"Year\")\n",
    "plt.ylabel(\"Number of bikes\")\n",
    "plt.plot(summary_bike_type['year'].unique(), summary_bike_type.loc[summary_bike_type['bike_type'] == 'electric', 'num_bikes'], label=\"Electric\")\n",
    "plt.plot(summary_bike_type['year'].unique(), summary_bike_type.loc[summary_bike_type['bike_type'] == 'standard', 'num_bikes'], label=\"Standard\")\n",
    "\n",
    "plt.legend()\n",
    "plt.show()"
   ]
  },
  {
   "cell_type": "markdown",
   "id": "d322fff6",
   "metadata": {},
   "source": [
    "<br>How does mean trip time and distance between start and end station compare when using standard vs electric bikes?"
   ]
  },
  {
   "cell_type": "code",
   "execution_count": null,
   "id": "b86cebfa",
   "metadata": {},
   "outputs": [],
   "source": []
  },
  {
   "cell_type": "markdown",
   "id": "52a00357",
   "metadata": {},
   "source": [
    "<br>Do riders with day passes favor standard or electric bikes?"
   ]
  },
  {
   "cell_type": "code",
   "execution_count": null,
   "id": "b836d364",
   "metadata": {},
   "outputs": [],
   "source": []
  }
 ],
 "metadata": {
  "kernelspec": {
   "display_name": "Python 3 (ipykernel)",
   "language": "python",
   "name": "python3"
  },
  "language_info": {
   "codemirror_mode": {
    "name": "ipython",
    "version": 3
   },
   "file_extension": ".py",
   "mimetype": "text/x-python",
   "name": "python",
   "nbconvert_exporter": "python",
   "pygments_lexer": "ipython3",
   "version": "3.9.7"
  }
 },
 "nbformat": 4,
 "nbformat_minor": 5
}
