{
 "cells": [
  {
   "cell_type": "markdown",
   "id": "645a0cb6",
   "metadata": {},
   "source": [
    "<a name=\"top\"></a>\n",
    "# Indego City Bike Trip Data Analysis with Google Maps APIs\n",
    "\n",
    "Indego publishes quarterly data on city bike usage. The following analysis looks at data for Q3 2021\n",
    "\n",
    "Some questions this analysis will aim to answer\n",
    "- Which neighborhoods have the highest number of Indego stations?\n",
    "- Which stations are most / least utilized?\n",
    "- Are trip distances longer with electric bikes than standard bikes?\n",
    "- How much revenue was generated from electric bike fees?\n",
    "\n",
    "Google Maps APIs will be used to enhance the data set with the following\n",
    "- Neighborhood information to each bike station\n",
    "- Distance between stations, following bike routes\n",
    "\n",
    "\n",
    "**Jump to** *(if viewing thru GitHub, jump to links will not work)*\n",
    "- [Load data and initialize API](#dataload)\n",
    "- [Add Neighborhood from Google Maps](#addn)\n",
    "- [Analyze station data](#stationdata)\n",
    "- [Join trip data with station data](#jointripdata)\n",
    "- [Clean trip data](#cleantripdata)\n",
    "- [Analyze trip data](#analyzetripdata)\n",
    "- [Add trip distance using Google Maps APIs](#adddistancedata)\n",
    "\n",
    "[View source data from Indego](https://www.rideindego.com/about/data/)"
   ]
  },
  {
   "cell_type": "markdown",
   "id": "a03f5621",
   "metadata": {},
   "source": [
    "## <a name=\"dataload\"></a> Load data and initialize API\n",
    "[Return to Top](#top)\n",
    "\n",
    "Import the necessary libraries:\n",
    "- dotenv to store API key\n",
    "- googlemaps library to access Maps APIs (originally, intended to use the APIs directly - but saw that Google has developed a set of python libraries that make it easier to work with their APIs)\n",
    "- pandas and numpy for data analysis"
   ]
  },
  {
   "cell_type": "code",
   "execution_count": 6,
   "id": "a1f8f6d3",
   "metadata": {},
   "outputs": [],
   "source": [
    "# Install if not already present\n",
    "# pip install -U googlemaps\n",
    "# pip install python-dotenv \n",
    "\n",
    "import googlemaps\n",
    "from datetime import datetime\n",
    "\n",
    "import os\n",
    "from dotenv import load_dotenv\n",
    "import pandas as pd\n",
    "import numpy as np\n",
    "\n",
    "import json"
   ]
  },
  {
   "cell_type": "markdown",
   "id": "d72a356c",
   "metadata": {},
   "source": [
    "Load data stored env file - this will primarily be used to store the Google API key, so the API key itself is not present in this file\n",
    "\n",
    "Load data stored in csv files, that include trip data and basic station data"
   ]
  },
  {
   "cell_type": "code",
   "execution_count": 7,
   "id": "6efa815f",
   "metadata": {},
   "outputs": [],
   "source": [
    "# Load env \n",
    "load_dotenv(\"indego.env\")\n",
    "\n",
    "# Load data from trip and station csv files\n",
    "trip_data = pd.read_csv(\"indego-trips-2021-q3.csv\", low_memory=False)\n",
    "#trip_data.index.name = None\n",
    "station_data = pd.read_csv(\"indego-stations-2021-10-01.csv\")"
   ]
  },
  {
   "cell_type": "markdown",
   "id": "e4b71e2c",
   "metadata": {},
   "source": [
    "Initialize Google Maps"
   ]
  },
  {
   "cell_type": "code",
   "execution_count": 8,
   "id": "7c9e5e0d",
   "metadata": {},
   "outputs": [],
   "source": [
    "# Get the API key from the env file\n",
    "api_key = os.getenv('API_KEY')\n",
    "\n",
    "# Initialize google maps API\n",
    "gmaps = googlemaps.Client(key=api_key)"
   ]
  },
  {
   "cell_type": "markdown",
   "id": "6b8b34ed",
   "metadata": {},
   "source": [
    "<a name=\"#addn\"></a> "
   ]
  },
  {
   "cell_type": "markdown",
   "id": "632307e8",
   "metadata": {},
   "source": [
    "## <a name=\"#addn\"></a> Add Neighborhood to station data, using Geocode API\n",
    "[Return to Top](#top)\n",
    "\n",
    "- Get an overview of station data\n",
    "- Add a Neighborhood attribute to station data, based on Google Maps geocode data"
   ]
  },
  {
   "cell_type": "markdown",
   "id": "e0f4ffe7",
   "metadata": {},
   "source": [
    "Print some basic info about station data"
   ]
  },
  {
   "cell_type": "code",
   "execution_count": 9,
   "id": "bcacea11",
   "metadata": {
    "scrolled": true
   },
   "outputs": [
    {
     "name": "stdout",
     "output_type": "stream",
     "text": [
      "Rows and colums:\n",
      "(179, 4)\n",
      "\n"
     ]
    },
    {
     "data": {
      "text/html": [
       "<div>\n",
       "<style scoped>\n",
       "    .dataframe tbody tr th:only-of-type {\n",
       "        vertical-align: middle;\n",
       "    }\n",
       "\n",
       "    .dataframe tbody tr th {\n",
       "        vertical-align: top;\n",
       "    }\n",
       "\n",
       "    .dataframe thead th {\n",
       "        text-align: right;\n",
       "    }\n",
       "</style>\n",
       "<table border=\"1\" class=\"dataframe\">\n",
       "  <thead>\n",
       "    <tr style=\"text-align: right;\">\n",
       "      <th></th>\n",
       "      <th>Station_ID</th>\n",
       "      <th>Station_Name</th>\n",
       "      <th>Day of Go_live_date</th>\n",
       "      <th>Status</th>\n",
       "    </tr>\n",
       "  </thead>\n",
       "  <tbody>\n",
       "    <tr>\n",
       "      <th>0</th>\n",
       "      <td>3000</td>\n",
       "      <td>Virtual Station</td>\n",
       "      <td>4/23/2015</td>\n",
       "      <td>Active</td>\n",
       "    </tr>\n",
       "    <tr>\n",
       "      <th>1</th>\n",
       "      <td>3004</td>\n",
       "      <td>Municipal Services Building Plaza</td>\n",
       "      <td>4/23/2015</td>\n",
       "      <td>Active</td>\n",
       "    </tr>\n",
       "    <tr>\n",
       "      <th>2</th>\n",
       "      <td>3005</td>\n",
       "      <td>Welcome Park, NPS</td>\n",
       "      <td>4/23/2015</td>\n",
       "      <td>Active</td>\n",
       "    </tr>\n",
       "    <tr>\n",
       "      <th>3</th>\n",
       "      <td>3006</td>\n",
       "      <td>40th &amp; Spruce</td>\n",
       "      <td>4/23/2015</td>\n",
       "      <td>Active</td>\n",
       "    </tr>\n",
       "    <tr>\n",
       "      <th>4</th>\n",
       "      <td>3007</td>\n",
       "      <td>11th &amp; Pine, Kahn Park</td>\n",
       "      <td>4/23/2015</td>\n",
       "      <td>Active</td>\n",
       "    </tr>\n",
       "  </tbody>\n",
       "</table>\n",
       "</div>"
      ],
      "text/plain": [
       "   Station_ID                       Station_Name Day of Go_live_date  Status\n",
       "0        3000                    Virtual Station           4/23/2015  Active\n",
       "1        3004  Municipal Services Building Plaza           4/23/2015  Active\n",
       "2        3005                  Welcome Park, NPS           4/23/2015  Active\n",
       "3        3006                      40th & Spruce           4/23/2015  Active\n",
       "4        3007             11th & Pine, Kahn Park           4/23/2015  Active"
      ]
     },
     "execution_count": 9,
     "metadata": {},
     "output_type": "execute_result"
    }
   ],
   "source": [
    "print(\"Rows and colums:\")\n",
    "print(station_data.shape)\n",
    "print()\n",
    "station_data.head(5)"
   ]
  },
  {
   "cell_type": "markdown",
   "id": "b581b0b2",
   "metadata": {},
   "source": [
    "<br>\n",
    "Add a Full_Name column, that includes the Station_Name + 'Philadelphia, PA' - this will be sent as part of the geocode request"
   ]
  },
  {
   "cell_type": "code",
   "execution_count": 10,
   "id": "23da03da",
   "metadata": {},
   "outputs": [
    {
     "data": {
      "text/html": [
       "<div>\n",
       "<style scoped>\n",
       "    .dataframe tbody tr th:only-of-type {\n",
       "        vertical-align: middle;\n",
       "    }\n",
       "\n",
       "    .dataframe tbody tr th {\n",
       "        vertical-align: top;\n",
       "    }\n",
       "\n",
       "    .dataframe thead th {\n",
       "        text-align: right;\n",
       "    }\n",
       "</style>\n",
       "<table border=\"1\" class=\"dataframe\">\n",
       "  <thead>\n",
       "    <tr style=\"text-align: right;\">\n",
       "      <th></th>\n",
       "      <th>Station_ID</th>\n",
       "      <th>Station_Name</th>\n",
       "      <th>Day of Go_live_date</th>\n",
       "      <th>Status</th>\n",
       "      <th>Full_Name</th>\n",
       "    </tr>\n",
       "  </thead>\n",
       "  <tbody>\n",
       "    <tr>\n",
       "      <th>0</th>\n",
       "      <td>3000</td>\n",
       "      <td>Virtual Station</td>\n",
       "      <td>4/23/2015</td>\n",
       "      <td>Active</td>\n",
       "      <td>Virtual Station, Philadelphia, PA</td>\n",
       "    </tr>\n",
       "    <tr>\n",
       "      <th>1</th>\n",
       "      <td>3004</td>\n",
       "      <td>Municipal Services Building Plaza</td>\n",
       "      <td>4/23/2015</td>\n",
       "      <td>Active</td>\n",
       "      <td>Municipal Services Building Plaza, Philadelphi...</td>\n",
       "    </tr>\n",
       "  </tbody>\n",
       "</table>\n",
       "</div>"
      ],
      "text/plain": [
       "   Station_ID                       Station_Name Day of Go_live_date  Status  \\\n",
       "0        3000                    Virtual Station           4/23/2015  Active   \n",
       "1        3004  Municipal Services Building Plaza           4/23/2015  Active   \n",
       "\n",
       "                                           Full_Name  \n",
       "0                  Virtual Station, Philadelphia, PA  \n",
       "1  Municipal Services Building Plaza, Philadelphi...  "
      ]
     },
     "execution_count": 10,
     "metadata": {},
     "output_type": "execute_result"
    }
   ],
   "source": [
    "station_data[\"Full_Name\"] = station_data[\"Station_Name\"] + (\", Philadelphia, PA\")\n",
    "station_data.head(2)"
   ]
  },
  {
   "cell_type": "markdown",
   "id": "8d889025",
   "metadata": {},
   "source": [
    "<br>\n",
    "Use the Google Maps geocode API to assign a Neighborhood to each station\n",
    "\n",
    "- For each station, call the API and pass the full station name\n",
    "\n",
    "- Parse the response to find the neighborhood value and assign it back to the station_data df\n"
   ]
  },
  {
   "cell_type": "code",
   "execution_count": 18,
   "id": "02030e43",
   "metadata": {
    "scrolled": true
   },
   "outputs": [
    {
     "name": "stdout",
     "output_type": "stream",
     "text": [
      "Neighborhood not found\n"
     ]
    }
   ],
   "source": [
    "# Iterate over each station\n",
    "for index, row in station_data.iterrows():\n",
    "    # Call the geocode API, for the current station\n",
    "    # geocode returns a dict with results\n",
    "    geocode = gmaps.geocode(station_data.loc[index,\"Full_Name\"])\n",
    "    \n",
    "    # Get address_components list in  result\n",
    "    gr = geocode[0][\"address_components\"]\n",
    "    found_neighborhood = False\n",
    "    \n",
    "    # Iterate through address_components, looking for \"neighborhood\"\n",
    "    # If found, assign the value into the df\n",
    "    for r in gr:\n",
    "        if \"neighborhood\" in r[\"types\"]:\n",
    "            station_data.loc[index,\"Neighborhood\"] = r[\"long_name\"]\n",
    "            found_neighborhood = True\n",
    "    # If no neighborhood is, assign NaN in the df\n",
    "    if found_neighborhood != True:\n",
    "        print(\"Neighborhood not found\")\n",
    "        station_data.loc[index,\"Neighborhood\"] = np.NaN"
   ]
  },
  {
   "cell_type": "markdown",
   "id": "e6a6977e",
   "metadata": {},
   "source": [
    "<br>\n",
    "Review Neighborhood data for any issues"
   ]
  },
  {
   "cell_type": "code",
   "execution_count": 19,
   "id": "da6713a1",
   "metadata": {},
   "outputs": [
    {
     "name": "stdout",
     "output_type": "stream",
     "text": [
      "     Station_ID  Station_Name Day of Go_live_date  Status                       Full_Name Neighborhood\n",
      "145        3204  17th & Green          11/14/2019  Active  17th & Green, Philadelphia, PA          NaN\n"
     ]
    }
   ],
   "source": [
    "# Find rows where Neighborhood == NaN\n",
    "missing_neighorhood = station_data.loc[station_data[\"Neighborhood\"].isna()]\n",
    "print(missing_neighorhood.to_string())"
   ]
  },
  {
   "cell_type": "markdown",
   "id": "1552ad0f",
   "metadata": {},
   "source": [
    "<br>\n",
    "Assign a value manually for the row with a missing neighborhood"
   ]
  },
  {
   "cell_type": "code",
   "execution_count": 20,
   "id": "ed0af61b",
   "metadata": {},
   "outputs": [],
   "source": [
    "station_data.loc[145, \"Neighborhood\"] = \"North Philadelphia\""
   ]
  },
  {
   "cell_type": "markdown",
   "id": "22724e14",
   "metadata": {},
   "source": [
    "## <a name=\"stationdata\"></a> Analyze station data\n",
    "[Return to Top](#top)\n",
    "\n",
    "- View station data stats by neighborhood\n",
    "- View active / inactive station stats\n",
    "- View top neighborhoods with active Indego stations"
   ]
  },
  {
   "cell_type": "markdown",
   "id": "cc64e54e",
   "metadata": {},
   "source": [
    "<br>\n",
    "\n",
    "Print a sorted list of neighborhoods by count of Indego stations"
   ]
  },
  {
   "cell_type": "code",
   "execution_count": 21,
   "id": "e07f7940",
   "metadata": {
    "scrolled": true
   },
   "outputs": [
    {
     "data": {
      "text/plain": [
       "Neighborhood\n",
       "North Philadelphia         35\n",
       "University City            25\n",
       "Center City                20\n",
       "Center City East           12\n",
       "Center City West           11\n",
       "West Philadelphia           8\n",
       "Rittenhouse Square          6\n",
       "Graduate Hospital           6\n",
       "Point Breeze                6\n",
       "Washington Square West      4\n",
       "South Philadelphia East     4\n",
       "South Philadelphia          4\n",
       "Bella Vista                 3\n",
       "Queen Village               3\n",
       "West Poplar                 3\n",
       "Grays Ferry                 3\n",
       "Society Hill                2\n",
       "Old City                    2\n",
       "Olde Kensington             2\n",
       "Chinatown                   2\n",
       "Mantua                      2\n",
       "Gayborhood                  2\n",
       "West Parkside               2\n",
       "East Passyunk Crossing      2\n",
       "Devil's Pocket              2\n",
       "South Philadelphia West     2\n",
       "Dickinson Narrows           1\n",
       "North Philadelphia West     1\n",
       "East Parkside               1\n",
       "Melrose                     1\n",
       "Pennsport                   1\n",
       "Northern Liberties          1\n",
       "dtype: int64"
      ]
     },
     "execution_count": 21,
     "metadata": {},
     "output_type": "execute_result"
    }
   ],
   "source": [
    "grouped = station_data.groupby(\"Neighborhood\")\n",
    "grouped.size().sort_values(ascending=False)"
   ]
  },
  {
   "cell_type": "markdown",
   "id": "e17363fe",
   "metadata": {},
   "source": [
    "*It would be more helpful here to have a visualization of distribution across the city - to be added*"
   ]
  },
  {
   "cell_type": "markdown",
   "id": "ea8a0986",
   "metadata": {},
   "source": [
    "<br>\n",
    "Are any stations inactive?"
   ]
  },
  {
   "cell_type": "code",
   "execution_count": 22,
   "id": "e9fdc6a4",
   "metadata": {},
   "outputs": [
    {
     "name": "stdout",
     "output_type": "stream",
     "text": [
      "Status\n",
      "Active      166\n",
      "Inactive     13\n",
      "dtype: int64\n"
     ]
    }
   ],
   "source": [
    "grouped = station_data.groupby(\"Status\")\n",
    "print(grouped.size().sort_values(ascending=False))"
   ]
  },
  {
   "cell_type": "markdown",
   "id": "f66f2417",
   "metadata": {},
   "source": [
    "<br>\n",
    "Find the top ten neighborhoods with active stations"
   ]
  },
  {
   "cell_type": "code",
   "execution_count": 24,
   "id": "a0bdac67",
   "metadata": {},
   "outputs": [
    {
     "data": {
      "text/plain": [
       "Neighborhood\n",
       "North Philadelphia        30\n",
       "University City           22\n",
       "Center City               19\n",
       "Center City East          12\n",
       "Center City West          11\n",
       "West Philadelphia          8\n",
       "Point Breeze               6\n",
       "Graduate Hospital          5\n",
       "Rittenhouse Square         5\n",
       "Washington Square West     4\n",
       "dtype: int64"
      ]
     },
     "execution_count": 24,
     "metadata": {},
     "output_type": "execute_result"
    }
   ],
   "source": [
    "grouped = grouped.get_group(\"Active\").groupby(\"Neighborhood\")\n",
    "grouped.size().sort_values(ascending=False).head(10)"
   ]
  },
  {
   "cell_type": "markdown",
   "id": "58c36e99",
   "metadata": {},
   "source": [
    "## <a name=\"jointripdata\"></a> Join trip data with station data\n",
    "[Return to Top](#top)"
   ]
  },
  {
   "cell_type": "code",
   "execution_count": 25,
   "id": "e78178aa",
   "metadata": {},
   "outputs": [],
   "source": [
    "# Run as needed to re-init trip_data from the csv file\n",
    "#trip_data = pd.read_csv(\"indego-trips-2021-q3.csv\", low_memory=False)"
   ]
  },
  {
   "cell_type": "markdown",
   "id": "1858b48e",
   "metadata": {},
   "source": [
    "Print some basic information on trip data"
   ]
  },
  {
   "cell_type": "code",
   "execution_count": 26,
   "id": "c16db2c0",
   "metadata": {
    "scrolled": true
   },
   "outputs": [
    {
     "name": "stdout",
     "output_type": "stream",
     "text": [
      "Rows and colums:\n",
      "(300432, 15)\n",
      "\n",
      "<class 'pandas.core.frame.DataFrame'>\n",
      "RangeIndex: 300432 entries, 0 to 300431\n",
      "Data columns (total 15 columns):\n",
      " #   Column               Non-Null Count   Dtype  \n",
      "---  ------               --------------   -----  \n",
      " 0   trip_id              300432 non-null  int64  \n",
      " 1   duration             300432 non-null  int64  \n",
      " 2   start_time           300432 non-null  object \n",
      " 3   end_time             300432 non-null  object \n",
      " 4   start_station        300432 non-null  int64  \n",
      " 5   start_lat            300412 non-null  float64\n",
      " 6   start_lon            300412 non-null  float64\n",
      " 7   end_station          300432 non-null  int64  \n",
      " 8   end_lat              296273 non-null  float64\n",
      " 9   end_lon              296273 non-null  float64\n",
      " 10  bike_id              300432 non-null  object \n",
      " 11  plan_duration        300432 non-null  int64  \n",
      " 12  trip_route_category  300432 non-null  object \n",
      " 13  passholder_type      300432 non-null  object \n",
      " 14  bike_type            300432 non-null  object \n",
      "dtypes: float64(4), int64(5), object(6)\n",
      "memory usage: 34.4+ MB\n"
     ]
    },
    {
     "data": {
      "text/html": [
       "<div>\n",
       "<style scoped>\n",
       "    .dataframe tbody tr th:only-of-type {\n",
       "        vertical-align: middle;\n",
       "    }\n",
       "\n",
       "    .dataframe tbody tr th {\n",
       "        vertical-align: top;\n",
       "    }\n",
       "\n",
       "    .dataframe thead th {\n",
       "        text-align: right;\n",
       "    }\n",
       "</style>\n",
       "<table border=\"1\" class=\"dataframe\">\n",
       "  <thead>\n",
       "    <tr style=\"text-align: right;\">\n",
       "      <th></th>\n",
       "      <th>trip_id</th>\n",
       "      <th>duration</th>\n",
       "      <th>start_time</th>\n",
       "      <th>end_time</th>\n",
       "      <th>start_station</th>\n",
       "      <th>start_lat</th>\n",
       "      <th>start_lon</th>\n",
       "      <th>end_station</th>\n",
       "      <th>end_lat</th>\n",
       "      <th>end_lon</th>\n",
       "      <th>bike_id</th>\n",
       "      <th>plan_duration</th>\n",
       "      <th>trip_route_category</th>\n",
       "      <th>passholder_type</th>\n",
       "      <th>bike_type</th>\n",
       "    </tr>\n",
       "  </thead>\n",
       "  <tbody>\n",
       "    <tr>\n",
       "      <th>0</th>\n",
       "      <td>398698761</td>\n",
       "      <td>11</td>\n",
       "      <td>7/1/2021 0:00</td>\n",
       "      <td>7/1/2021 0:11</td>\n",
       "      <td>3045</td>\n",
       "      <td>39.947922</td>\n",
       "      <td>-75.162369</td>\n",
       "      <td>3030</td>\n",
       "      <td>39.939350</td>\n",
       "      <td>-75.157158</td>\n",
       "      <td>3360</td>\n",
       "      <td>30</td>\n",
       "      <td>One Way</td>\n",
       "      <td>Indego30</td>\n",
       "      <td>standard</td>\n",
       "    </tr>\n",
       "    <tr>\n",
       "      <th>1</th>\n",
       "      <td>398698759</td>\n",
       "      <td>4</td>\n",
       "      <td>7/1/2021 0:02</td>\n",
       "      <td>7/1/2021 0:06</td>\n",
       "      <td>3052</td>\n",
       "      <td>39.947319</td>\n",
       "      <td>-75.156952</td>\n",
       "      <td>3238</td>\n",
       "      <td>39.946281</td>\n",
       "      <td>-75.151382</td>\n",
       "      <td>5420</td>\n",
       "      <td>30</td>\n",
       "      <td>One Way</td>\n",
       "      <td>Indego30</td>\n",
       "      <td>standard</td>\n",
       "    </tr>\n",
       "    <tr>\n",
       "      <th>2</th>\n",
       "      <td>398698757</td>\n",
       "      <td>56</td>\n",
       "      <td>7/1/2021 0:03</td>\n",
       "      <td>7/1/2021 0:59</td>\n",
       "      <td>3192</td>\n",
       "      <td>39.962070</td>\n",
       "      <td>-75.141113</td>\n",
       "      <td>3161</td>\n",
       "      <td>39.954861</td>\n",
       "      <td>-75.180908</td>\n",
       "      <td>18450</td>\n",
       "      <td>30</td>\n",
       "      <td>One Way</td>\n",
       "      <td>Indego30</td>\n",
       "      <td>electric</td>\n",
       "    </tr>\n",
       "    <tr>\n",
       "      <th>3</th>\n",
       "      <td>398698755</td>\n",
       "      <td>55</td>\n",
       "      <td>7/1/2021 0:04</td>\n",
       "      <td>7/1/2021 0:59</td>\n",
       "      <td>3192</td>\n",
       "      <td>39.962070</td>\n",
       "      <td>-75.141113</td>\n",
       "      <td>3161</td>\n",
       "      <td>39.954861</td>\n",
       "      <td>-75.180908</td>\n",
       "      <td>16508</td>\n",
       "      <td>30</td>\n",
       "      <td>One Way</td>\n",
       "      <td>Indego30</td>\n",
       "      <td>electric</td>\n",
       "    </tr>\n",
       "    <tr>\n",
       "      <th>4</th>\n",
       "      <td>398698753</td>\n",
       "      <td>5</td>\n",
       "      <td>7/1/2021 0:08</td>\n",
       "      <td>7/1/2021 0:13</td>\n",
       "      <td>3052</td>\n",
       "      <td>39.947319</td>\n",
       "      <td>-75.156952</td>\n",
       "      <td>3046</td>\n",
       "      <td>39.950119</td>\n",
       "      <td>-75.144722</td>\n",
       "      <td>3475</td>\n",
       "      <td>365</td>\n",
       "      <td>One Way</td>\n",
       "      <td>Indego365</td>\n",
       "      <td>standard</td>\n",
       "    </tr>\n",
       "  </tbody>\n",
       "</table>\n",
       "</div>"
      ],
      "text/plain": [
       "     trip_id  duration     start_time       end_time  start_station  \\\n",
       "0  398698761        11  7/1/2021 0:00  7/1/2021 0:11           3045   \n",
       "1  398698759         4  7/1/2021 0:02  7/1/2021 0:06           3052   \n",
       "2  398698757        56  7/1/2021 0:03  7/1/2021 0:59           3192   \n",
       "3  398698755        55  7/1/2021 0:04  7/1/2021 0:59           3192   \n",
       "4  398698753         5  7/1/2021 0:08  7/1/2021 0:13           3052   \n",
       "\n",
       "   start_lat  start_lon  end_station    end_lat    end_lon bike_id  \\\n",
       "0  39.947922 -75.162369         3030  39.939350 -75.157158    3360   \n",
       "1  39.947319 -75.156952         3238  39.946281 -75.151382    5420   \n",
       "2  39.962070 -75.141113         3161  39.954861 -75.180908   18450   \n",
       "3  39.962070 -75.141113         3161  39.954861 -75.180908   16508   \n",
       "4  39.947319 -75.156952         3046  39.950119 -75.144722    3475   \n",
       "\n",
       "   plan_duration trip_route_category passholder_type bike_type  \n",
       "0             30             One Way        Indego30  standard  \n",
       "1             30             One Way        Indego30  standard  \n",
       "2             30             One Way        Indego30  electric  \n",
       "3             30             One Way        Indego30  electric  \n",
       "4            365             One Way       Indego365  standard  "
      ]
     },
     "execution_count": 26,
     "metadata": {},
     "output_type": "execute_result"
    }
   ],
   "source": [
    "print(\"Rows and colums:\")\n",
    "print(trip_data.shape)\n",
    "print()\n",
    "trip_data.info()\n",
    "trip_data.head(5)"
   ]
  },
  {
   "cell_type": "markdown",
   "id": "19e8c949",
   "metadata": {},
   "source": [
    "Join station data with trip data"
   ]
  },
  {
   "cell_type": "code",
   "execution_count": 27,
   "id": "5cf60eb3",
   "metadata": {},
   "outputs": [
    {
     "data": {
      "text/html": [
       "<div>\n",
       "<style scoped>\n",
       "    .dataframe tbody tr th:only-of-type {\n",
       "        vertical-align: middle;\n",
       "    }\n",
       "\n",
       "    .dataframe tbody tr th {\n",
       "        vertical-align: top;\n",
       "    }\n",
       "\n",
       "    .dataframe thead th {\n",
       "        text-align: right;\n",
       "    }\n",
       "</style>\n",
       "<table border=\"1\" class=\"dataframe\">\n",
       "  <thead>\n",
       "    <tr style=\"text-align: right;\">\n",
       "      <th></th>\n",
       "      <th>trip_id</th>\n",
       "      <th>duration</th>\n",
       "      <th>start_time</th>\n",
       "      <th>end_time</th>\n",
       "      <th>start_station</th>\n",
       "      <th>start_lat</th>\n",
       "      <th>start_lon</th>\n",
       "      <th>end_station</th>\n",
       "      <th>end_lat</th>\n",
       "      <th>end_lon</th>\n",
       "      <th>bike_id</th>\n",
       "      <th>plan_duration</th>\n",
       "      <th>trip_route_category</th>\n",
       "      <th>passholder_type</th>\n",
       "      <th>bike_type</th>\n",
       "      <th>start_name</th>\n",
       "      <th>start_neighborhood</th>\n",
       "      <th>end_name</th>\n",
       "      <th>end_neighborhood</th>\n",
       "    </tr>\n",
       "  </thead>\n",
       "  <tbody>\n",
       "    <tr>\n",
       "      <th>0</th>\n",
       "      <td>398698761</td>\n",
       "      <td>11</td>\n",
       "      <td>7/1/2021 0:00</td>\n",
       "      <td>7/1/2021 0:11</td>\n",
       "      <td>3045</td>\n",
       "      <td>39.947922</td>\n",
       "      <td>-75.162369</td>\n",
       "      <td>3030</td>\n",
       "      <td>39.939350</td>\n",
       "      <td>-75.157158</td>\n",
       "      <td>3360</td>\n",
       "      <td>30</td>\n",
       "      <td>One Way</td>\n",
       "      <td>Indego30</td>\n",
       "      <td>standard</td>\n",
       "      <td>13th &amp; Locust, Philadelphia, PA</td>\n",
       "      <td>Washington Square West</td>\n",
       "      <td>Darien &amp; Catharine, Philadelphia, PA</td>\n",
       "      <td>Bella Vista</td>\n",
       "    </tr>\n",
       "    <tr>\n",
       "      <th>1</th>\n",
       "      <td>398698759</td>\n",
       "      <td>4</td>\n",
       "      <td>7/1/2021 0:02</td>\n",
       "      <td>7/1/2021 0:06</td>\n",
       "      <td>3052</td>\n",
       "      <td>39.947319</td>\n",
       "      <td>-75.156952</td>\n",
       "      <td>3238</td>\n",
       "      <td>39.946281</td>\n",
       "      <td>-75.151382</td>\n",
       "      <td>5420</td>\n",
       "      <td>30</td>\n",
       "      <td>One Way</td>\n",
       "      <td>Indego30</td>\n",
       "      <td>standard</td>\n",
       "      <td>9th &amp; Locust, Philadelphia, PA</td>\n",
       "      <td>Washington Square West</td>\n",
       "      <td>6th &amp; S Washington Square, Philadelphia, PA</td>\n",
       "      <td>Society Hill</td>\n",
       "    </tr>\n",
       "  </tbody>\n",
       "</table>\n",
       "</div>"
      ],
      "text/plain": [
       "     trip_id  duration     start_time       end_time  start_station  \\\n",
       "0  398698761        11  7/1/2021 0:00  7/1/2021 0:11           3045   \n",
       "1  398698759         4  7/1/2021 0:02  7/1/2021 0:06           3052   \n",
       "\n",
       "   start_lat  start_lon  end_station    end_lat    end_lon bike_id  \\\n",
       "0  39.947922 -75.162369         3030  39.939350 -75.157158    3360   \n",
       "1  39.947319 -75.156952         3238  39.946281 -75.151382    5420   \n",
       "\n",
       "   plan_duration trip_route_category passholder_type bike_type  \\\n",
       "0             30             One Way        Indego30  standard   \n",
       "1             30             One Way        Indego30  standard   \n",
       "\n",
       "                        start_name      start_neighborhood  \\\n",
       "0  13th & Locust, Philadelphia, PA  Washington Square West   \n",
       "1   9th & Locust, Philadelphia, PA  Washington Square West   \n",
       "\n",
       "                                      end_name end_neighborhood  \n",
       "0         Darien & Catharine, Philadelphia, PA      Bella Vista  \n",
       "1  6th & S Washington Square, Philadelphia, PA     Society Hill  "
      ]
     },
     "execution_count": 27,
     "metadata": {},
     "output_type": "execute_result"
    }
   ],
   "source": [
    "# Join start station data\n",
    "ts_data = pd.merge(left=trip_data, right=station_data[[\"Station_ID\", \"Full_Name\", \"Neighborhood\"]], how=\"left\", left_on=\"start_station\", right_on=\"Station_ID\").drop(columns=[\"Station_ID\"])\n",
    "\n",
    "# Join end station data\n",
    "ts_data = pd.merge(left=ts_data, right=station_data[[\"Station_ID\", \"Full_Name\", \"Neighborhood\"]], how=\"left\", left_on=\"end_station\", right_on=\"Station_ID\").drop(columns=[\"Station_ID\"])\n",
    "\n",
    "# Rename merged columns \n",
    "ts_data = ts_data.rename(columns={\"Full_Name_x\":\"start_name\", \"Neighborhood_x\":\"start_neighborhood\"})\n",
    "ts_data = ts_data.rename(columns={\"Full_Name_y\":\"end_name\", \"Neighborhood_y\":\"end_neighborhood\"})\n",
    "\n",
    "ts_data.head(2)"
   ]
  },
  {
   "cell_type": "markdown",
   "id": "be3cd0b7",
   "metadata": {},
   "source": [
    "## <a name=\"cleantripdata\"></a> Clean trip data\n",
    "[Return to Top](#top)"
   ]
  },
  {
   "cell_type": "markdown",
   "id": "0eaa2069",
   "metadata": {},
   "source": [
    "Check how many trips have a start or end location at a Virtual station - these will be removed these from the dataset "
   ]
  },
  {
   "cell_type": "code",
   "execution_count": 28,
   "id": "66adcc8b",
   "metadata": {
    "scrolled": true
   },
   "outputs": [
    {
     "data": {
      "text/html": [
       "<div>\n",
       "<style scoped>\n",
       "    .dataframe tbody tr th:only-of-type {\n",
       "        vertical-align: middle;\n",
       "    }\n",
       "\n",
       "    .dataframe tbody tr th {\n",
       "        vertical-align: top;\n",
       "    }\n",
       "\n",
       "    .dataframe thead th {\n",
       "        text-align: right;\n",
       "    }\n",
       "</style>\n",
       "<table border=\"1\" class=\"dataframe\">\n",
       "  <thead>\n",
       "    <tr style=\"text-align: right;\">\n",
       "      <th></th>\n",
       "      <th>trip_id</th>\n",
       "      <th>duration</th>\n",
       "      <th>start_time</th>\n",
       "      <th>end_time</th>\n",
       "      <th>start_station</th>\n",
       "      <th>start_lat</th>\n",
       "      <th>start_lon</th>\n",
       "      <th>end_station</th>\n",
       "      <th>end_lat</th>\n",
       "      <th>end_lon</th>\n",
       "      <th>bike_id</th>\n",
       "      <th>plan_duration</th>\n",
       "      <th>trip_route_category</th>\n",
       "      <th>passholder_type</th>\n",
       "      <th>bike_type</th>\n",
       "      <th>start_name</th>\n",
       "      <th>start_neighborhood</th>\n",
       "      <th>end_name</th>\n",
       "      <th>end_neighborhood</th>\n",
       "    </tr>\n",
       "  </thead>\n",
       "  <tbody>\n",
       "    <tr>\n",
       "      <th>74</th>\n",
       "      <td>398758095</td>\n",
       "      <td>15</td>\n",
       "      <td>7/1/2021 5:29</td>\n",
       "      <td>7/1/2021 5:44</td>\n",
       "      <td>3125</td>\n",
       "      <td>39.943909</td>\n",
       "      <td>-75.167351</td>\n",
       "      <td>3000</td>\n",
       "      <td>NaN</td>\n",
       "      <td>NaN</td>\n",
       "      <td>3638</td>\n",
       "      <td>30</td>\n",
       "      <td>One Way</td>\n",
       "      <td>Indego30</td>\n",
       "      <td>standard</td>\n",
       "      <td>15th &amp; South, Philadelphia, PA</td>\n",
       "      <td>Rittenhouse Square</td>\n",
       "      <td>Virtual Station, Philadelphia, PA</td>\n",
       "      <td>Center City</td>\n",
       "    </tr>\n",
       "    <tr>\n",
       "      <th>315</th>\n",
       "      <td>398768712</td>\n",
       "      <td>15</td>\n",
       "      <td>7/1/2021 8:09</td>\n",
       "      <td>7/1/2021 8:24</td>\n",
       "      <td>3049</td>\n",
       "      <td>39.945091</td>\n",
       "      <td>-75.142502</td>\n",
       "      <td>3000</td>\n",
       "      <td>NaN</td>\n",
       "      <td>NaN</td>\n",
       "      <td>19813</td>\n",
       "      <td>365</td>\n",
       "      <td>One Way</td>\n",
       "      <td>Indego365</td>\n",
       "      <td>electric</td>\n",
       "      <td>Foglietta Plaza, Philadelphia, PA</td>\n",
       "      <td>Center City</td>\n",
       "      <td>Virtual Station, Philadelphia, PA</td>\n",
       "      <td>Center City</td>\n",
       "    </tr>\n",
       "    <tr>\n",
       "      <th>333</th>\n",
       "      <td>399033738</td>\n",
       "      <td>10</td>\n",
       "      <td>7/1/2021 8:20</td>\n",
       "      <td>7/1/2021 8:30</td>\n",
       "      <td>3170</td>\n",
       "      <td>39.944260</td>\n",
       "      <td>-75.181343</td>\n",
       "      <td>3000</td>\n",
       "      <td>NaN</td>\n",
       "      <td>NaN</td>\n",
       "      <td>18160</td>\n",
       "      <td>30</td>\n",
       "      <td>One Way</td>\n",
       "      <td>Indego30</td>\n",
       "      <td>electric</td>\n",
       "      <td>Grays Ferry &amp; Pemberton, Philadelphia, PA</td>\n",
       "      <td>Devil's Pocket</td>\n",
       "      <td>Virtual Station, Philadelphia, PA</td>\n",
       "      <td>Center City</td>\n",
       "    </tr>\n",
       "    <tr>\n",
       "      <th>359</th>\n",
       "      <td>398777836</td>\n",
       "      <td>6</td>\n",
       "      <td>7/1/2021 8:34</td>\n",
       "      <td>7/1/2021 8:40</td>\n",
       "      <td>3032</td>\n",
       "      <td>39.945271</td>\n",
       "      <td>-75.179710</td>\n",
       "      <td>3000</td>\n",
       "      <td>NaN</td>\n",
       "      <td>NaN</td>\n",
       "      <td>17200</td>\n",
       "      <td>30</td>\n",
       "      <td>One Way</td>\n",
       "      <td>Indego30</td>\n",
       "      <td>electric</td>\n",
       "      <td>23rd &amp; South, Philadelphia, PA</td>\n",
       "      <td>South Philadelphia</td>\n",
       "      <td>Virtual Station, Philadelphia, PA</td>\n",
       "      <td>Center City</td>\n",
       "    </tr>\n",
       "    <tr>\n",
       "      <th>539</th>\n",
       "      <td>398786572</td>\n",
       "      <td>14</td>\n",
       "      <td>7/1/2021 9:44</td>\n",
       "      <td>7/1/2021 9:58</td>\n",
       "      <td>3008</td>\n",
       "      <td>39.979439</td>\n",
       "      <td>-75.151138</td>\n",
       "      <td>3000</td>\n",
       "      <td>NaN</td>\n",
       "      <td>NaN</td>\n",
       "      <td>19793</td>\n",
       "      <td>30</td>\n",
       "      <td>One Way</td>\n",
       "      <td>Indego30</td>\n",
       "      <td>electric</td>\n",
       "      <td>Temple University Station, Philadelphia, PA</td>\n",
       "      <td>North Philadelphia</td>\n",
       "      <td>Virtual Station, Philadelphia, PA</td>\n",
       "      <td>Center City</td>\n",
       "    </tr>\n",
       "    <tr>\n",
       "      <th>...</th>\n",
       "      <td>...</td>\n",
       "      <td>...</td>\n",
       "      <td>...</td>\n",
       "      <td>...</td>\n",
       "      <td>...</td>\n",
       "      <td>...</td>\n",
       "      <td>...</td>\n",
       "      <td>...</td>\n",
       "      <td>...</td>\n",
       "      <td>...</td>\n",
       "      <td>...</td>\n",
       "      <td>...</td>\n",
       "      <td>...</td>\n",
       "      <td>...</td>\n",
       "      <td>...</td>\n",
       "      <td>...</td>\n",
       "      <td>...</td>\n",
       "      <td>...</td>\n",
       "      <td>...</td>\n",
       "    </tr>\n",
       "    <tr>\n",
       "      <th>299977</th>\n",
       "      <td>428447431</td>\n",
       "      <td>16</td>\n",
       "      <td>9/30/2021 20:11</td>\n",
       "      <td>9/30/2021 20:27</td>\n",
       "      <td>3052</td>\n",
       "      <td>39.947319</td>\n",
       "      <td>-75.156952</td>\n",
       "      <td>3000</td>\n",
       "      <td>NaN</td>\n",
       "      <td>NaN</td>\n",
       "      <td>11757</td>\n",
       "      <td>365</td>\n",
       "      <td>One Way</td>\n",
       "      <td>Indego365</td>\n",
       "      <td>standard</td>\n",
       "      <td>9th &amp; Locust, Philadelphia, PA</td>\n",
       "      <td>Washington Square West</td>\n",
       "      <td>Virtual Station, Philadelphia, PA</td>\n",
       "      <td>Center City</td>\n",
       "    </tr>\n",
       "    <tr>\n",
       "      <th>300012</th>\n",
       "      <td>428340686</td>\n",
       "      <td>1</td>\n",
       "      <td>9/30/2021 20:23</td>\n",
       "      <td>9/30/2021 20:24</td>\n",
       "      <td>3185</td>\n",
       "      <td>39.951691</td>\n",
       "      <td>-75.158882</td>\n",
       "      <td>3000</td>\n",
       "      <td>NaN</td>\n",
       "      <td>NaN</td>\n",
       "      <td>17727</td>\n",
       "      <td>30</td>\n",
       "      <td>One Way</td>\n",
       "      <td>Indego30</td>\n",
       "      <td>electric</td>\n",
       "      <td>11th &amp; Market, Philadelphia, PA</td>\n",
       "      <td>Center City East</td>\n",
       "      <td>Virtual Station, Philadelphia, PA</td>\n",
       "      <td>Center City</td>\n",
       "    </tr>\n",
       "    <tr>\n",
       "      <th>300052</th>\n",
       "      <td>428477694</td>\n",
       "      <td>15</td>\n",
       "      <td>9/30/2021 20:38</td>\n",
       "      <td>9/30/2021 20:53</td>\n",
       "      <td>3114</td>\n",
       "      <td>39.937752</td>\n",
       "      <td>-75.180122</td>\n",
       "      <td>3000</td>\n",
       "      <td>NaN</td>\n",
       "      <td>NaN</td>\n",
       "      <td>18797</td>\n",
       "      <td>30</td>\n",
       "      <td>One Way</td>\n",
       "      <td>Indego30</td>\n",
       "      <td>electric</td>\n",
       "      <td>22nd &amp; Federal, Philadelphia, PA</td>\n",
       "      <td>Point Breeze</td>\n",
       "      <td>Virtual Station, Philadelphia, PA</td>\n",
       "      <td>Center City</td>\n",
       "    </tr>\n",
       "    <tr>\n",
       "      <th>300211</th>\n",
       "      <td>428462247</td>\n",
       "      <td>10</td>\n",
       "      <td>9/30/2021 21:41</td>\n",
       "      <td>9/30/2021 21:51</td>\n",
       "      <td>3046</td>\n",
       "      <td>39.950119</td>\n",
       "      <td>-75.144722</td>\n",
       "      <td>3000</td>\n",
       "      <td>NaN</td>\n",
       "      <td>NaN</td>\n",
       "      <td>19845</td>\n",
       "      <td>30</td>\n",
       "      <td>One Way</td>\n",
       "      <td>Indego30</td>\n",
       "      <td>electric</td>\n",
       "      <td>2nd &amp; Market, Philadelphia, PA</td>\n",
       "      <td>Center City East</td>\n",
       "      <td>Virtual Station, Philadelphia, PA</td>\n",
       "      <td>Center City</td>\n",
       "    </tr>\n",
       "    <tr>\n",
       "      <th>300254</th>\n",
       "      <td>428462203</td>\n",
       "      <td>5</td>\n",
       "      <td>9/30/2021 22:05</td>\n",
       "      <td>9/30/2021 22:10</td>\n",
       "      <td>3166</td>\n",
       "      <td>39.971951</td>\n",
       "      <td>-75.134453</td>\n",
       "      <td>3000</td>\n",
       "      <td>NaN</td>\n",
       "      <td>NaN</td>\n",
       "      <td>14526</td>\n",
       "      <td>365</td>\n",
       "      <td>One Way</td>\n",
       "      <td>Indego365</td>\n",
       "      <td>standard</td>\n",
       "      <td>Frankford &amp; Belgrade, Philadelphia, PA</td>\n",
       "      <td>North Philadelphia</td>\n",
       "      <td>Virtual Station, Philadelphia, PA</td>\n",
       "      <td>Center City</td>\n",
       "    </tr>\n",
       "  </tbody>\n",
       "</table>\n",
       "<p>4164 rows × 19 columns</p>\n",
       "</div>"
      ],
      "text/plain": [
       "          trip_id  duration       start_time         end_time  start_station  \\\n",
       "74      398758095        15    7/1/2021 5:29    7/1/2021 5:44           3125   \n",
       "315     398768712        15    7/1/2021 8:09    7/1/2021 8:24           3049   \n",
       "333     399033738        10    7/1/2021 8:20    7/1/2021 8:30           3170   \n",
       "359     398777836         6    7/1/2021 8:34    7/1/2021 8:40           3032   \n",
       "539     398786572        14    7/1/2021 9:44    7/1/2021 9:58           3008   \n",
       "...           ...       ...              ...              ...            ...   \n",
       "299977  428447431        16  9/30/2021 20:11  9/30/2021 20:27           3052   \n",
       "300012  428340686         1  9/30/2021 20:23  9/30/2021 20:24           3185   \n",
       "300052  428477694        15  9/30/2021 20:38  9/30/2021 20:53           3114   \n",
       "300211  428462247        10  9/30/2021 21:41  9/30/2021 21:51           3046   \n",
       "300254  428462203         5  9/30/2021 22:05  9/30/2021 22:10           3166   \n",
       "\n",
       "        start_lat  start_lon  end_station  end_lat  end_lon bike_id  \\\n",
       "74      39.943909 -75.167351         3000      NaN      NaN    3638   \n",
       "315     39.945091 -75.142502         3000      NaN      NaN   19813   \n",
       "333     39.944260 -75.181343         3000      NaN      NaN   18160   \n",
       "359     39.945271 -75.179710         3000      NaN      NaN   17200   \n",
       "539     39.979439 -75.151138         3000      NaN      NaN   19793   \n",
       "...           ...        ...          ...      ...      ...     ...   \n",
       "299977  39.947319 -75.156952         3000      NaN      NaN   11757   \n",
       "300012  39.951691 -75.158882         3000      NaN      NaN   17727   \n",
       "300052  39.937752 -75.180122         3000      NaN      NaN   18797   \n",
       "300211  39.950119 -75.144722         3000      NaN      NaN   19845   \n",
       "300254  39.971951 -75.134453         3000      NaN      NaN   14526   \n",
       "\n",
       "        plan_duration trip_route_category passholder_type bike_type  \\\n",
       "74                 30             One Way        Indego30  standard   \n",
       "315               365             One Way       Indego365  electric   \n",
       "333                30             One Way        Indego30  electric   \n",
       "359                30             One Way        Indego30  electric   \n",
       "539                30             One Way        Indego30  electric   \n",
       "...               ...                 ...             ...       ...   \n",
       "299977            365             One Way       Indego365  standard   \n",
       "300012             30             One Way        Indego30  electric   \n",
       "300052             30             One Way        Indego30  electric   \n",
       "300211             30             One Way        Indego30  electric   \n",
       "300254            365             One Way       Indego365  standard   \n",
       "\n",
       "                                         start_name      start_neighborhood  \\\n",
       "74                   15th & South, Philadelphia, PA      Rittenhouse Square   \n",
       "315               Foglietta Plaza, Philadelphia, PA             Center City   \n",
       "333       Grays Ferry & Pemberton, Philadelphia, PA          Devil's Pocket   \n",
       "359                  23rd & South, Philadelphia, PA      South Philadelphia   \n",
       "539     Temple University Station, Philadelphia, PA      North Philadelphia   \n",
       "...                                             ...                     ...   \n",
       "299977               9th & Locust, Philadelphia, PA  Washington Square West   \n",
       "300012              11th & Market, Philadelphia, PA        Center City East   \n",
       "300052             22nd & Federal, Philadelphia, PA            Point Breeze   \n",
       "300211               2nd & Market, Philadelphia, PA        Center City East   \n",
       "300254       Frankford & Belgrade, Philadelphia, PA      North Philadelphia   \n",
       "\n",
       "                                 end_name end_neighborhood  \n",
       "74      Virtual Station, Philadelphia, PA      Center City  \n",
       "315     Virtual Station, Philadelphia, PA      Center City  \n",
       "333     Virtual Station, Philadelphia, PA      Center City  \n",
       "359     Virtual Station, Philadelphia, PA      Center City  \n",
       "539     Virtual Station, Philadelphia, PA      Center City  \n",
       "...                                   ...              ...  \n",
       "299977  Virtual Station, Philadelphia, PA      Center City  \n",
       "300012  Virtual Station, Philadelphia, PA      Center City  \n",
       "300052  Virtual Station, Philadelphia, PA      Center City  \n",
       "300211  Virtual Station, Philadelphia, PA      Center City  \n",
       "300254  Virtual Station, Philadelphia, PA      Center City  \n",
       "\n",
       "[4164 rows x 19 columns]"
      ]
     },
     "execution_count": 28,
     "metadata": {},
     "output_type": "execute_result"
    }
   ],
   "source": [
    "ts_data.loc[(ts_data['start_station'] == 3000) | (ts_data['end_station'] == 3000)]"
   ]
  },
  {
   "cell_type": "markdown",
   "id": "be4d31d7",
   "metadata": {},
   "source": [
    "<br><br>\n",
    "Drop trips that include a Virtual location"
   ]
  },
  {
   "cell_type": "code",
   "execution_count": 29,
   "id": "c34679df",
   "metadata": {},
   "outputs": [
    {
     "name": "stdout",
     "output_type": "stream",
     "text": [
      "Update count rows and colums:\n",
      "(296268, 19)\n"
     ]
    }
   ],
   "source": [
    "ts_data = ts_data.loc[(ts_data['start_station'] != 3000) & (ts_data['end_station'] != 3000)]\n",
    "print(\"Update count rows and colums:\")\n",
    "print(ts_data.shape)"
   ]
  },
  {
   "cell_type": "markdown",
   "id": "8ef2e810",
   "metadata": {},
   "source": [
    "<br><br>\n",
    "Check that original row count - virtual row count = current row count"
   ]
  },
  {
   "cell_type": "code",
   "execution_count": 30,
   "id": "87036aaa",
   "metadata": {},
   "outputs": [
    {
     "data": {
      "text/plain": [
       "True"
      ]
     },
     "execution_count": 30,
     "metadata": {},
     "output_type": "execute_result"
    }
   ],
   "source": [
    "300432-4164 == len(ts_data)"
   ]
  },
  {
   "cell_type": "markdown",
   "id": "a3cd4773",
   "metadata": {},
   "source": [
    "<br><br>\n",
    "Drop trips longer than 3 hours - for this analysis, assume these are a result of user error"
   ]
  },
  {
   "cell_type": "code",
   "execution_count": 31,
   "id": "cdbb8a1b",
   "metadata": {},
   "outputs": [
    {
     "data": {
      "text/plain": [
       "294912"
      ]
     },
     "execution_count": 31,
     "metadata": {},
     "output_type": "execute_result"
    }
   ],
   "source": [
    "# Only keep trips where duration <= 180 minutes\n",
    "ts_data = ts_data.loc[ts_data[\"duration\"]<= 180]\n",
    "\n",
    "# Output number of trips\n",
    "len(ts_data)"
   ]
  },
  {
   "cell_type": "markdown",
   "id": "7b7b2d72",
   "metadata": {},
   "source": [
    "<br><br>\n",
    "Drop round trips that are under 5 minutes - for this analysis, assume these are a result of user error"
   ]
  },
  {
   "cell_type": "code",
   "execution_count": 32,
   "id": "344b808e",
   "metadata": {},
   "outputs": [
    {
     "data": {
      "text/plain": [
       "284458"
      ]
     },
     "execution_count": 32,
     "metadata": {},
     "output_type": "execute_result"
    }
   ],
   "source": [
    "# Keep round trips where duration > 5 minutes, as well as all one way trips \n",
    "ts_data = ts_data.loc[((ts_data[\"duration\"] > 5) & (ts_data[\"trip_route_category\"] == \"Round Trip\")) | ((ts_data[\"trip_route_category\"] == \"One Way\"))]\n",
    "\n",
    "# Output number of trips \n",
    "len(ts_data)"
   ]
  },
  {
   "cell_type": "markdown",
   "id": "d4acb044",
   "metadata": {},
   "source": [
    "## <a name=\"analyzetripdata\"></a> Analyze trip data\n",
    "[Return to Top](#top)"
   ]
  },
  {
   "cell_type": "markdown",
   "id": "ba6c1910",
   "metadata": {},
   "source": [
    "<br>\n",
    "\n",
    "**Which neighborhoods are most trips between?**"
   ]
  },
  {
   "cell_type": "code",
   "execution_count": 33,
   "id": "b79cda08",
   "metadata": {
    "scrolled": false
   },
   "outputs": [
    {
     "data": {
      "text/plain": [
       "start_neighborhood  end_neighborhood  \n",
       "University City     University City       15109\n",
       "North Philadelphia  North Philadelphia    11359\n",
       "Center City         Center City            9417\n",
       "North Philadelphia  Center City            5895\n",
       "Center City East    Center City East       5822\n",
       "Center City         North Philadelphia     5753\n",
       "University City     Center City West       5307\n",
       "Center City West    University City        5036\n",
       "                    Center City West       4490\n",
       "                    Center City            3762\n",
       "Center City         Center City West       3676\n",
       "Center City East    Center City            3640\n",
       "Center City         Center City East       3584\n",
       "University City     Center City            3245\n",
       "Center City         University City        3193\n",
       "dtype: int64"
      ]
     },
     "execution_count": 33,
     "metadata": {},
     "output_type": "execute_result"
    }
   ],
   "source": [
    "# Group by start neighborhood and end neighborhood\n",
    "grouped = ts_data.groupby(['start_neighborhood','end_neighborhood']).size().sort_values(ascending=False)\n",
    "\n",
    "# Output the top 15 routes\n",
    "grouped.head(15)"
   ]
  },
  {
   "cell_type": "markdown",
   "id": "57afeb9e",
   "metadata": {},
   "source": [
    "<br>\n",
    "\n",
    "**Which station has the fewest trips (start or end at that station)?**"
   ]
  },
  {
   "cell_type": "code",
   "execution_count": 50,
   "id": "53d3b9f6",
   "metadata": {},
   "outputs": [
    {
     "data": {
      "text/html": [
       "<div>\n",
       "<style scoped>\n",
       "    .dataframe tbody tr th:only-of-type {\n",
       "        vertical-align: middle;\n",
       "    }\n",
       "\n",
       "    .dataframe tbody tr th {\n",
       "        vertical-align: top;\n",
       "    }\n",
       "\n",
       "    .dataframe thead th {\n",
       "        text-align: right;\n",
       "    }\n",
       "</style>\n",
       "<table border=\"1\" class=\"dataframe\">\n",
       "  <thead>\n",
       "    <tr style=\"text-align: right;\">\n",
       "      <th></th>\n",
       "      <th>sum</th>\n",
       "    </tr>\n",
       "    <tr>\n",
       "      <th>start_name</th>\n",
       "      <th></th>\n",
       "    </tr>\n",
       "  </thead>\n",
       "  <tbody>\n",
       "    <tr>\n",
       "      <th>4th &amp; Wood, Philadelphia, PA</th>\n",
       "      <td>20</td>\n",
       "    </tr>\n",
       "  </tbody>\n",
       "</table>\n",
       "</div>"
      ],
      "text/plain": [
       "                              sum\n",
       "start_name                       \n",
       "4th & Wood, Philadelphia, PA   20"
      ]
     },
     "execution_count": 50,
     "metadata": {},
     "output_type": "execute_result"
    }
   ],
   "source": [
    "# Create a df with count of trips started for each station\n",
    "grouped = ts_data.groupby('start_name').size().reset_index(name='sum')\n",
    "\n",
    "# Create a df with count of trips ended for each station\n",
    "add_to_grouped = ts_data.groupby('end_name').size().reset_index(name='sum')\n",
    "\n",
    "# Rename the end_name column to match start_name, so dfs can be concatenated\n",
    "add_to_grouped = add_to_grouped.rename(columns={\"end_name\":\"start_name\"})\n",
    "\n",
    "# Concatenate the dfs\n",
    "grouped = grouped.append(add_to_grouped).groupby('start_name').sum()\n",
    "\n",
    "# Output the station with the lowest number of trips\n",
    "grouped.nsmallest(1, \"sum\")"
   ]
  },
  {
   "cell_type": "markdown",
   "id": "b09256bf",
   "metadata": {},
   "source": [
    "<br>\n",
    "\n",
    "**Which stations have the most trips?**"
   ]
  },
  {
   "cell_type": "code",
   "execution_count": 51,
   "id": "b5500680",
   "metadata": {},
   "outputs": [
    {
     "data": {
      "text/html": [
       "<div>\n",
       "<style scoped>\n",
       "    .dataframe tbody tr th:only-of-type {\n",
       "        vertical-align: middle;\n",
       "    }\n",
       "\n",
       "    .dataframe tbody tr th {\n",
       "        vertical-align: top;\n",
       "    }\n",
       "\n",
       "    .dataframe thead th {\n",
       "        text-align: right;\n",
       "    }\n",
       "</style>\n",
       "<table border=\"1\" class=\"dataframe\">\n",
       "  <thead>\n",
       "    <tr style=\"text-align: right;\">\n",
       "      <th></th>\n",
       "      <th>sum</th>\n",
       "    </tr>\n",
       "    <tr>\n",
       "      <th>start_name</th>\n",
       "      <th></th>\n",
       "    </tr>\n",
       "  </thead>\n",
       "  <tbody>\n",
       "    <tr>\n",
       "      <th>16th &amp; Chestnut, Philadelphia, PA</th>\n",
       "      <td>10453</td>\n",
       "    </tr>\n",
       "    <tr>\n",
       "      <th>15th &amp; Spruce, Philadelphia, PA</th>\n",
       "      <td>9871</td>\n",
       "    </tr>\n",
       "    <tr>\n",
       "      <th>34th &amp; Spruce, Philadelphia, PA</th>\n",
       "      <td>9774</td>\n",
       "    </tr>\n",
       "    <tr>\n",
       "      <th>17th &amp; Locust, Philadelphia, PA</th>\n",
       "      <td>9581</td>\n",
       "    </tr>\n",
       "    <tr>\n",
       "      <th>Schuylkill Banks Pergola, Philadelphia, PA</th>\n",
       "      <td>9571</td>\n",
       "    </tr>\n",
       "  </tbody>\n",
       "</table>\n",
       "</div>"
      ],
      "text/plain": [
       "                                              sum\n",
       "start_name                                       \n",
       "16th & Chestnut, Philadelphia, PA           10453\n",
       "15th & Spruce, Philadelphia, PA              9871\n",
       "34th & Spruce, Philadelphia, PA              9774\n",
       "17th & Locust, Philadelphia, PA              9581\n",
       "Schuylkill Banks Pergola, Philadelphia, PA   9571"
      ]
     },
     "execution_count": 51,
     "metadata": {},
     "output_type": "execute_result"
    }
   ],
   "source": [
    "grouped.nlargest(5, \"sum\")"
   ]
  },
  {
   "cell_type": "markdown",
   "id": "834ad9b2",
   "metadata": {},
   "source": [
    "**How much revenue was generated in electric bike fees?**\n",
    "- Trips using an electric bike charge an extra $.15 per minute"
   ]
  },
  {
   "cell_type": "code",
   "execution_count": 69,
   "id": "26efac57",
   "metadata": {},
   "outputs": [
    {
     "name": "stdout",
     "output_type": "stream",
     "text": [
      "Charges for electric bikes totaled $249,957.75 in Q3 2021\n"
     ]
    }
   ],
   "source": [
    "# Set all charges to NaN, then populate charges as applicable\n",
    "ts_data[\"electric_charges\"] = np.NaN\n",
    "\n",
    "# Where (bike_type == electric), set overage to duration * .15\n",
    "ts_data.loc[ts_data[\"bike_type\"] == \"electric\", \"electric_charges\"] = ts_data[\"duration\"] *.15\n",
    "\n",
    "total = ts_data[\"electric_charges\"].sum()\n",
    "print(\"Charges for electric bikes totaled ${:,.2f} in Q3 2021\".format(total))"
   ]
  },
  {
   "cell_type": "markdown",
   "id": "7f38493c",
   "metadata": {},
   "source": [
    "**How much revenue was generated in overage charges in Q321?** \n",
    "- Guest passes and walk up passes charge $.15 per minute after the first 30 minutes\n",
    "\n",
    "- 30 day passes and annual passes charge $.15 per minute after the first hour"
   ]
  },
  {
   "cell_type": "markdown",
   "id": "26ac131f",
   "metadata": {},
   "source": [
    "See how many of each passholder type is in the dataset"
   ]
  },
  {
   "cell_type": "code",
   "execution_count": 67,
   "id": "7a8f6d53",
   "metadata": {},
   "outputs": [
    {
     "data": {
      "text/plain": [
       "passholder_type\n",
       "Indego30     206220\n",
       "Indego365     44077\n",
       "Day Pass      34159\n",
       "Walk-up           2\n",
       "dtype: int64"
      ]
     },
     "execution_count": 67,
     "metadata": {},
     "output_type": "execute_result"
    }
   ],
   "source": [
    "grouped = ts_data.groupby('passholder_type').size().sort_values(ascending=False)\n",
    "grouped"
   ]
  },
  {
   "cell_type": "markdown",
   "id": "8ba278fa",
   "metadata": {},
   "source": [
    "Calculate the overages based on trip duration and passholder type"
   ]
  },
  {
   "cell_type": "code",
   "execution_count": 70,
   "id": "52e9d840",
   "metadata": {},
   "outputs": [
    {
     "name": "stdout",
     "output_type": "stream",
     "text": [
      "Overage charges totaled $59,008.80 in Q3 2021\n"
     ]
    }
   ],
   "source": [
    "# Set all overages to NaN, then populate overages as applicable\n",
    "ts_data[\"overage_charges\"] = np.NaN\n",
    "\n",
    "# Where (passholder_type == Indego30 | Indego365) & duration > 60, set overage to (duration - 60) * .15\n",
    "ts_data.loc[((ts_data[\"passholder_type\"] == \"Indego30\") | ((ts_data[\"passholder_type\"] == \"Indego365\"))) & (ts_data[\"duration\"] > 60), \"overage_charges\"] = (ts_data[\"duration\"] - 60) *.15\n",
    "\n",
    "# Where (passholder_type == Day Pass | Walk-up) & duration > 30, set overage to (duration - 30) * .15\n",
    "ts_data.loc[((ts_data[\"passholder_type\"] == \"Day Pass\") | ((ts_data[\"passholder_type\"] == \"Walk-up\"))) & (ts_data[\"duration\"] > 30), \"overage_charges\"] = (ts_data[\"duration\"] - 30) *.15\n",
    "\n",
    "total = ts_data[\"overage_charges\"].sum()\n",
    "print(\"Overage charges totaled ${:,.2f} in Q3 2021\".format(total))"
   ]
  },
  {
   "cell_type": "markdown",
   "id": "a7a8cbbf",
   "metadata": {},
   "source": [
    "<br><br>\n",
    "Looking at some sample data below, verify the calculation worked properly\n",
    "- Row 12 was an 88 minute trip for a Day Pass user: (88-30)x(.15) = 8.70\n",
    "- Row 34 was a 62 minute trip for a monthly subscriber: (62-600x(.15) = .30"
   ]
  },
  {
   "cell_type": "code",
   "execution_count": 62,
   "id": "f74429a4",
   "metadata": {
    "scrolled": true
   },
   "outputs": [
    {
     "data": {
      "text/html": [
       "<div>\n",
       "<style scoped>\n",
       "    .dataframe tbody tr th:only-of-type {\n",
       "        vertical-align: middle;\n",
       "    }\n",
       "\n",
       "    .dataframe tbody tr th {\n",
       "        vertical-align: top;\n",
       "    }\n",
       "\n",
       "    .dataframe thead th {\n",
       "        text-align: right;\n",
       "    }\n",
       "</style>\n",
       "<table border=\"1\" class=\"dataframe\">\n",
       "  <thead>\n",
       "    <tr style=\"text-align: right;\">\n",
       "      <th></th>\n",
       "      <th>trip_id</th>\n",
       "      <th>duration</th>\n",
       "      <th>start_time</th>\n",
       "      <th>end_time</th>\n",
       "      <th>start_station</th>\n",
       "      <th>start_lat</th>\n",
       "      <th>start_lon</th>\n",
       "      <th>end_station</th>\n",
       "      <th>end_lat</th>\n",
       "      <th>end_lon</th>\n",
       "      <th>bike_id</th>\n",
       "      <th>plan_duration</th>\n",
       "      <th>trip_route_category</th>\n",
       "      <th>passholder_type</th>\n",
       "      <th>bike_type</th>\n",
       "      <th>start_name</th>\n",
       "      <th>start_neighborhood</th>\n",
       "      <th>end_name</th>\n",
       "      <th>end_neighborhood</th>\n",
       "      <th>overage_charges</th>\n",
       "    </tr>\n",
       "  </thead>\n",
       "  <tbody>\n",
       "    <tr>\n",
       "      <th>12</th>\n",
       "      <td>398698734</td>\n",
       "      <td>88</td>\n",
       "      <td>7/1/2021 0:20</td>\n",
       "      <td>7/1/2021 1:48</td>\n",
       "      <td>3049</td>\n",
       "      <td>39.945091</td>\n",
       "      <td>-75.142502</td>\n",
       "      <td>3049</td>\n",
       "      <td>39.945091</td>\n",
       "      <td>-75.142502</td>\n",
       "      <td>16719</td>\n",
       "      <td>1</td>\n",
       "      <td>Round Trip</td>\n",
       "      <td>Day Pass</td>\n",
       "      <td>electric</td>\n",
       "      <td>Foglietta Plaza, Philadelphia, PA</td>\n",
       "      <td>Center City</td>\n",
       "      <td>Foglietta Plaza, Philadelphia, PA</td>\n",
       "      <td>Center City</td>\n",
       "      <td>8.70</td>\n",
       "    </tr>\n",
       "    <tr>\n",
       "      <th>20</th>\n",
       "      <td>398698719</td>\n",
       "      <td>73</td>\n",
       "      <td>7/1/2021 0:35</td>\n",
       "      <td>7/1/2021 1:48</td>\n",
       "      <td>3026</td>\n",
       "      <td>39.941818</td>\n",
       "      <td>-75.145500</td>\n",
       "      <td>3049</td>\n",
       "      <td>39.945091</td>\n",
       "      <td>-75.142502</td>\n",
       "      <td>2688</td>\n",
       "      <td>1</td>\n",
       "      <td>One Way</td>\n",
       "      <td>Day Pass</td>\n",
       "      <td>standard</td>\n",
       "      <td>2nd &amp; Lombard, Philadelphia, PA</td>\n",
       "      <td>Society Hill</td>\n",
       "      <td>Foglietta Plaza, Philadelphia, PA</td>\n",
       "      <td>Center City</td>\n",
       "      <td>6.45</td>\n",
       "    </tr>\n",
       "    <tr>\n",
       "      <th>34</th>\n",
       "      <td>398707712</td>\n",
       "      <td>62</td>\n",
       "      <td>7/1/2021 1:07</td>\n",
       "      <td>7/1/2021 2:09</td>\n",
       "      <td>3237</td>\n",
       "      <td>39.917171</td>\n",
       "      <td>-75.170959</td>\n",
       "      <td>3049</td>\n",
       "      <td>39.945091</td>\n",
       "      <td>-75.142502</td>\n",
       "      <td>19813</td>\n",
       "      <td>30</td>\n",
       "      <td>One Way</td>\n",
       "      <td>Indego30</td>\n",
       "      <td>electric</td>\n",
       "      <td>Broad &amp; Oregon, Philadelphia, PA</td>\n",
       "      <td>South Philadelphia West</td>\n",
       "      <td>Foglietta Plaza, Philadelphia, PA</td>\n",
       "      <td>Center City</td>\n",
       "      <td>0.30</td>\n",
       "    </tr>\n",
       "    <tr>\n",
       "      <th>35</th>\n",
       "      <td>398708115</td>\n",
       "      <td>77</td>\n",
       "      <td>7/1/2021 1:10</td>\n",
       "      <td>7/1/2021 2:26</td>\n",
       "      <td>3047</td>\n",
       "      <td>39.950729</td>\n",
       "      <td>-75.149467</td>\n",
       "      <td>3049</td>\n",
       "      <td>39.945091</td>\n",
       "      <td>-75.142502</td>\n",
       "      <td>11727</td>\n",
       "      <td>30</td>\n",
       "      <td>One Way</td>\n",
       "      <td>Indego30</td>\n",
       "      <td>standard</td>\n",
       "      <td>Independence Mall, NPS, Philadelphia, PA</td>\n",
       "      <td>Center City East</td>\n",
       "      <td>Foglietta Plaza, Philadelphia, PA</td>\n",
       "      <td>Center City</td>\n",
       "      <td>2.55</td>\n",
       "    </tr>\n",
       "    <tr>\n",
       "      <th>36</th>\n",
       "      <td>398708114</td>\n",
       "      <td>76</td>\n",
       "      <td>7/1/2021 1:10</td>\n",
       "      <td>7/1/2021 2:26</td>\n",
       "      <td>3047</td>\n",
       "      <td>39.950729</td>\n",
       "      <td>-75.149467</td>\n",
       "      <td>3049</td>\n",
       "      <td>39.945091</td>\n",
       "      <td>-75.142502</td>\n",
       "      <td>14669</td>\n",
       "      <td>30</td>\n",
       "      <td>One Way</td>\n",
       "      <td>Indego30</td>\n",
       "      <td>standard</td>\n",
       "      <td>Independence Mall, NPS, Philadelphia, PA</td>\n",
       "      <td>Center City East</td>\n",
       "      <td>Foglietta Plaza, Philadelphia, PA</td>\n",
       "      <td>Center City</td>\n",
       "      <td>2.40</td>\n",
       "    </tr>\n",
       "  </tbody>\n",
       "</table>\n",
       "</div>"
      ],
      "text/plain": [
       "      trip_id  duration     start_time       end_time  start_station  \\\n",
       "12  398698734        88  7/1/2021 0:20  7/1/2021 1:48           3049   \n",
       "20  398698719        73  7/1/2021 0:35  7/1/2021 1:48           3026   \n",
       "34  398707712        62  7/1/2021 1:07  7/1/2021 2:09           3237   \n",
       "35  398708115        77  7/1/2021 1:10  7/1/2021 2:26           3047   \n",
       "36  398708114        76  7/1/2021 1:10  7/1/2021 2:26           3047   \n",
       "\n",
       "    start_lat  start_lon  end_station    end_lat    end_lon bike_id  \\\n",
       "12  39.945091 -75.142502         3049  39.945091 -75.142502   16719   \n",
       "20  39.941818 -75.145500         3049  39.945091 -75.142502    2688   \n",
       "34  39.917171 -75.170959         3049  39.945091 -75.142502   19813   \n",
       "35  39.950729 -75.149467         3049  39.945091 -75.142502   11727   \n",
       "36  39.950729 -75.149467         3049  39.945091 -75.142502   14669   \n",
       "\n",
       "    plan_duration trip_route_category passholder_type bike_type  \\\n",
       "12              1          Round Trip        Day Pass  electric   \n",
       "20              1             One Way        Day Pass  standard   \n",
       "34             30             One Way        Indego30  electric   \n",
       "35             30             One Way        Indego30  standard   \n",
       "36             30             One Way        Indego30  standard   \n",
       "\n",
       "                                  start_name       start_neighborhood  \\\n",
       "12         Foglietta Plaza, Philadelphia, PA              Center City   \n",
       "20           2nd & Lombard, Philadelphia, PA             Society Hill   \n",
       "34          Broad & Oregon, Philadelphia, PA  South Philadelphia West   \n",
       "35  Independence Mall, NPS, Philadelphia, PA         Center City East   \n",
       "36  Independence Mall, NPS, Philadelphia, PA         Center City East   \n",
       "\n",
       "                             end_name end_neighborhood  overage_charges  \n",
       "12  Foglietta Plaza, Philadelphia, PA      Center City             8.70  \n",
       "20  Foglietta Plaza, Philadelphia, PA      Center City             6.45  \n",
       "34  Foglietta Plaza, Philadelphia, PA      Center City             0.30  \n",
       "35  Foglietta Plaza, Philadelphia, PA      Center City             2.55  \n",
       "36  Foglietta Plaza, Philadelphia, PA      Center City             2.40  "
      ]
     },
     "execution_count": 62,
     "metadata": {},
     "output_type": "execute_result"
    }
   ],
   "source": [
    "ts_data.loc[ts_data[\"overage_charges\"] > 0].head()"
   ]
  },
  {
   "cell_type": "markdown",
   "id": "e2472d25",
   "metadata": {},
   "source": [
    "**Analysis below to be added**\n",
    "\n",
    "What percentage of trips use standard bikes vs electric bikes? Do certain stations favor electric bikes?"
   ]
  },
  {
   "cell_type": "markdown",
   "id": "58ecd701",
   "metadata": {},
   "source": [
    "What is the average trip duration for standard bikes vs electric bikes?"
   ]
  },
  {
   "cell_type": "markdown",
   "id": "a582ac14",
   "metadata": {},
   "source": [
    "Do riders with day passes more often use standard or electric bikes?"
   ]
  },
  {
   "cell_type": "markdown",
   "id": "9fddce17",
   "metadata": {},
   "source": [
    "## <a name=\"adddistancedata\"></a> To be added - Add trip distance using Google Maps APIs\n",
    "[Return to Top](#top)"
   ]
  },
  {
   "cell_type": "markdown",
   "id": "ecccdea8",
   "metadata": {},
   "source": [
    "**For each start station, build a list of end stations that have an existing trip**\n",
    "\n",
    "**Then, using Google Distance Matrix API to calculate the distance between these stations**"
   ]
  },
  {
   "cell_type": "markdown",
   "id": "227e46f7",
   "metadata": {},
   "source": [
    "<br><br>\n",
    "Select all station (start, end) combinations that include a trip in the data set\n",
    "\n",
    "**Out of 31,506 possible combinations, 19,072 have a trip in the data set**\n"
   ]
  },
  {
   "cell_type": "code",
   "execution_count": 607,
   "id": "5ae74374",
   "metadata": {},
   "outputs": [
    {
     "data": {
      "text/html": [
       "<div>\n",
       "<style scoped>\n",
       "    .dataframe tbody tr th:only-of-type {\n",
       "        vertical-align: middle;\n",
       "    }\n",
       "\n",
       "    .dataframe tbody tr th {\n",
       "        vertical-align: top;\n",
       "    }\n",
       "\n",
       "    .dataframe thead th {\n",
       "        text-align: right;\n",
       "    }\n",
       "</style>\n",
       "<table border=\"1\" class=\"dataframe\">\n",
       "  <thead>\n",
       "    <tr style=\"text-align: right;\">\n",
       "      <th></th>\n",
       "      <th>start_station</th>\n",
       "      <th>end_station</th>\n",
       "      <th>count</th>\n",
       "    </tr>\n",
       "  </thead>\n",
       "  <tbody>\n",
       "    <tr>\n",
       "      <th>0</th>\n",
       "      <td>3004</td>\n",
       "      <td>3004</td>\n",
       "      <td>27</td>\n",
       "    </tr>\n",
       "    <tr>\n",
       "      <th>1</th>\n",
       "      <td>3004</td>\n",
       "      <td>3005</td>\n",
       "      <td>5</td>\n",
       "    </tr>\n",
       "    <tr>\n",
       "      <th>2</th>\n",
       "      <td>3004</td>\n",
       "      <td>3006</td>\n",
       "      <td>3</td>\n",
       "    </tr>\n",
       "    <tr>\n",
       "      <th>3</th>\n",
       "      <td>3004</td>\n",
       "      <td>3007</td>\n",
       "      <td>4</td>\n",
       "    </tr>\n",
       "    <tr>\n",
       "      <th>4</th>\n",
       "      <td>3004</td>\n",
       "      <td>3008</td>\n",
       "      <td>9</td>\n",
       "    </tr>\n",
       "    <tr>\n",
       "      <th>...</th>\n",
       "      <td>...</td>\n",
       "      <td>...</td>\n",
       "      <td>...</td>\n",
       "    </tr>\n",
       "    <tr>\n",
       "      <th>19067</th>\n",
       "      <td>3256</td>\n",
       "      <td>3212</td>\n",
       "      <td>1</td>\n",
       "    </tr>\n",
       "    <tr>\n",
       "      <th>19068</th>\n",
       "      <td>3256</td>\n",
       "      <td>3248</td>\n",
       "      <td>1</td>\n",
       "    </tr>\n",
       "    <tr>\n",
       "      <th>19069</th>\n",
       "      <td>3256</td>\n",
       "      <td>3249</td>\n",
       "      <td>2</td>\n",
       "    </tr>\n",
       "    <tr>\n",
       "      <th>19070</th>\n",
       "      <td>3256</td>\n",
       "      <td>3255</td>\n",
       "      <td>1</td>\n",
       "    </tr>\n",
       "    <tr>\n",
       "      <th>19071</th>\n",
       "      <td>3256</td>\n",
       "      <td>3256</td>\n",
       "      <td>15</td>\n",
       "    </tr>\n",
       "  </tbody>\n",
       "</table>\n",
       "<p>19072 rows × 3 columns</p>\n",
       "</div>"
      ],
      "text/plain": [
       "       start_station  end_station  count\n",
       "0               3004         3004     27\n",
       "1               3004         3005      5\n",
       "2               3004         3006      3\n",
       "3               3004         3007      4\n",
       "4               3004         3008      9\n",
       "...              ...          ...    ...\n",
       "19067           3256         3212      1\n",
       "19068           3256         3248      1\n",
       "19069           3256         3249      2\n",
       "19070           3256         3255      1\n",
       "19071           3256         3256     15\n",
       "\n",
       "[19072 rows x 3 columns]"
      ]
     },
     "execution_count": 607,
     "metadata": {},
     "output_type": "execute_result"
    }
   ],
   "source": [
    "ts_data.groupby([\"start_station\", \"end_station\"]).size().reset_index(name='count')"
   ]
  },
  {
   "cell_type": "code",
   "execution_count": null,
   "id": "70e251b8",
   "metadata": {},
   "outputs": [],
   "source": []
  }
 ],
 "metadata": {
  "kernelspec": {
   "display_name": "Python 3 (ipykernel)",
   "language": "python",
   "name": "python3"
  },
  "language_info": {
   "codemirror_mode": {
    "name": "ipython",
    "version": 3
   },
   "file_extension": ".py",
   "mimetype": "text/x-python",
   "name": "python",
   "nbconvert_exporter": "python",
   "pygments_lexer": "ipython3",
   "version": "3.9.7"
  }
 },
 "nbformat": 4,
 "nbformat_minor": 5
}
