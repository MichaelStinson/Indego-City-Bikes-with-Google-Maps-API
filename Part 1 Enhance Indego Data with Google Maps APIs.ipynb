{
 "cells": [
  {
   "cell_type": "markdown",
   "id": "ca510406",
   "metadata": {},
   "source": [
    "<a name=\"top\"></a>\n",
    "# Part 1: Enhance Indego Data with Google Maps APIs\n",
    "\n",
    "Indego publishes quarterly data on city bike usage. The following will clean the data, enhance it with additional information, and store it locally so it can be used for future analysis.\n",
    "\n",
    "Google Maps APIs will be used to enhance the data set with the following\n",
    "- Neighborhood information for each bike station\n",
    "- Distance between stations, following bike routes\n",
    "\n",
    "The following will *(if viewing thru GitHub, jump to links below will not work)*<br>\n",
    "- [Load station data](#loadstation)\n",
    "- [Add Neighborhood to station data, using Geocode API](#addneighborhood)\n",
    "- [Write enhanced station data to a csv](#writestationdata)\n",
    "- [Load trip data](#loadtripdata)\n",
    "- [Clean trip data](#cleantripdata)\n",
    "- [Join trip data with station data](#jointripdata)\n",
    "- [Calculate distance for each trip, using Distance Matrix API](#distancedata)\n",
    "- [Write enhanced trip data to a csv](#writetripdata)\n",
    "- [Store data as a SQL database](#Store-data-as-a-SQL-database)"
   ]
  },
  {
   "cell_type": "markdown",
   "id": "63e542f2",
   "metadata": {},
   "source": [
    "<br><br>\n",
    "## <a name=\"loadstation\"></a> Load station data\n",
    "\n",
    "[Return to Top](#top)\n",
    "\n",
    "Data on Indego stations is stored in a single csv file"
   ]
  },
  {
   "cell_type": "code",
   "execution_count": 213,
   "id": "c5364b52",
   "metadata": {},
   "outputs": [],
   "source": [
    "import os\n",
    "import pandas as pd\n",
    "import numpy as np\n",
    "\n",
    "# Load from csv in the current working director\n",
    "station_data = pd.read_csv(os.getcwd() + \"/source_data/indego-stations-2021-10-01.csv\")"
   ]
  },
  {
   "cell_type": "code",
   "execution_count": 214,
   "id": "1f53d85a",
   "metadata": {
    "scrolled": false
   },
   "outputs": [
    {
     "data": {
      "text/html": [
       "<div>\n",
       "<style scoped>\n",
       "    .dataframe tbody tr th:only-of-type {\n",
       "        vertical-align: middle;\n",
       "    }\n",
       "\n",
       "    .dataframe tbody tr th {\n",
       "        vertical-align: top;\n",
       "    }\n",
       "\n",
       "    .dataframe thead th {\n",
       "        text-align: right;\n",
       "    }\n",
       "</style>\n",
       "<table border=\"1\" class=\"dataframe\">\n",
       "  <thead>\n",
       "    <tr style=\"text-align: right;\">\n",
       "      <th></th>\n",
       "      <th>Station_ID</th>\n",
       "      <th>Station_Name</th>\n",
       "      <th>Day of Go_live_date</th>\n",
       "      <th>Status</th>\n",
       "    </tr>\n",
       "  </thead>\n",
       "  <tbody>\n",
       "    <tr>\n",
       "      <th>0</th>\n",
       "      <td>3000</td>\n",
       "      <td>Virtual Station</td>\n",
       "      <td>4/23/2015</td>\n",
       "      <td>Active</td>\n",
       "    </tr>\n",
       "    <tr>\n",
       "      <th>1</th>\n",
       "      <td>3004</td>\n",
       "      <td>Municipal Services Building Plaza</td>\n",
       "      <td>4/23/2015</td>\n",
       "      <td>Active</td>\n",
       "    </tr>\n",
       "    <tr>\n",
       "      <th>2</th>\n",
       "      <td>3005</td>\n",
       "      <td>Welcome Park, NPS</td>\n",
       "      <td>4/23/2015</td>\n",
       "      <td>Active</td>\n",
       "    </tr>\n",
       "    <tr>\n",
       "      <th>3</th>\n",
       "      <td>3006</td>\n",
       "      <td>40th &amp; Spruce</td>\n",
       "      <td>4/23/2015</td>\n",
       "      <td>Active</td>\n",
       "    </tr>\n",
       "    <tr>\n",
       "      <th>4</th>\n",
       "      <td>3007</td>\n",
       "      <td>11th &amp; Pine, Kahn Park</td>\n",
       "      <td>4/23/2015</td>\n",
       "      <td>Active</td>\n",
       "    </tr>\n",
       "  </tbody>\n",
       "</table>\n",
       "</div>"
      ],
      "text/plain": [
       "   Station_ID                       Station_Name Day of Go_live_date  Status\n",
       "0        3000                    Virtual Station           4/23/2015  Active\n",
       "1        3004  Municipal Services Building Plaza           4/23/2015  Active\n",
       "2        3005                  Welcome Park, NPS           4/23/2015  Active\n",
       "3        3006                      40th & Spruce           4/23/2015  Active\n",
       "4        3007             11th & Pine, Kahn Park           4/23/2015  Active"
      ]
     },
     "execution_count": 214,
     "metadata": {},
     "output_type": "execute_result"
    }
   ],
   "source": [
    "# Print the first few rows of data\n",
    "station_data.head()"
   ]
  },
  {
   "cell_type": "markdown",
   "id": "08068d44",
   "metadata": {},
   "source": [
    "<br>\n",
    "Clean up the header info"
   ]
  },
  {
   "cell_type": "code",
   "execution_count": 215,
   "id": "098f04d6",
   "metadata": {},
   "outputs": [
    {
     "name": "stdout",
     "output_type": "stream",
     "text": [
      "Index(['station_id', 'station_name', 'day_of_go_live_date', 'status'], dtype='object')\n"
     ]
    }
   ],
   "source": [
    "# Get current column names\n",
    "header = station_data.columns\n",
    "new_header = []\n",
    "\n",
    "# For each column name, convert to lowercase and replace any spaces with underscores\n",
    "for h in header:\n",
    "    clean = h.lower()\n",
    "    clean = clean.replace(\" \", \"_\")\n",
    "    new_header.append(clean)\n",
    "    \n",
    "station_data.columns = new_header\n",
    "print(station_data.columns)"
   ]
  },
  {
   "cell_type": "markdown",
   "id": "b2e045f0",
   "metadata": {},
   "source": [
    "<br>\n",
    "Some stations have the same name - these will be assumed to be at the same location"
   ]
  },
  {
   "cell_type": "code",
   "execution_count": 273,
   "id": "a8f839a4",
   "metadata": {},
   "outputs": [
    {
     "data": {
      "text/html": [
       "<div>\n",
       "<style scoped>\n",
       "    .dataframe tbody tr th:only-of-type {\n",
       "        vertical-align: middle;\n",
       "    }\n",
       "\n",
       "    .dataframe tbody tr th {\n",
       "        vertical-align: top;\n",
       "    }\n",
       "\n",
       "    .dataframe thead th {\n",
       "        text-align: right;\n",
       "    }\n",
       "</style>\n",
       "<table border=\"1\" class=\"dataframe\">\n",
       "  <thead>\n",
       "    <tr style=\"text-align: right;\">\n",
       "      <th></th>\n",
       "      <th>station_id</th>\n",
       "      <th>station_name</th>\n",
       "      <th>day_of_go_live_date</th>\n",
       "      <th>status</th>\n",
       "      <th>neighborhood</th>\n",
       "    </tr>\n",
       "  </thead>\n",
       "  <tbody>\n",
       "    <tr>\n",
       "      <th>154</th>\n",
       "      <td>3213</td>\n",
       "      <td>Broad &amp; Carpenter</td>\n",
       "      <td>9/16/2020</td>\n",
       "      <td>Inactive</td>\n",
       "      <td>Graduate Hospital</td>\n",
       "    </tr>\n",
       "    <tr>\n",
       "      <th>155</th>\n",
       "      <td>3214</td>\n",
       "      <td>Broad &amp; Cecil B Moore</td>\n",
       "      <td>9/22/2020</td>\n",
       "      <td>Active</td>\n",
       "      <td>North Philadelphia</td>\n",
       "    </tr>\n",
       "    <tr>\n",
       "      <th>166</th>\n",
       "      <td>3244</td>\n",
       "      <td>Broad &amp; Carpenter</td>\n",
       "      <td>7/15/2021</td>\n",
       "      <td>Active</td>\n",
       "      <td>Graduate Hospital</td>\n",
       "    </tr>\n",
       "    <tr>\n",
       "      <th>167</th>\n",
       "      <td>3245</td>\n",
       "      <td>Broad &amp; Cecil B Moore</td>\n",
       "      <td>9/21/2021</td>\n",
       "      <td>Active</td>\n",
       "      <td>North Philadelphia</td>\n",
       "    </tr>\n",
       "  </tbody>\n",
       "</table>\n",
       "</div>"
      ],
      "text/plain": [
       "    station_id           station_name day_of_go_live_date    status  \\\n",
       "154       3213      Broad & Carpenter           9/16/2020  Inactive   \n",
       "155       3214  Broad & Cecil B Moore           9/22/2020    Active   \n",
       "166       3244      Broad & Carpenter           7/15/2021    Active   \n",
       "167       3245  Broad & Cecil B Moore           9/21/2021    Active   \n",
       "\n",
       "           neighborhood  \n",
       "154   Graduate Hospital  \n",
       "155  North Philadelphia  \n",
       "166   Graduate Hospital  \n",
       "167  North Philadelphia  "
      ]
     },
     "execution_count": 273,
     "metadata": {},
     "output_type": "execute_result"
    }
   ],
   "source": [
    "station_data.loc[station_data[\"station_name\"].duplicated(keep=False)]"
   ]
  },
  {
   "cell_type": "markdown",
   "id": "d9a9c502",
   "metadata": {},
   "source": [
    "<br><br>\n",
    "## <a name=\"addneighborhood\"></a> Add Neighborhood to station data, using Geocode API\n",
    "[Return to Top](#top)\n",
    "\n",
    "Add a Neighborhood attribute to station data, based on Google Maps geocode data"
   ]
  },
  {
   "cell_type": "markdown",
   "id": "53ec92b5",
   "metadata": {},
   "source": [
    "<br>Initialize Googe Maps API"
   ]
  },
  {
   "cell_type": "code",
   "execution_count": 216,
   "id": "caa35f4f",
   "metadata": {},
   "outputs": [],
   "source": [
    "import googlemaps\n",
    "from dotenv import load_dotenv\n",
    "\n",
    "# Load env file\n",
    "load_dotenv(\"indego.env\")\n",
    "\n",
    "# Get the Google Maps API key from the env file\n",
    "api_key = os.getenv('API_KEY')\n",
    "\n",
    "# Initialize Google Maps API\n",
    "gmaps = googlemaps.Client(key=api_key)"
   ]
  },
  {
   "cell_type": "markdown",
   "id": "69286179",
   "metadata": {},
   "source": [
    "<br>\n",
    "Use the Google Maps geocode API to assign a Neighborhood to each station\n",
    "\n",
    "- For each station, call the API and pass the full station name\n",
    "- Parse the response to find the neighborhood value and assign it back to the station_data df\n",
    "\n",
    "\n",
    "Define a get_neighborhood function (in the Trip data section, there is some missing data that requires use of this function)"
   ]
  },
  {
   "cell_type": "code",
   "execution_count": 217,
   "id": "c5abb214",
   "metadata": {},
   "outputs": [],
   "source": [
    "# Add a column 'neighborhood' to station data\n",
    "station_data[\"neighborhood\"] = ''"
   ]
  },
  {
   "cell_type": "code",
   "execution_count": 218,
   "id": "e0b2805b",
   "metadata": {},
   "outputs": [],
   "source": [
    "# get_neighborhood receives an address as a string\n",
    "# returns neighborhood as a string or NaN if not found\n",
    "def get_neighborhood(addr):\n",
    "    # Call the geocode API, for the current station\n",
    "    # geocode returns a dict with results\n",
    "    geocode = gmaps.geocode(addr)\n",
    "\n",
    "    # Get address_components list in  result\n",
    "    gr = geocode[0][\"address_components\"]\n",
    "    found_neighborhood = False\n",
    "\n",
    "    # Iterate through address_components, looking for \"neighborhood\"\n",
    "    # If found, assign the value into the df\n",
    "    for r in gr:\n",
    "        if \"neighborhood\" in r[\"types\"]:\n",
    "            return r[\"long_name\"]\n",
    "    \n",
    "    # If no neighborhood found, return NaN        \n",
    "    return np.NaN"
   ]
  },
  {
   "cell_type": "code",
   "execution_count": 219,
   "id": "71302403",
   "metadata": {},
   "outputs": [],
   "source": [
    "# Iterate over each station\n",
    "for index, row in station_data.iterrows():\n",
    "    # In case API calls run into an issue and this block of code has to be run multiple times, \n",
    "    # the check below avoids re-populating rows that have already been returned\n",
    "    if station_data.loc[index,\"neighborhood\"] == \"\":\n",
    "        # Get neighboorhod for the current station\n",
    "        neighborhood = get_neighborhood(station_data.loc[index,\"station_name\"] + \", Philadelphia, PA\")\n",
    "        \n",
    "        # Assign the result into the dataset\n",
    "        station_data.loc[index,\"neighborhood\"] = neighborhood"
   ]
  },
  {
   "cell_type": "markdown",
   "id": "fac46aff",
   "metadata": {},
   "source": [
    "<br>\n",
    "Find any rows that did not return a neighborhood result"
   ]
  },
  {
   "cell_type": "code",
   "execution_count": 220,
   "id": "8cd1e994",
   "metadata": {
    "scrolled": true
   },
   "outputs": [
    {
     "name": "stdout",
     "output_type": "stream",
     "text": [
      "     station_id  station_name day_of_go_live_date  status neighborhood\n",
      "145        3204  17th & Green          11/14/2019  Active          NaN\n"
     ]
    }
   ],
   "source": [
    "# Find rows where Neighborhood == NaN\n",
    "missing_neighorhood = station_data.loc[station_data[\"neighborhood\"].isna()]\n",
    "print(missing_neighorhood.to_string())"
   ]
  },
  {
   "cell_type": "markdown",
   "id": "a17bb6c9",
   "metadata": {},
   "source": [
    "<br>\n",
    "Manually populate the data for this item"
   ]
  },
  {
   "cell_type": "code",
   "execution_count": 221,
   "id": "736fc647",
   "metadata": {},
   "outputs": [],
   "source": [
    "station_data.loc[145, \"neighborhood\"] = \"North Philadelphia\""
   ]
  },
  {
   "cell_type": "markdown",
   "id": "ba9eeb3e",
   "metadata": {},
   "source": [
    "<br><br>\n",
    "## <a name=\"writestationdata\"></a> Write enhanced station data to a csv\n",
    "\n",
    "[Return to Top](#top)\n",
    "\n",
    "Store this data in a new csv file, so it can be used later"
   ]
  },
  {
   "cell_type": "code",
   "execution_count": 222,
   "id": "fda4ecb9",
   "metadata": {},
   "outputs": [],
   "source": [
    "def station_to_csv():\n",
    "    station_data.to_csv(os.getcwd() + \"/staged_data/indego-stations-2021-10-01-enhanced.csv\", index=False)\n",
    "\n",
    "station_to_csv()"
   ]
  },
  {
   "cell_type": "markdown",
   "id": "152ec2d1",
   "metadata": {},
   "source": [
    "<br><br>\n",
    "## <a name=\"loadtripdata\"></a> Load trip data\n",
    "[Return to Top](#top)\n",
    "\n",
    "Trip data is stored in a series of csv files that need to be loaded"
   ]
  },
  {
   "cell_type": "code",
   "execution_count": 363,
   "id": "bbff9550",
   "metadata": {},
   "outputs": [],
   "source": [
    "# List includes end of filename for each csv file\n",
    "csv_list = ['2019-q1', '2019-q2', '2019-q3', '2019-q4', \n",
    "            '2020-q1', '2020-q2', '2020-q3', '2020-q4', \n",
    "            '2021-q1', '2021-q2', '2021-q3']\n",
    "\n",
    "trip_data = pd.DataFrame()\n",
    "for row in csv_list:\n",
    "    fpath = os.getcwd() + \"/source_data/indego-trips-\" + row + \".csv\"\n",
    "    trip_data = trip_data.append(pd.read_csv(fpath, dtype={'bike_id':'object'}))"
   ]
  },
  {
   "cell_type": "code",
   "execution_count": 364,
   "id": "0876afe6",
   "metadata": {
    "scrolled": true
   },
   "outputs": [
    {
     "data": {
      "text/plain": [
       "Index(['trip_id', 'duration', 'start_time', 'end_time', 'start_station',\n",
       "       'start_lat', 'start_lon', 'end_station', 'end_lat', 'end_lon',\n",
       "       'bike_id', 'plan_duration', 'trip_route_category', 'passholder_type',\n",
       "       'bike_type'],\n",
       "      dtype='object')"
      ]
     },
     "execution_count": 364,
     "metadata": {},
     "output_type": "execute_result"
    }
   ],
   "source": [
    "trip_data.columns"
   ]
  },
  {
   "cell_type": "code",
   "execution_count": 365,
   "id": "7b9c28ec",
   "metadata": {},
   "outputs": [
    {
     "name": "stdout",
     "output_type": "stream",
     "text": [
      "Number of trips: 2,108,330\n"
     ]
    }
   ],
   "source": [
    "print(\"Number of trips: {:,}\".format(len(trip_data)))"
   ]
  },
  {
   "cell_type": "code",
   "execution_count": 366,
   "id": "27e6be41",
   "metadata": {},
   "outputs": [
    {
     "name": "stdout",
     "output_type": "stream",
     "text": [
      "<class 'pandas.core.frame.DataFrame'>\n",
      "Int64Index: 2108330 entries, 0 to 300431\n",
      "Data columns (total 15 columns):\n",
      " #   Column               Dtype  \n",
      "---  ------               -----  \n",
      " 0   trip_id              int64  \n",
      " 1   duration             int64  \n",
      " 2   start_time           object \n",
      " 3   end_time             object \n",
      " 4   start_station        int64  \n",
      " 5   start_lat            float64\n",
      " 6   start_lon            float64\n",
      " 7   end_station          int64  \n",
      " 8   end_lat              float64\n",
      " 9   end_lon              float64\n",
      " 10  bike_id              object \n",
      " 11  plan_duration        float64\n",
      " 12  trip_route_category  object \n",
      " 13  passholder_type      object \n",
      " 14  bike_type            object \n",
      "dtypes: float64(5), int64(4), object(6)\n",
      "memory usage: 257.4+ MB\n"
     ]
    }
   ],
   "source": [
    "trip_data.info()"
   ]
  },
  {
   "cell_type": "markdown",
   "id": "605ccb1e",
   "metadata": {},
   "source": [
    "<br><br>\n",
    "## <a name=\"cleantripdata\"></a> Clean trip data\n",
    "[Return to Top](#top)\n",
    "\n",
    "Remove data that is likely incorrect and would skew analysis if not removed"
   ]
  },
  {
   "cell_type": "markdown",
   "id": "f8e9aa6e",
   "metadata": {},
   "source": [
    "<br><br>\n",
    "Drop trips that start or end at a virtual station (station id = 3000)"
   ]
  },
  {
   "cell_type": "code",
   "execution_count": 369,
   "id": "210aa3b0",
   "metadata": {},
   "outputs": [
    {
     "name": "stdout",
     "output_type": "stream",
     "text": [
      "Original number of trips: 2,108,330\n",
      "Current number of trips: 2,072,116\n"
     ]
    }
   ],
   "source": [
    "# Save the original number of trips in dataset\n",
    "orig_num_trips = len(trip_data)\n",
    "\n",
    "# Keep only trips where start or end station != 3000\n",
    "trip_data = trip_data.loc[(trip_data['start_station'] != 3000) & (trip_data['end_station'] != 3000)]\n",
    "\n",
    "# Output number of trips\n",
    "print(\"Original number of trips: {:,}\".format(orig_num_trips))\n",
    "print(\"Current number of trips: {:,}\".format(len(trip_data)))"
   ]
  },
  {
   "cell_type": "markdown",
   "id": "978b59f7",
   "metadata": {},
   "source": [
    "<br>Drop trips longer than 3 hours - for this analysis, assume these are a result of user error"
   ]
  },
  {
   "cell_type": "code",
   "execution_count": 370,
   "id": "9855ffcd",
   "metadata": {},
   "outputs": [
    {
     "name": "stdout",
     "output_type": "stream",
     "text": [
      "Current number of trips: 2,052,670\n"
     ]
    }
   ],
   "source": [
    "# Keep only trips where duration <= 180 minutes\n",
    "trip_data = trip_data.loc[trip_data[\"duration\"]<= 180]\n",
    "\n",
    "print(\"Current number of trips: {:,}\".format(len(trip_data)))"
   ]
  },
  {
   "cell_type": "markdown",
   "id": "082580b2",
   "metadata": {},
   "source": [
    "<br>\n",
    "Drop round trips that are under 5 minutes - for this analysis, assume these are a result of user error"
   ]
  },
  {
   "cell_type": "code",
   "execution_count": 371,
   "id": "ddcd3ca9",
   "metadata": {},
   "outputs": [
    {
     "name": "stdout",
     "output_type": "stream",
     "text": [
      "Current number of trips: 1,989,934\n"
     ]
    }
   ],
   "source": [
    "# Keep round trips where duration > 5 minutes, as well as all one way trips \n",
    "trip_data = trip_data.loc[((trip_data[\"duration\"] > 5) & (trip_data[\"trip_route_category\"] == \"Round Trip\")) | ((trip_data[\"trip_route_category\"] == \"One Way\"))]\n",
    "\n",
    "print(\"Current number of trips: {:,}\".format(len(trip_data)))"
   ]
  },
  {
   "cell_type": "markdown",
   "id": "8b8ad7db",
   "metadata": {},
   "source": [
    "<br>Calculate how many trips were removed due from original data"
   ]
  },
  {
   "cell_type": "code",
   "execution_count": 372,
   "id": "43f0915a",
   "metadata": {},
   "outputs": [
    {
     "name": "stdout",
     "output_type": "stream",
     "text": [
      "Removed 118,396 of 2,108,330 trips from original dataset. \n",
      "1,989,934 trips remain\n"
     ]
    }
   ],
   "source": [
    "print(\"Removed {:,} of {:,} trips from original dataset. \\n{:,} trips remain\".format(orig_num_trips - len(trip_data), orig_num_trips, len(trip_data)))"
   ]
  },
  {
   "cell_type": "markdown",
   "id": "0eb3b6c6",
   "metadata": {},
   "source": [
    "<br><br>\n",
    "## <a name=\"jointripdata\"></a> Join trip data with station data\n",
    "[Return to Top](#top)\n",
    "\n",
    "Join trip data with station data"
   ]
  },
  {
   "cell_type": "code",
   "execution_count": 373,
   "id": "5355541a",
   "metadata": {},
   "outputs": [
    {
     "data": {
      "text/html": [
       "<div>\n",
       "<style scoped>\n",
       "    .dataframe tbody tr th:only-of-type {\n",
       "        vertical-align: middle;\n",
       "    }\n",
       "\n",
       "    .dataframe tbody tr th {\n",
       "        vertical-align: top;\n",
       "    }\n",
       "\n",
       "    .dataframe thead th {\n",
       "        text-align: right;\n",
       "    }\n",
       "</style>\n",
       "<table border=\"1\" class=\"dataframe\">\n",
       "  <thead>\n",
       "    <tr style=\"text-align: right;\">\n",
       "      <th></th>\n",
       "      <th>trip_id</th>\n",
       "      <th>duration</th>\n",
       "      <th>start_time</th>\n",
       "      <th>end_time</th>\n",
       "      <th>start_station</th>\n",
       "      <th>start_lat</th>\n",
       "      <th>start_lon</th>\n",
       "      <th>end_station</th>\n",
       "      <th>end_lat</th>\n",
       "      <th>end_lon</th>\n",
       "      <th>bike_id</th>\n",
       "      <th>plan_duration</th>\n",
       "      <th>trip_route_category</th>\n",
       "      <th>passholder_type</th>\n",
       "      <th>bike_type</th>\n",
       "      <th>start_name</th>\n",
       "      <th>start_neighborhood</th>\n",
       "      <th>end_name</th>\n",
       "      <th>end_neighborhood</th>\n",
       "    </tr>\n",
       "  </thead>\n",
       "  <tbody>\n",
       "    <tr>\n",
       "      <th>0</th>\n",
       "      <td>306773863</td>\n",
       "      <td>8</td>\n",
       "      <td>2019-01-01 00:19:00</td>\n",
       "      <td>2019-01-01 00:27:00</td>\n",
       "      <td>3049</td>\n",
       "      <td>39.945091</td>\n",
       "      <td>-75.142502</td>\n",
       "      <td>3007</td>\n",
       "      <td>39.945171</td>\n",
       "      <td>-75.159927</td>\n",
       "      <td>14495</td>\n",
       "      <td>30.0</td>\n",
       "      <td>One Way</td>\n",
       "      <td>Indego30</td>\n",
       "      <td>standard</td>\n",
       "      <td>Foglietta Plaza</td>\n",
       "      <td>Center City</td>\n",
       "      <td>11th &amp; Pine, Kahn Park</td>\n",
       "      <td>Washington Square West</td>\n",
       "    </tr>\n",
       "    <tr>\n",
       "      <th>1</th>\n",
       "      <td>306773862</td>\n",
       "      <td>7</td>\n",
       "      <td>2019-01-01 00:30:00</td>\n",
       "      <td>2019-01-01 00:37:00</td>\n",
       "      <td>3005</td>\n",
       "      <td>39.947330</td>\n",
       "      <td>-75.144028</td>\n",
       "      <td>3007</td>\n",
       "      <td>39.945171</td>\n",
       "      <td>-75.159927</td>\n",
       "      <td>05332</td>\n",
       "      <td>1.0</td>\n",
       "      <td>One Way</td>\n",
       "      <td>Day Pass</td>\n",
       "      <td>standard</td>\n",
       "      <td>Welcome Park, NPS</td>\n",
       "      <td>Center City East</td>\n",
       "      <td>11th &amp; Pine, Kahn Park</td>\n",
       "      <td>Washington Square West</td>\n",
       "    </tr>\n",
       "  </tbody>\n",
       "</table>\n",
       "</div>"
      ],
      "text/plain": [
       "     trip_id  duration           start_time             end_time  \\\n",
       "0  306773863         8  2019-01-01 00:19:00  2019-01-01 00:27:00   \n",
       "1  306773862         7  2019-01-01 00:30:00  2019-01-01 00:37:00   \n",
       "\n",
       "  start_station  start_lat  start_lon end_station    end_lat    end_lon  \\\n",
       "0          3049  39.945091 -75.142502        3007  39.945171 -75.159927   \n",
       "1          3005  39.947330 -75.144028        3007  39.945171 -75.159927   \n",
       "\n",
       "  bike_id  plan_duration trip_route_category passholder_type bike_type  \\\n",
       "0   14495           30.0             One Way        Indego30  standard   \n",
       "1   05332            1.0             One Way        Day Pass  standard   \n",
       "\n",
       "          start_name start_neighborhood                end_name  \\\n",
       "0    Foglietta Plaza        Center City  11th & Pine, Kahn Park   \n",
       "1  Welcome Park, NPS   Center City East  11th & Pine, Kahn Park   \n",
       "\n",
       "         end_neighborhood  \n",
       "0  Washington Square West  \n",
       "1  Washington Square West  "
      ]
     },
     "execution_count": 373,
     "metadata": {},
     "output_type": "execute_result"
    }
   ],
   "source": [
    "# Join start station data\n",
    "ts_data = pd.merge(left=trip_data, right=station_data[[\"station_id\", \"station_name\", \"neighborhood\"]], how=\"left\", left_on=\"start_station\", right_on=\"station_id\").drop(columns=[\"station_id\"])\n",
    "\n",
    "# Join end station data\n",
    "ts_data = pd.merge(left=ts_data, right=station_data[[\"station_id\", \"station_name\", \"neighborhood\"]], how=\"left\", left_on=\"end_station\", right_on=\"station_id\").drop(columns=[\"station_id\"])\n",
    "\n",
    "# Rename merged columns \n",
    "ts_data = ts_data.rename(columns={\"station_name_x\":\"start_name\", \"neighborhood_x\":\"start_neighborhood\"})\n",
    "ts_data = ts_data.rename(columns={\"station_name_y\":\"end_name\", \"neighborhood_y\":\"end_neighborhood\"})\n",
    "\n",
    "ts_data.head(2)"
   ]
  },
  {
   "cell_type": "markdown",
   "id": "5cd2a9ca",
   "metadata": {},
   "source": [
    "<br>Check if any trip data is missing start or end information"
   ]
  },
  {
   "cell_type": "code",
   "execution_count": 374,
   "id": "6d2f07bd",
   "metadata": {},
   "outputs": [
    {
     "name": "stdout",
     "output_type": "stream",
     "text": [
      "19\n",
      "19\n",
      "18\n",
      "18\n"
     ]
    }
   ],
   "source": [
    "print(len(ts_data.loc[ts_data[\"start_name\"].isnull()]))\n",
    "print(len(ts_data.loc[ts_data[\"start_neighborhood\"].isnull()]))\n",
    "print(len(ts_data.loc[ts_data[\"end_name\"].isnull()]))\n",
    "print(len(ts_data.loc[ts_data[\"end_neighborhood\"].isnull()]))"
   ]
  },
  {
   "cell_type": "markdown",
   "id": "ab08ac26",
   "metadata": {},
   "source": [
    "<br>There is an additional station 3042 that is not included in the station data:"
   ]
  },
  {
   "cell_type": "code",
   "execution_count": 375,
   "id": "968ce105",
   "metadata": {},
   "outputs": [
    {
     "data": {
      "text/html": [
       "<div>\n",
       "<style scoped>\n",
       "    .dataframe tbody tr th:only-of-type {\n",
       "        vertical-align: middle;\n",
       "    }\n",
       "\n",
       "    .dataframe tbody tr th {\n",
       "        vertical-align: top;\n",
       "    }\n",
       "\n",
       "    .dataframe thead th {\n",
       "        text-align: right;\n",
       "    }\n",
       "</style>\n",
       "<table border=\"1\" class=\"dataframe\">\n",
       "  <thead>\n",
       "    <tr style=\"text-align: right;\">\n",
       "      <th></th>\n",
       "      <th>trip_id</th>\n",
       "      <th>duration</th>\n",
       "      <th>start_time</th>\n",
       "      <th>end_time</th>\n",
       "      <th>start_station</th>\n",
       "      <th>start_lat</th>\n",
       "      <th>start_lon</th>\n",
       "      <th>end_station</th>\n",
       "      <th>end_lat</th>\n",
       "      <th>end_lon</th>\n",
       "      <th>bike_id</th>\n",
       "      <th>plan_duration</th>\n",
       "      <th>trip_route_category</th>\n",
       "      <th>passholder_type</th>\n",
       "      <th>bike_type</th>\n",
       "      <th>start_name</th>\n",
       "      <th>start_neighborhood</th>\n",
       "      <th>end_name</th>\n",
       "      <th>end_neighborhood</th>\n",
       "    </tr>\n",
       "  </thead>\n",
       "  <tbody>\n",
       "    <tr>\n",
       "      <th>550228</th>\n",
       "      <td>326839302</td>\n",
       "      <td>8</td>\n",
       "      <td>2019-10-01 17:38:10</td>\n",
       "      <td>2019-10-01 17:46:38</td>\n",
       "      <td>3042</td>\n",
       "      <td>39.949421</td>\n",
       "      <td>-75.16613</td>\n",
       "      <td>3073</td>\n",
       "      <td>39.961430</td>\n",
       "      <td>-75.15242</td>\n",
       "      <td>16389</td>\n",
       "      <td>365.0</td>\n",
       "      <td>One Way</td>\n",
       "      <td>Indego365</td>\n",
       "      <td>electric</td>\n",
       "      <td>NaN</td>\n",
       "      <td>NaN</td>\n",
       "      <td>9th &amp; Spring Garden</td>\n",
       "      <td>Center City</td>\n",
       "    </tr>\n",
       "    <tr>\n",
       "      <th>553388</th>\n",
       "      <td>326970681</td>\n",
       "      <td>3</td>\n",
       "      <td>2019-10-02 17:08:20</td>\n",
       "      <td>2019-10-02 17:11:49</td>\n",
       "      <td>3042</td>\n",
       "      <td>39.949421</td>\n",
       "      <td>-75.16613</td>\n",
       "      <td>3088</td>\n",
       "      <td>39.969841</td>\n",
       "      <td>-75.14180</td>\n",
       "      <td>16682</td>\n",
       "      <td>365.0</td>\n",
       "      <td>One Way</td>\n",
       "      <td>Indego365</td>\n",
       "      <td>electric</td>\n",
       "      <td>NaN</td>\n",
       "      <td>NaN</td>\n",
       "      <td>3rd &amp; Girard</td>\n",
       "      <td>Olde Kensington</td>\n",
       "    </tr>\n",
       "  </tbody>\n",
       "</table>\n",
       "</div>"
      ],
      "text/plain": [
       "          trip_id  duration           start_time             end_time  \\\n",
       "550228  326839302         8  2019-10-01 17:38:10  2019-10-01 17:46:38   \n",
       "553388  326970681         3  2019-10-02 17:08:20  2019-10-02 17:11:49   \n",
       "\n",
       "       start_station  start_lat  start_lon end_station    end_lat   end_lon  \\\n",
       "550228          3042  39.949421  -75.16613        3073  39.961430 -75.15242   \n",
       "553388          3042  39.949421  -75.16613        3088  39.969841 -75.14180   \n",
       "\n",
       "       bike_id  plan_duration trip_route_category passholder_type bike_type  \\\n",
       "550228   16389          365.0             One Way       Indego365  electric   \n",
       "553388   16682          365.0             One Way       Indego365  electric   \n",
       "\n",
       "       start_name start_neighborhood             end_name end_neighborhood  \n",
       "550228        NaN                NaN  9th & Spring Garden      Center City  \n",
       "553388        NaN                NaN         3rd & Girard  Olde Kensington  "
      ]
     },
     "execution_count": 375,
     "metadata": {},
     "output_type": "execute_result"
    }
   ],
   "source": [
    "ts_data.loc[ts_data[\"start_name\"].isnull()].head(2)"
   ]
  },
  {
   "cell_type": "code",
   "execution_count": 376,
   "id": "53c79737",
   "metadata": {},
   "outputs": [
    {
     "data": {
      "text/html": [
       "<div>\n",
       "<style scoped>\n",
       "    .dataframe tbody tr th:only-of-type {\n",
       "        vertical-align: middle;\n",
       "    }\n",
       "\n",
       "    .dataframe tbody tr th {\n",
       "        vertical-align: top;\n",
       "    }\n",
       "\n",
       "    .dataframe thead th {\n",
       "        text-align: right;\n",
       "    }\n",
       "</style>\n",
       "<table border=\"1\" class=\"dataframe\">\n",
       "  <thead>\n",
       "    <tr style=\"text-align: right;\">\n",
       "      <th></th>\n",
       "      <th>trip_id</th>\n",
       "      <th>duration</th>\n",
       "      <th>start_time</th>\n",
       "      <th>end_time</th>\n",
       "      <th>start_station</th>\n",
       "      <th>start_lat</th>\n",
       "      <th>start_lon</th>\n",
       "      <th>end_station</th>\n",
       "      <th>end_lat</th>\n",
       "      <th>end_lon</th>\n",
       "      <th>bike_id</th>\n",
       "      <th>plan_duration</th>\n",
       "      <th>trip_route_category</th>\n",
       "      <th>passholder_type</th>\n",
       "      <th>bike_type</th>\n",
       "      <th>start_name</th>\n",
       "      <th>start_neighborhood</th>\n",
       "      <th>end_name</th>\n",
       "      <th>end_neighborhood</th>\n",
       "    </tr>\n",
       "  </thead>\n",
       "  <tbody>\n",
       "    <tr>\n",
       "      <th>210216</th>\n",
       "      <td>317631215</td>\n",
       "      <td>56</td>\n",
       "      <td>2019-05-31 10:02:00</td>\n",
       "      <td>2019-05-31 10:58:00</td>\n",
       "      <td>3157</td>\n",
       "      <td>39.925449</td>\n",
       "      <td>-75.159538</td>\n",
       "      <td>3042</td>\n",
       "      <td>39.949421</td>\n",
       "      <td>-75.16613</td>\n",
       "      <td>14476</td>\n",
       "      <td>365.0</td>\n",
       "      <td>One Way</td>\n",
       "      <td>Indego365</td>\n",
       "      <td>standard</td>\n",
       "      <td>8th &amp; Mifflin, Bok Building</td>\n",
       "      <td>East Passyunk Crossing</td>\n",
       "      <td>NaN</td>\n",
       "      <td>NaN</td>\n",
       "    </tr>\n",
       "    <tr>\n",
       "      <th>220098</th>\n",
       "      <td>317939917</td>\n",
       "      <td>38</td>\n",
       "      <td>2019-06-04 07:50:00</td>\n",
       "      <td>2019-06-04 08:28:00</td>\n",
       "      <td>3024</td>\n",
       "      <td>39.948219</td>\n",
       "      <td>-75.209084</td>\n",
       "      <td>3042</td>\n",
       "      <td>39.949421</td>\n",
       "      <td>-75.16613</td>\n",
       "      <td>03723</td>\n",
       "      <td>365.0</td>\n",
       "      <td>One Way</td>\n",
       "      <td>Indego365</td>\n",
       "      <td>standard</td>\n",
       "      <td>43rd &amp; Chester, Clark Park</td>\n",
       "      <td>University City</td>\n",
       "      <td>NaN</td>\n",
       "      <td>NaN</td>\n",
       "    </tr>\n",
       "  </tbody>\n",
       "</table>\n",
       "</div>"
      ],
      "text/plain": [
       "          trip_id  duration           start_time             end_time  \\\n",
       "210216  317631215        56  2019-05-31 10:02:00  2019-05-31 10:58:00   \n",
       "220098  317939917        38  2019-06-04 07:50:00  2019-06-04 08:28:00   \n",
       "\n",
       "       start_station  start_lat  start_lon end_station    end_lat   end_lon  \\\n",
       "210216          3157  39.925449 -75.159538        3042  39.949421 -75.16613   \n",
       "220098          3024  39.948219 -75.209084        3042  39.949421 -75.16613   \n",
       "\n",
       "       bike_id  plan_duration trip_route_category passholder_type bike_type  \\\n",
       "210216   14476          365.0             One Way       Indego365  standard   \n",
       "220098   03723          365.0             One Way       Indego365  standard   \n",
       "\n",
       "                         start_name      start_neighborhood end_name  \\\n",
       "210216  8th & Mifflin, Bok Building  East Passyunk Crossing      NaN   \n",
       "220098   43rd & Chester, Clark Park         University City      NaN   \n",
       "\n",
       "       end_neighborhood  \n",
       "210216              NaN  \n",
       "220098              NaN  "
      ]
     },
     "execution_count": 376,
     "metadata": {},
     "output_type": "execute_result"
    }
   ],
   "source": [
    "ts_data.loc[ts_data[\"end_name\"].isnull()].head(2)"
   ]
  },
  {
   "cell_type": "markdown",
   "id": "b83548f2",
   "metadata": {},
   "source": [
    "<br>There used to be a station at 15th and Walnut that was not included in the station data. Add this station to the station dataset"
   ]
  },
  {
   "cell_type": "code",
   "execution_count": null,
   "id": "edb6a8ad",
   "metadata": {},
   "outputs": [],
   "source": [
    "station_id = 3042\n",
    "station_name = \"15th & Walnut\"\n",
    "# Use the get_neighborhood function to call the geocode API\n",
    "neighborhood = get_neighborhood(station_name + \", Philadelphia, PA\")\n",
    "\n",
    "# Create a new df and append it to station_data\n",
    "new_row = {'station_id':station_id, 'station_name': station_name, 'status':'Inactive', 'neighborhood': neighborhood}\n",
    "station_data = station_data.append(new_row, ignore_index=True)"
   ]
  },
  {
   "cell_type": "code",
   "execution_count": 672,
   "id": "18fd2eb1",
   "metadata": {
    "scrolled": true
   },
   "outputs": [
    {
     "data": {
      "text/html": [
       "<div>\n",
       "<style scoped>\n",
       "    .dataframe tbody tr th:only-of-type {\n",
       "        vertical-align: middle;\n",
       "    }\n",
       "\n",
       "    .dataframe tbody tr th {\n",
       "        vertical-align: top;\n",
       "    }\n",
       "\n",
       "    .dataframe thead th {\n",
       "        text-align: right;\n",
       "    }\n",
       "</style>\n",
       "<table border=\"1\" class=\"dataframe\">\n",
       "  <thead>\n",
       "    <tr style=\"text-align: right;\">\n",
       "      <th></th>\n",
       "      <th>station_id</th>\n",
       "      <th>station_name</th>\n",
       "      <th>day_of_go_live_date</th>\n",
       "      <th>status</th>\n",
       "      <th>neighborhood</th>\n",
       "    </tr>\n",
       "  </thead>\n",
       "  <tbody>\n",
       "    <tr>\n",
       "      <th>178</th>\n",
       "      <td>3256</td>\n",
       "      <td>23rd &amp; Chestnut</td>\n",
       "      <td>9/21/2021</td>\n",
       "      <td>Active</td>\n",
       "      <td>Center City West</td>\n",
       "    </tr>\n",
       "    <tr>\n",
       "      <th>179</th>\n",
       "      <td>3042</td>\n",
       "      <td>15th &amp; Walnut</td>\n",
       "      <td>NaN</td>\n",
       "      <td>Inactive</td>\n",
       "      <td>Center City West</td>\n",
       "    </tr>\n",
       "  </tbody>\n",
       "</table>\n",
       "</div>"
      ],
      "text/plain": [
       "    station_id     station_name day_of_go_live_date    status  \\\n",
       "178       3256  23rd & Chestnut           9/21/2021    Active   \n",
       "179       3042    15th & Walnut                 NaN  Inactive   \n",
       "\n",
       "         neighborhood  \n",
       "178  Center City West  \n",
       "179  Center City West  "
      ]
     },
     "execution_count": 672,
     "metadata": {},
     "output_type": "execute_result"
    }
   ],
   "source": [
    "# Print to confirm the new data was added\n",
    "station_data.tail(2)"
   ]
  },
  {
   "cell_type": "markdown",
   "id": "c9c63e5a",
   "metadata": {},
   "source": [
    "<br>Update the station data csv, so this station is included moving forward"
   ]
  },
  {
   "cell_type": "code",
   "execution_count": 253,
   "id": "b8722930",
   "metadata": {},
   "outputs": [],
   "source": [
    "station_to_csv()"
   ]
  },
  {
   "cell_type": "markdown",
   "id": "d1daeebf",
   "metadata": {},
   "source": [
    "<br>Update ts_data and check there are no more missing values for start or end stations or neighborhoods"
   ]
  },
  {
   "cell_type": "code",
   "execution_count": 377,
   "id": "2c46733d",
   "metadata": {},
   "outputs": [
    {
     "name": "stdout",
     "output_type": "stream",
     "text": [
      "0\n",
      "0\n",
      "0\n",
      "0\n"
     ]
    }
   ],
   "source": [
    "ts_data.loc[ts_data[\"start_station\"] == 3042, \"start_name\"] = station_name\n",
    "ts_data.loc[ts_data[\"start_station\"] == 3042, \"start_neighborhood\"] = neighborhood\n",
    "ts_data.loc[ts_data[\"end_station\"] == 3042, \"end_name\"] = station_name\n",
    "ts_data.loc[ts_data[\"end_station\"] == 3042, \"end_neighborhood\"] = neighborhood\n",
    "\n",
    "print(len(ts_data.loc[ts_data[\"start_name\"].isnull()]))\n",
    "print(len(ts_data.loc[ts_data[\"start_neighborhood\"].isnull()]))\n",
    "print(len(ts_data.loc[ts_data[\"end_name\"].isnull()]))\n",
    "print(len(ts_data.loc[ts_data[\"end_neighborhood\"].isnull()]))"
   ]
  },
  {
   "cell_type": "markdown",
   "id": "9d71f6e8",
   "metadata": {},
   "source": [
    "<br><br>\n",
    "## <a name=\"distancedata\"></a> Calculate distance for each trip, using Distance Matrix API\n",
    "[Return to Top](#top)"
   ]
  },
  {
   "cell_type": "markdown",
   "id": "ff1edf36",
   "metadata": {},
   "source": [
    "Since the Distance Matrix API charges $5 per 1000 combinations of (origin, destination) requsted, find the smallest number of  requests needed to calculate distance for all trips that exist in the dataset"
   ]
  },
  {
   "cell_type": "markdown",
   "id": "59f57f67",
   "metadata": {},
   "source": [
    "<br>Check how many combinations are possible for all start and end stations"
   ]
  },
  {
   "cell_type": "code",
   "execution_count": 378,
   "id": "b3fb49c6",
   "metadata": {},
   "outputs": [
    {
     "name": "stdout",
     "output_type": "stream",
     "text": [
      "31862\n"
     ]
    }
   ],
   "source": [
    "# Get the number of stations, subtracting 1 to account for the Virtual Station that will not need to be looked up\n",
    "len_station_data = len(station_data) - 1\n",
    "\n",
    "# Mutiply the length of station_data * station_data - 1 to get the number of possible combination\n",
    "possible_combos = len_station_data*(len_station_data-1)\n",
    "\n",
    "print(possible_combos)"
   ]
  },
  {
   "cell_type": "markdown",
   "id": "c9583eb9",
   "metadata": {},
   "source": [
    "<br>Check how many combinations actually exist in the trip data based on **station id**, excluding round trips "
   ]
  },
  {
   "cell_type": "code",
   "execution_count": 379,
   "id": "c4192c8f",
   "metadata": {},
   "outputs": [
    {
     "name": "stdout",
     "output_type": "stream",
     "text": [
      "24176\n"
     ]
    }
   ],
   "source": [
    "station_id_combos = ts_data.loc[ts_data[\"start_station\"] != ts_data[\"end_station\"]].groupby([\"start_station\", \"end_station\"]).size().reset_index(name='count')\n",
    "\n",
    "print(len(station_id_combos))"
   ]
  },
  {
   "cell_type": "markdown",
   "id": "bed3d039",
   "metadata": {},
   "source": [
    "<br>Check how many combinations actually exist in the trip data based on **station name**, excluding round trips <br>\n",
    "*Earlier, it was noted that some stations have the same name and are the same location*"
   ]
  },
  {
   "cell_type": "code",
   "execution_count": 380,
   "id": "1f049802",
   "metadata": {},
   "outputs": [
    {
     "name": "stdout",
     "output_type": "stream",
     "text": [
      "23760\n"
     ]
    }
   ],
   "source": [
    "station_name_combos = ts_data.loc[ts_data[\"start_name\"] != ts_data[\"end_name\"]].groupby([\"start_name\", \"end_name\"]).size().reset_index(name='count')\n",
    "\n",
    "print(len(station_name_combos))"
   ]
  },
  {
   "cell_type": "markdown",
   "id": "1b2b2022",
   "metadata": {},
   "source": [
    "<br>Include long and lat in the table - these are needed for the Distance Matrix APIs"
   ]
  },
  {
   "cell_type": "code",
   "execution_count": 419,
   "id": "42e99cb8",
   "metadata": {},
   "outputs": [
    {
     "name": "stdout",
     "output_type": "stream",
     "text": [
      "26783\n"
     ]
    }
   ],
   "source": [
    "station_name_combos = ts_data.loc[ts_data[\"start_name\"] != ts_data[\"end_name\"]].groupby([\"start_name\", \"start_lat\", \"start_lon\", \"end_name\", \"end_lat\", \"end_lon\"]).size().reset_index(name='count')\n",
    "\n",
    "print(len(station_name_combos))"
   ]
  },
  {
   "cell_type": "markdown",
   "id": "3453e00e",
   "metadata": {},
   "source": [
    "<br>The number of rows increased... some latlong keys include multiple sets of coordinates:"
   ]
  },
  {
   "cell_type": "code",
   "execution_count": 402,
   "id": "87c0062f",
   "metadata": {},
   "outputs": [
    {
     "data": {
      "text/html": [
       "<div>\n",
       "<style scoped>\n",
       "    .dataframe tbody tr th:only-of-type {\n",
       "        vertical-align: middle;\n",
       "    }\n",
       "\n",
       "    .dataframe tbody tr th {\n",
       "        vertical-align: top;\n",
       "    }\n",
       "\n",
       "    .dataframe thead th {\n",
       "        text-align: right;\n",
       "    }\n",
       "</style>\n",
       "<table border=\"1\" class=\"dataframe\">\n",
       "  <thead>\n",
       "    <tr style=\"text-align: right;\">\n",
       "      <th></th>\n",
       "      <th>start_name</th>\n",
       "      <th>end_name</th>\n",
       "      <th>count</th>\n",
       "    </tr>\n",
       "  </thead>\n",
       "  <tbody>\n",
       "    <tr>\n",
       "      <th>19481</th>\n",
       "      <td>Frankford &amp; Belgrade</td>\n",
       "      <td>Race Street Pier</td>\n",
       "      <td>4</td>\n",
       "    </tr>\n",
       "    <tr>\n",
       "      <th>20526</th>\n",
       "      <td>Independence Mall, NPS</td>\n",
       "      <td>Race Street Pier</td>\n",
       "      <td>4</td>\n",
       "    </tr>\n",
       "    <tr>\n",
       "      <th>21606</th>\n",
       "      <td>Philadelphia Museum of Art</td>\n",
       "      <td>Race Street Pier</td>\n",
       "      <td>4</td>\n",
       "    </tr>\n",
       "    <tr>\n",
       "      <th>22151</th>\n",
       "      <td>Race Street Pier</td>\n",
       "      <td>Frankford &amp; Belgrade</td>\n",
       "      <td>4</td>\n",
       "    </tr>\n",
       "    <tr>\n",
       "      <th>22157</th>\n",
       "      <td>Race Street Pier</td>\n",
       "      <td>Independence Mall, NPS</td>\n",
       "      <td>4</td>\n",
       "    </tr>\n",
       "    <tr>\n",
       "      <th>22164</th>\n",
       "      <td>Race Street Pier</td>\n",
       "      <td>Philadelphia Museum of Art</td>\n",
       "      <td>4</td>\n",
       "    </tr>\n",
       "    <tr>\n",
       "      <th>22171</th>\n",
       "      <td>Race Street Pier</td>\n",
       "      <td>Spring Garden Station, BSL</td>\n",
       "      <td>4</td>\n",
       "    </tr>\n",
       "    <tr>\n",
       "      <th>22778</th>\n",
       "      <td>Spring Garden Station, BSL</td>\n",
       "      <td>Race Street Pier</td>\n",
       "      <td>4</td>\n",
       "    </tr>\n",
       "  </tbody>\n",
       "</table>\n",
       "</div>"
      ],
      "text/plain": [
       "                       start_name                    end_name  count\n",
       "19481        Frankford & Belgrade            Race Street Pier      4\n",
       "20526      Independence Mall, NPS            Race Street Pier      4\n",
       "21606  Philadelphia Museum of Art            Race Street Pier      4\n",
       "22151            Race Street Pier        Frankford & Belgrade      4\n",
       "22157            Race Street Pier      Independence Mall, NPS      4\n",
       "22164            Race Street Pier  Philadelphia Museum of Art      4\n",
       "22171            Race Street Pier  Spring Garden Station, BSL      4\n",
       "22778  Spring Garden Station, BSL            Race Street Pier      4"
      ]
     },
     "execution_count": 402,
     "metadata": {},
     "output_type": "execute_result"
    }
   ],
   "source": [
    "temp = station_name_combos.groupby([\"start_name\", \"end_name\"]).size().reset_index(name='count')\n",
    "\n",
    "temp.loc[temp[\"count\"] > 3]"
   ]
  },
  {
   "cell_type": "markdown",
   "id": "e32c8ce0",
   "metadata": {},
   "source": [
    "<br>Average latlong coordinates for each start, end combination, so there is a single latlong key for each"
   ]
  },
  {
   "cell_type": "code",
   "execution_count": 421,
   "id": "913dfb37",
   "metadata": {},
   "outputs": [
    {
     "name": "stdout",
     "output_type": "stream",
     "text": [
      "23760\n"
     ]
    }
   ],
   "source": [
    "station_name_combos = station_name_combos.groupby([\"start_name\", \"end_name\"]).mean().reset_index()\n",
    "\n",
    "print(len(station_name_combos))"
   ]
  },
  {
   "cell_type": "markdown",
   "id": "27287dc3",
   "metadata": {},
   "source": [
    "<br>Calculate how much it will cost to look up each pair of stations with a trip in the dataset"
   ]
  },
  {
   "cell_type": "code",
   "execution_count": 338,
   "id": "b622af7a",
   "metadata": {},
   "outputs": [
    {
     "name": "stdout",
     "output_type": "stream",
     "text": [
      "23,760 calls to the Distance Matrix API will cost $118.80 (of the $200 Google APIs monthly credit)\n"
     ]
    }
   ],
   "source": [
    "print(\"{:,} calls to the Distance Matrix API will cost ${:.2f} (of the $200 Google APIs monthly credit)\".format(len(station_name_combos), len(station_name_combos)*.005))"
   ]
  },
  {
   "cell_type": "markdown",
   "id": "05ce7435",
   "metadata": {},
   "source": [
    "<br>Test a Distance Matrix API call on the first row of data"
   ]
  },
  {
   "cell_type": "code",
   "execution_count": 443,
   "id": "a0ea4800",
   "metadata": {
    "scrolled": true
   },
   "outputs": [
    {
     "name": "stdout",
     "output_type": "stream",
     "text": [
      "39.95005, -75.156723\n",
      "39.934311, -75.160423\n",
      "Result:\n",
      "{'destination_addresses': ['10th & Federal, Philadelphia, PA 19147, USA'], 'origin_addresses': ['10th & Chestnut, Philadelphia, PA 19107, USA'], 'rows': [{'elements': [{'distance': {'text': '1.1 mi', 'value': 1797}, 'duration': {'text': '8 mins', 'value': 493}, 'status': 'OK'}]}], 'status': 'OK'}\n",
      "Distance:\n",
      "1.1 mi\n"
     ]
    }
   ],
   "source": [
    "ind_olat = 2\n",
    "ind_olong = 3\n",
    "ind_dlat = 4\n",
    "ind_dlong = 5\n",
    "\n",
    "origin = str(station_name_combos.iloc[0, ind_olat]) + \", \" + str(station_name_combos.iloc[0,ind_olong])\n",
    "destination = str(station_name_combos.iloc[0, ind_dlat]) + \", \" + str(station_name_combos.iloc[0,ind_dlong])\n",
    "\n",
    "print(origin)\n",
    "print(destination)\n",
    "\n",
    "result = gmaps.distance_matrix(origin, destination, units='imperial', mode='bicycling')\n",
    "print(\"Result:\")\n",
    "print(result)\n",
    "print(\"Distance:\")\n",
    "print(result['rows'][0]['elements'][0]['distance']['text'])"
   ]
  },
  {
   "cell_type": "code",
   "execution_count": 444,
   "id": "e784d820",
   "metadata": {},
   "outputs": [],
   "source": [
    "# Creat a new column 'distance'\n",
    "station_name_combos[\"distance\"] = ''"
   ]
  },
  {
   "cell_type": "code",
   "execution_count": 455,
   "id": "60c05544",
   "metadata": {},
   "outputs": [],
   "source": [
    "# Iterate over each combination of stations\n",
    "for index, row in station_name_combos.iterrows():\n",
    "    # In case API calls run into an issue and this block of code has to be run multiple times, \n",
    "    # the check below avoids re-populating rows that have already been returned\n",
    "    if station_name_combos.loc[index,\"distance\"] == \"\":\n",
    "        # Get distance for the current pair of stations\n",
    "        origin = str(station_name_combos.iloc[index, ind_olat]) + \", \" + str(station_name_combos.iloc[index,ind_olong])\n",
    "        destination = str(station_name_combos.iloc[index, ind_dlat]) + \", \" + str(station_name_combos.iloc[index,ind_dlong])\n",
    "        result = gmaps.distance_matrix(origin, destination, units='imperial', mode='bicycling')\n",
    "        distance = result['rows'][0]['elements'][0]['distance']['text']\n",
    "                \n",
    "        # Assign the result into the dataset\n",
    "        station_name_combos.loc[index,\"distance\"] = distance"
   ]
  },
  {
   "cell_type": "code",
   "execution_count": 457,
   "id": "39394951",
   "metadata": {},
   "outputs": [
    {
     "data": {
      "text/html": [
       "<div>\n",
       "<style scoped>\n",
       "    .dataframe tbody tr th:only-of-type {\n",
       "        vertical-align: middle;\n",
       "    }\n",
       "\n",
       "    .dataframe tbody tr th {\n",
       "        vertical-align: top;\n",
       "    }\n",
       "\n",
       "    .dataframe thead th {\n",
       "        text-align: right;\n",
       "    }\n",
       "</style>\n",
       "<table border=\"1\" class=\"dataframe\">\n",
       "  <thead>\n",
       "    <tr style=\"text-align: right;\">\n",
       "      <th></th>\n",
       "      <th>start_name</th>\n",
       "      <th>end_name</th>\n",
       "      <th>start_lat</th>\n",
       "      <th>start_lon</th>\n",
       "      <th>end_lat</th>\n",
       "      <th>end_lon</th>\n",
       "      <th>count</th>\n",
       "      <th>distance</th>\n",
       "    </tr>\n",
       "  </thead>\n",
       "  <tbody>\n",
       "    <tr>\n",
       "      <th>0</th>\n",
       "      <td>10th &amp; Chestnut</td>\n",
       "      <td>10th &amp; Federal</td>\n",
       "      <td>39.95005</td>\n",
       "      <td>-75.156723</td>\n",
       "      <td>39.934311</td>\n",
       "      <td>-75.160423</td>\n",
       "      <td>216.0</td>\n",
       "      <td>1.1 mi</td>\n",
       "    </tr>\n",
       "    <tr>\n",
       "      <th>1</th>\n",
       "      <td>10th &amp; Chestnut</td>\n",
       "      <td>11th &amp; Market</td>\n",
       "      <td>39.95005</td>\n",
       "      <td>-75.156723</td>\n",
       "      <td>39.951691</td>\n",
       "      <td>-75.158882</td>\n",
       "      <td>156.0</td>\n",
       "      <td>0.4 mi</td>\n",
       "    </tr>\n",
       "  </tbody>\n",
       "</table>\n",
       "</div>"
      ],
      "text/plain": [
       "        start_name        end_name  start_lat  start_lon    end_lat  \\\n",
       "0  10th & Chestnut  10th & Federal   39.95005 -75.156723  39.934311   \n",
       "1  10th & Chestnut   11th & Market   39.95005 -75.156723  39.951691   \n",
       "\n",
       "     end_lon  count distance  \n",
       "0 -75.160423  216.0   1.1 mi  \n",
       "1 -75.158882  156.0   0.4 mi  "
      ]
     },
     "execution_count": 457,
     "metadata": {},
     "output_type": "execute_result"
    }
   ],
   "source": [
    "station_name_combos.head(2)"
   ]
  },
  {
   "cell_type": "markdown",
   "id": "58c477ef",
   "metadata": {},
   "source": [
    "<br>Add an additional station combination for each station, where start_name == end_name and distance = 0.0"
   ]
  },
  {
   "cell_type": "code",
   "execution_count": 528,
   "id": "48e6d3ac",
   "metadata": {},
   "outputs": [],
   "source": [
    "# For each station\n",
    "for index, row in station_data.iterrows():\n",
    "    # Add a round trip entry with distance 0 to station_name_combos\n",
    "    new_row = {'start_name':station_data.loc[index, \"station_name\"], 'end_name': station_data.loc[index, \"station_name\"], 'distance': \"0.0 mi\"}\n",
    "    station_name_combos = station_name_combos.append(new_row, ignore_index=True)"
   ]
  },
  {
   "cell_type": "code",
   "execution_count": 530,
   "id": "e87e7941",
   "metadata": {},
   "outputs": [
    {
     "data": {
      "text/html": [
       "<div>\n",
       "<style scoped>\n",
       "    .dataframe tbody tr th:only-of-type {\n",
       "        vertical-align: middle;\n",
       "    }\n",
       "\n",
       "    .dataframe tbody tr th {\n",
       "        vertical-align: top;\n",
       "    }\n",
       "\n",
       "    .dataframe thead th {\n",
       "        text-align: right;\n",
       "    }\n",
       "</style>\n",
       "<table border=\"1\" class=\"dataframe\">\n",
       "  <thead>\n",
       "    <tr style=\"text-align: right;\">\n",
       "      <th></th>\n",
       "      <th>start_name</th>\n",
       "      <th>end_name</th>\n",
       "      <th>start_lat</th>\n",
       "      <th>start_lon</th>\n",
       "      <th>end_lat</th>\n",
       "      <th>end_lon</th>\n",
       "      <th>count</th>\n",
       "      <th>distance</th>\n",
       "    </tr>\n",
       "  </thead>\n",
       "  <tbody>\n",
       "    <tr>\n",
       "      <th>23935</th>\n",
       "      <td>27th &amp; Morris - Vare Recreation Center</td>\n",
       "      <td>27th &amp; Morris - Vare Recreation Center</td>\n",
       "      <td>NaN</td>\n",
       "      <td>NaN</td>\n",
       "      <td>NaN</td>\n",
       "      <td>NaN</td>\n",
       "      <td>NaN</td>\n",
       "      <td>0.0 mi</td>\n",
       "    </tr>\n",
       "    <tr>\n",
       "      <th>23936</th>\n",
       "      <td>16th &amp; Montgomery</td>\n",
       "      <td>16th &amp; Montgomery</td>\n",
       "      <td>NaN</td>\n",
       "      <td>NaN</td>\n",
       "      <td>NaN</td>\n",
       "      <td>NaN</td>\n",
       "      <td>NaN</td>\n",
       "      <td>0.0 mi</td>\n",
       "    </tr>\n",
       "    <tr>\n",
       "      <th>23937</th>\n",
       "      <td>Broad &amp; Chestnut</td>\n",
       "      <td>Broad &amp; Chestnut</td>\n",
       "      <td>NaN</td>\n",
       "      <td>NaN</td>\n",
       "      <td>NaN</td>\n",
       "      <td>NaN</td>\n",
       "      <td>NaN</td>\n",
       "      <td>0.0 mi</td>\n",
       "    </tr>\n",
       "    <tr>\n",
       "      <th>23938</th>\n",
       "      <td>23rd &amp; Chestnut</td>\n",
       "      <td>23rd &amp; Chestnut</td>\n",
       "      <td>NaN</td>\n",
       "      <td>NaN</td>\n",
       "      <td>NaN</td>\n",
       "      <td>NaN</td>\n",
       "      <td>NaN</td>\n",
       "      <td>0.0 mi</td>\n",
       "    </tr>\n",
       "    <tr>\n",
       "      <th>23939</th>\n",
       "      <td>15th &amp; Walnut</td>\n",
       "      <td>15th &amp; Walnut</td>\n",
       "      <td>NaN</td>\n",
       "      <td>NaN</td>\n",
       "      <td>NaN</td>\n",
       "      <td>NaN</td>\n",
       "      <td>NaN</td>\n",
       "      <td>0.0 mi</td>\n",
       "    </tr>\n",
       "  </tbody>\n",
       "</table>\n",
       "</div>"
      ],
      "text/plain": [
       "                                   start_name  \\\n",
       "23935  27th & Morris - Vare Recreation Center   \n",
       "23936                       16th & Montgomery   \n",
       "23937                        Broad & Chestnut   \n",
       "23938                         23rd & Chestnut   \n",
       "23939                           15th & Walnut   \n",
       "\n",
       "                                     end_name  start_lat  start_lon  end_lat  \\\n",
       "23935  27th & Morris - Vare Recreation Center        NaN        NaN      NaN   \n",
       "23936                       16th & Montgomery        NaN        NaN      NaN   \n",
       "23937                        Broad & Chestnut        NaN        NaN      NaN   \n",
       "23938                         23rd & Chestnut        NaN        NaN      NaN   \n",
       "23939                           15th & Walnut        NaN        NaN      NaN   \n",
       "\n",
       "       end_lon  count distance  \n",
       "23935      NaN    NaN   0.0 mi  \n",
       "23936      NaN    NaN   0.0 mi  \n",
       "23937      NaN    NaN   0.0 mi  \n",
       "23938      NaN    NaN   0.0 mi  \n",
       "23939      NaN    NaN   0.0 mi  "
      ]
     },
     "execution_count": 530,
     "metadata": {},
     "output_type": "execute_result"
    }
   ],
   "source": [
    "station_name_combos.tail()"
   ]
  },
  {
   "cell_type": "markdown",
   "id": "0ffef2e0",
   "metadata": {},
   "source": [
    "<br>Drop the 'mi' suffix from distance values and store only the float "
   ]
  },
  {
   "cell_type": "code",
   "execution_count": 596,
   "id": "9e75f018",
   "metadata": {},
   "outputs": [],
   "source": [
    "station_name_combos[\"distance\"] = station_name_combos[\"distance\"].str.replace(\" mi\", \"\")"
   ]
  },
  {
   "cell_type": "markdown",
   "id": "b63f8818",
   "metadata": {},
   "source": [
    "<br>Distance Matrix API returns any trips that are less .1 mi in feet instead of miles\n",
    "<br>For any rows with a 'ft' suffix, convert to miles"
   ]
  },
  {
   "cell_type": "code",
   "execution_count": 598,
   "id": "8c4b4796",
   "metadata": {},
   "outputs": [],
   "source": [
    "traverse = station_name_combos.loc[station_name_combos[\"distance\"].str.contains(\"ft\")]\n",
    "for index, row in traverse.iterrows():\n",
    "    rounded = round(int(station_name_combos.loc[index, \"distance\"].replace(\" ft\", \"\"))*1.0/5280, 2)\n",
    "    station_name_combos.loc[index, \"distance\"] = str(rounded)"
   ]
  },
  {
   "cell_type": "markdown",
   "id": "40900d12",
   "metadata": {},
   "source": [
    "<br> Convert the cleaned column from a str (object) to a float"
   ]
  },
  {
   "cell_type": "code",
   "execution_count": 602,
   "id": "20ab619e",
   "metadata": {},
   "outputs": [],
   "source": [
    "station_name_combos = station_name_combos.astype({\"distance\": float})"
   ]
  },
  {
   "cell_type": "markdown",
   "id": "9e660609",
   "metadata": {},
   "source": [
    "<br>\n",
    "Check that trip distances that were measured in ft converted correctly"
   ]
  },
  {
   "cell_type": "code",
   "execution_count": 605,
   "id": "bf1c00e1",
   "metadata": {},
   "outputs": [
    {
     "data": {
      "text/html": [
       "<div>\n",
       "<style scoped>\n",
       "    .dataframe tbody tr th:only-of-type {\n",
       "        vertical-align: middle;\n",
       "    }\n",
       "\n",
       "    .dataframe tbody tr th {\n",
       "        vertical-align: top;\n",
       "    }\n",
       "\n",
       "    .dataframe thead th {\n",
       "        text-align: right;\n",
       "    }\n",
       "</style>\n",
       "<table border=\"1\" class=\"dataframe\">\n",
       "  <thead>\n",
       "    <tr style=\"text-align: right;\">\n",
       "      <th></th>\n",
       "      <th>start_name</th>\n",
       "      <th>end_name</th>\n",
       "      <th>start_lat</th>\n",
       "      <th>start_lon</th>\n",
       "      <th>end_lat</th>\n",
       "      <th>end_lon</th>\n",
       "      <th>count</th>\n",
       "      <th>distance</th>\n",
       "    </tr>\n",
       "  </thead>\n",
       "  <tbody>\n",
       "    <tr>\n",
       "      <th>3760</th>\n",
       "      <td>17th &amp; JFK</td>\n",
       "      <td>18th &amp; JFK</td>\n",
       "      <td>39.954048</td>\n",
       "      <td>-75.167831</td>\n",
       "      <td>39.953899</td>\n",
       "      <td>-75.169022</td>\n",
       "      <td>105.0</td>\n",
       "      <td>0.06</td>\n",
       "    </tr>\n",
       "    <tr>\n",
       "      <th>5014</th>\n",
       "      <td>18th &amp; JFK</td>\n",
       "      <td>17th &amp; JFK</td>\n",
       "      <td>39.953899</td>\n",
       "      <td>-75.169022</td>\n",
       "      <td>39.954048</td>\n",
       "      <td>-75.167831</td>\n",
       "      <td>87.0</td>\n",
       "      <td>0.06</td>\n",
       "    </tr>\n",
       "    <tr>\n",
       "      <th>5022</th>\n",
       "      <td>18th &amp; JFK</td>\n",
       "      <td>18th &amp; JFK Curbside</td>\n",
       "      <td>39.953899</td>\n",
       "      <td>-75.169022</td>\n",
       "      <td>39.954102</td>\n",
       "      <td>-75.169647</td>\n",
       "      <td>70.0</td>\n",
       "      <td>0.03</td>\n",
       "    </tr>\n",
       "    <tr>\n",
       "      <th>5180</th>\n",
       "      <td>18th &amp; JFK Curbside</td>\n",
       "      <td>18th &amp; JFK</td>\n",
       "      <td>39.954102</td>\n",
       "      <td>-75.169647</td>\n",
       "      <td>39.953899</td>\n",
       "      <td>-75.169022</td>\n",
       "      <td>51.0</td>\n",
       "      <td>0.03</td>\n",
       "    </tr>\n",
       "  </tbody>\n",
       "</table>\n",
       "</div>"
      ],
      "text/plain": [
       "               start_name             end_name  start_lat  start_lon  \\\n",
       "3760           17th & JFK           18th & JFK  39.954048 -75.167831   \n",
       "5014           18th & JFK           17th & JFK  39.953899 -75.169022   \n",
       "5022           18th & JFK  18th & JFK Curbside  39.953899 -75.169022   \n",
       "5180  18th & JFK Curbside           18th & JFK  39.954102 -75.169647   \n",
       "\n",
       "        end_lat    end_lon  count  distance  \n",
       "3760  39.953899 -75.169022  105.0      0.06  \n",
       "5014  39.954048 -75.167831   87.0      0.06  \n",
       "5022  39.954102 -75.169647   70.0      0.03  \n",
       "5180  39.953899 -75.169022   51.0      0.03  "
      ]
     },
     "execution_count": 605,
     "metadata": {},
     "output_type": "execute_result"
    }
   ],
   "source": [
    "station_name_combos.loc[(station_name_combos[\"distance\"]<.1) & (station_name_combos[\"distance\"]>0)].head()"
   ]
  },
  {
   "cell_type": "markdown",
   "id": "8c147783",
   "metadata": {},
   "source": [
    "<br>Join distance data to trip data"
   ]
  },
  {
   "cell_type": "code",
   "execution_count": 606,
   "id": "7efd610b",
   "metadata": {},
   "outputs": [
    {
     "data": {
      "text/html": [
       "<div>\n",
       "<style scoped>\n",
       "    .dataframe tbody tr th:only-of-type {\n",
       "        vertical-align: middle;\n",
       "    }\n",
       "\n",
       "    .dataframe tbody tr th {\n",
       "        vertical-align: top;\n",
       "    }\n",
       "\n",
       "    .dataframe thead th {\n",
       "        text-align: right;\n",
       "    }\n",
       "</style>\n",
       "<table border=\"1\" class=\"dataframe\">\n",
       "  <thead>\n",
       "    <tr style=\"text-align: right;\">\n",
       "      <th></th>\n",
       "      <th>trip_id</th>\n",
       "      <th>duration</th>\n",
       "      <th>start_time</th>\n",
       "      <th>end_time</th>\n",
       "      <th>start_station</th>\n",
       "      <th>start_lat</th>\n",
       "      <th>start_lon</th>\n",
       "      <th>end_station</th>\n",
       "      <th>end_lat</th>\n",
       "      <th>end_lon</th>\n",
       "      <th>bike_id</th>\n",
       "      <th>plan_duration</th>\n",
       "      <th>trip_route_category</th>\n",
       "      <th>passholder_type</th>\n",
       "      <th>bike_type</th>\n",
       "      <th>start_name</th>\n",
       "      <th>start_neighborhood</th>\n",
       "      <th>end_name</th>\n",
       "      <th>end_neighborhood</th>\n",
       "      <th>distance</th>\n",
       "    </tr>\n",
       "  </thead>\n",
       "  <tbody>\n",
       "    <tr>\n",
       "      <th>0</th>\n",
       "      <td>306773863</td>\n",
       "      <td>8</td>\n",
       "      <td>2019-01-01 00:19:00</td>\n",
       "      <td>2019-01-01 00:27:00</td>\n",
       "      <td>3049</td>\n",
       "      <td>39.945091</td>\n",
       "      <td>-75.142502</td>\n",
       "      <td>3007</td>\n",
       "      <td>39.945171</td>\n",
       "      <td>-75.159927</td>\n",
       "      <td>14495</td>\n",
       "      <td>30.0</td>\n",
       "      <td>One Way</td>\n",
       "      <td>Indego30</td>\n",
       "      <td>standard</td>\n",
       "      <td>Foglietta Plaza</td>\n",
       "      <td>Center City</td>\n",
       "      <td>11th &amp; Pine, Kahn Park</td>\n",
       "      <td>Washington Square West</td>\n",
       "      <td>1.3</td>\n",
       "    </tr>\n",
       "    <tr>\n",
       "      <th>1</th>\n",
       "      <td>306773862</td>\n",
       "      <td>7</td>\n",
       "      <td>2019-01-01 00:30:00</td>\n",
       "      <td>2019-01-01 00:37:00</td>\n",
       "      <td>3005</td>\n",
       "      <td>39.947330</td>\n",
       "      <td>-75.144028</td>\n",
       "      <td>3007</td>\n",
       "      <td>39.945171</td>\n",
       "      <td>-75.159927</td>\n",
       "      <td>05332</td>\n",
       "      <td>1.0</td>\n",
       "      <td>One Way</td>\n",
       "      <td>Day Pass</td>\n",
       "      <td>standard</td>\n",
       "      <td>Welcome Park, NPS</td>\n",
       "      <td>Center City East</td>\n",
       "      <td>11th &amp; Pine, Kahn Park</td>\n",
       "      <td>Washington Square West</td>\n",
       "      <td>1.2</td>\n",
       "    </tr>\n",
       "  </tbody>\n",
       "</table>\n",
       "</div>"
      ],
      "text/plain": [
       "     trip_id  duration           start_time             end_time  \\\n",
       "0  306773863         8  2019-01-01 00:19:00  2019-01-01 00:27:00   \n",
       "1  306773862         7  2019-01-01 00:30:00  2019-01-01 00:37:00   \n",
       "\n",
       "  start_station  start_lat  start_lon end_station    end_lat    end_lon  \\\n",
       "0          3049  39.945091 -75.142502        3007  39.945171 -75.159927   \n",
       "1          3005  39.947330 -75.144028        3007  39.945171 -75.159927   \n",
       "\n",
       "  bike_id  plan_duration trip_route_category passholder_type bike_type  \\\n",
       "0   14495           30.0             One Way        Indego30  standard   \n",
       "1   05332            1.0             One Way        Day Pass  standard   \n",
       "\n",
       "          start_name start_neighborhood                end_name  \\\n",
       "0    Foglietta Plaza        Center City  11th & Pine, Kahn Park   \n",
       "1  Welcome Park, NPS   Center City East  11th & Pine, Kahn Park   \n",
       "\n",
       "         end_neighborhood  distance  \n",
       "0  Washington Square West       1.3  \n",
       "1  Washington Square West       1.2  "
      ]
     },
     "execution_count": 606,
     "metadata": {},
     "output_type": "execute_result"
    }
   ],
   "source": [
    "tsd_data = pd.merge(left=ts_data, right=station_name_combos[[\"start_name\", \"end_name\", \"distance\"]], how=\"left\", left_on=[\"start_name\", \"end_name\"], right_on=[\"start_name\", \"end_name\"])\n",
    "\n",
    "tsd_data.head(2)"
   ]
  },
  {
   "cell_type": "markdown",
   "id": "190beae6",
   "metadata": {},
   "source": [
    "<br>Confirm distance is not null for any trips"
   ]
  },
  {
   "cell_type": "code",
   "execution_count": 608,
   "id": "51750fc8",
   "metadata": {},
   "outputs": [
    {
     "data": {
      "text/plain": [
       "0"
      ]
     },
     "execution_count": 608,
     "metadata": {},
     "output_type": "execute_result"
    }
   ],
   "source": [
    "len(tsd_data.loc[tsd_data[\"distance\"].isnull()])"
   ]
  },
  {
   "cell_type": "markdown",
   "id": "39c549f3",
   "metadata": {},
   "source": [
    "<br><br>\n",
    "## <a name=\"writetripdata\"></a> Write enhanced trip data to a csv\n",
    "[Return to Top](#top)"
   ]
  },
  {
   "cell_type": "code",
   "execution_count": 593,
   "id": "b5d41f67",
   "metadata": {},
   "outputs": [],
   "source": [
    "# Write the full data to a csv\n",
    "tsd_data.to_csv(os.getcwd() + \"/staged_data/indego-trips-enhanced.csv\", index=False)\n",
    "\n",
    "# Write a truncated version of the file including only 100 rows of data, since the full file is too large to upload to GitHub\n",
    "tsd_data[:100].to_csv(os.getcwd() + \"/staged_data/indego-trips-enhanced-truncated.csv\", index=False)"
   ]
  },
  {
   "cell_type": "code",
   "execution_count": 571,
   "id": "7a2f4732",
   "metadata": {},
   "outputs": [],
   "source": [
    "# Write the station_names_combos data to a csv\n",
    "station_name_combos.to_csv(os.getcwd() + \"/staged_data/stations-with-distance.csv\", index=False)"
   ]
  },
  {
   "cell_type": "code",
   "execution_count": null,
   "id": "3006cb4c",
   "metadata": {},
   "outputs": [],
   "source": []
  },
  {
   "cell_type": "markdown",
   "id": "ed637504",
   "metadata": {},
   "source": [
    "<br><br>\n",
    "## <a name=\"storeassqldb\"></a>Store data as a SQL database\n",
    "[Return to Top](#top)\n",
    "\n",
    "<br>By storing the data this way, it can be queried in the future using SQL, which will not require the full dataset to be loaded into memory and allows for faster query execution"
   ]
  },
  {
   "cell_type": "markdown",
   "id": "cdf5119e",
   "metadata": {},
   "source": [
    "<br> Prepare the data to be stored in a relational database, starting with station data"
   ]
  },
  {
   "cell_type": "code",
   "execution_count": 680,
   "id": "0b358e77",
   "metadata": {
    "scrolled": true
   },
   "outputs": [
    {
     "name": "stdout",
     "output_type": "stream",
     "text": [
      "<class 'pandas.core.frame.DataFrame'>\n",
      "Int64Index: 180 entries, 0 to 179\n",
      "Data columns (total 5 columns):\n",
      " #   Column               Non-Null Count  Dtype \n",
      "---  ------               --------------  ----- \n",
      " 0   station_id           180 non-null    int64 \n",
      " 1   station_name         180 non-null    object\n",
      " 2   day_of_go_live_date  179 non-null    object\n",
      " 3   status               180 non-null    object\n",
      " 4   neighborhood         180 non-null    object\n",
      "dtypes: int64(1), object(4)\n",
      "memory usage: 12.5+ KB\n"
     ]
    }
   ],
   "source": [
    "station_data.info()"
   ]
  },
  {
   "cell_type": "markdown",
   "id": "3be2e1cf",
   "metadata": {},
   "source": [
    "<br>Add latitude and longitude coordinates to station data, where available. This information is currently stored for each individual trip, rather than once per station."
   ]
  },
  {
   "cell_type": "code",
   "execution_count": 681,
   "id": "c3cdf411",
   "metadata": {},
   "outputs": [
    {
     "data": {
      "text/html": [
       "<div>\n",
       "<style scoped>\n",
       "    .dataframe tbody tr th:only-of-type {\n",
       "        vertical-align: middle;\n",
       "    }\n",
       "\n",
       "    .dataframe tbody tr th {\n",
       "        vertical-align: top;\n",
       "    }\n",
       "\n",
       "    .dataframe thead th {\n",
       "        text-align: right;\n",
       "    }\n",
       "</style>\n",
       "<table border=\"1\" class=\"dataframe\">\n",
       "  <thead>\n",
       "    <tr style=\"text-align: right;\">\n",
       "      <th></th>\n",
       "      <th>station_id</th>\n",
       "      <th>station_name</th>\n",
       "      <th>day_of_go_live_date</th>\n",
       "      <th>status</th>\n",
       "      <th>neighborhood</th>\n",
       "      <th>station_lat</th>\n",
       "      <th>station_lon</th>\n",
       "    </tr>\n",
       "  </thead>\n",
       "  <tbody>\n",
       "    <tr>\n",
       "      <th>0</th>\n",
       "      <td>3000</td>\n",
       "      <td>Virtual Station</td>\n",
       "      <td>4/23/2015</td>\n",
       "      <td>Active</td>\n",
       "      <td>Center City</td>\n",
       "      <td>NaN</td>\n",
       "      <td>NaN</td>\n",
       "    </tr>\n",
       "    <tr>\n",
       "      <th>1</th>\n",
       "      <td>3004</td>\n",
       "      <td>Municipal Services Building Plaza</td>\n",
       "      <td>4/23/2015</td>\n",
       "      <td>Active</td>\n",
       "      <td>Center City</td>\n",
       "      <td>39.953781</td>\n",
       "      <td>-75.163742</td>\n",
       "    </tr>\n",
       "    <tr>\n",
       "      <th>2</th>\n",
       "      <td>3005</td>\n",
       "      <td>Welcome Park, NPS</td>\n",
       "      <td>4/23/2015</td>\n",
       "      <td>Active</td>\n",
       "      <td>Center City East</td>\n",
       "      <td>39.947330</td>\n",
       "      <td>-75.144028</td>\n",
       "    </tr>\n",
       "    <tr>\n",
       "      <th>3</th>\n",
       "      <td>3006</td>\n",
       "      <td>40th &amp; Spruce</td>\n",
       "      <td>4/23/2015</td>\n",
       "      <td>Active</td>\n",
       "      <td>University City</td>\n",
       "      <td>39.952202</td>\n",
       "      <td>-75.203110</td>\n",
       "    </tr>\n",
       "    <tr>\n",
       "      <th>4</th>\n",
       "      <td>3007</td>\n",
       "      <td>11th &amp; Pine, Kahn Park</td>\n",
       "      <td>4/23/2015</td>\n",
       "      <td>Active</td>\n",
       "      <td>Washington Square West</td>\n",
       "      <td>39.945171</td>\n",
       "      <td>-75.159927</td>\n",
       "    </tr>\n",
       "  </tbody>\n",
       "</table>\n",
       "</div>"
      ],
      "text/plain": [
       "   station_id                       station_name day_of_go_live_date  status  \\\n",
       "0        3000                    Virtual Station           4/23/2015  Active   \n",
       "1        3004  Municipal Services Building Plaza           4/23/2015  Active   \n",
       "2        3005                  Welcome Park, NPS           4/23/2015  Active   \n",
       "3        3006                      40th & Spruce           4/23/2015  Active   \n",
       "4        3007             11th & Pine, Kahn Park           4/23/2015  Active   \n",
       "\n",
       "             neighborhood  station_lat  station_lon  \n",
       "0             Center City          NaN          NaN  \n",
       "1             Center City    39.953781   -75.163742  \n",
       "2        Center City East    39.947330   -75.144028  \n",
       "3         University City    39.952202   -75.203110  \n",
       "4  Washington Square West    39.945171   -75.159927  "
      ]
     },
     "execution_count": 681,
     "metadata": {},
     "output_type": "execute_result"
    }
   ],
   "source": [
    "# Get the list of all stations for start or end of trip, with latlong data. Avg latlong if multiple entries exist\n",
    "start_coords = trip_data[[\"start_station\", \"start_lat\", \"start_lon\"]].groupby([\"start_station\"]).mean().reset_index()\n",
    "end_coords = trip_data[[\"end_station\", \"end_lat\", \"end_lon\"]].groupby([\"end_station\"]).mean().reset_index()\n",
    "\n",
    "# Rename columns to match\n",
    "start_coords = start_coords.rename(columns={\"start_station\":\"station_id\", \"start_lat\":\"station_lat\", \"start_lon\":\"station_lon\"})\n",
    "end_coords = end_coords.rename(columns={\"end_station\":\"station_id\", \"end_lat\":\"station_lat\", \"end_lon\":\"station_lon\"})\n",
    "\n",
    "# Merge the two lists. Avg latlong if multple entries exist\n",
    "coords = start_coords.append(end_coords).groupby(\"station_id\").mean().reset_index()\n",
    "\n",
    "station_data_sql = pd.merge(left=station_data, right=coords[[\"station_id\", \"station_lat\", \"station_lon\"]], how=\"left\", left_on=[\"station_id\"], right_on=[\"station_id\"])\n",
    "\n",
    "station_data_sql.head(5)"
   ]
  },
  {
   "cell_type": "markdown",
   "id": "a372a769",
   "metadata": {},
   "source": [
    "<br>Check if any station IDs are missing longlat data. Only stations that are inactive and the virtual station do not have data"
   ]
  },
  {
   "cell_type": "code",
   "execution_count": 682,
   "id": "325b80bc",
   "metadata": {},
   "outputs": [
    {
     "data": {
      "text/html": [
       "<div>\n",
       "<style scoped>\n",
       "    .dataframe tbody tr th:only-of-type {\n",
       "        vertical-align: middle;\n",
       "    }\n",
       "\n",
       "    .dataframe tbody tr th {\n",
       "        vertical-align: top;\n",
       "    }\n",
       "\n",
       "    .dataframe thead th {\n",
       "        text-align: right;\n",
       "    }\n",
       "</style>\n",
       "<table border=\"1\" class=\"dataframe\">\n",
       "  <thead>\n",
       "    <tr style=\"text-align: right;\">\n",
       "      <th></th>\n",
       "      <th>station_id</th>\n",
       "      <th>station_name</th>\n",
       "      <th>day_of_go_live_date</th>\n",
       "      <th>status</th>\n",
       "      <th>neighborhood</th>\n",
       "      <th>station_lat</th>\n",
       "      <th>station_lon</th>\n",
       "    </tr>\n",
       "  </thead>\n",
       "  <tbody>\n",
       "    <tr>\n",
       "      <th>0</th>\n",
       "      <td>3000</td>\n",
       "      <td>Virtual Station</td>\n",
       "      <td>4/23/2015</td>\n",
       "      <td>Active</td>\n",
       "      <td>Center City</td>\n",
       "      <td>NaN</td>\n",
       "      <td>NaN</td>\n",
       "    </tr>\n",
       "    <tr>\n",
       "      <th>20</th>\n",
       "      <td>3023</td>\n",
       "      <td>Rittenhouse Square</td>\n",
       "      <td>4/23/2015</td>\n",
       "      <td>Inactive</td>\n",
       "      <td>Rittenhouse Square</td>\n",
       "      <td>NaN</td>\n",
       "      <td>NaN</td>\n",
       "    </tr>\n",
       "    <tr>\n",
       "      <th>43</th>\n",
       "      <td>3048</td>\n",
       "      <td>Broad &amp; Fitzwater</td>\n",
       "      <td>4/23/2015</td>\n",
       "      <td>Inactive</td>\n",
       "      <td>South Philadelphia</td>\n",
       "      <td>NaN</td>\n",
       "      <td>NaN</td>\n",
       "    </tr>\n",
       "    <tr>\n",
       "      <th>90</th>\n",
       "      <td>3109</td>\n",
       "      <td>Parkside &amp; Girard</td>\n",
       "      <td>5/6/2016</td>\n",
       "      <td>Inactive</td>\n",
       "      <td>East Parkside</td>\n",
       "      <td>NaN</td>\n",
       "      <td>NaN</td>\n",
       "    </tr>\n",
       "    <tr>\n",
       "      <th>103</th>\n",
       "      <td>3122</td>\n",
       "      <td>24th &amp; Cecil B. Moore, Cecil B. Moore Library</td>\n",
       "      <td>4/27/2016</td>\n",
       "      <td>Inactive</td>\n",
       "      <td>North Philadelphia</td>\n",
       "      <td>NaN</td>\n",
       "      <td>NaN</td>\n",
       "    </tr>\n",
       "  </tbody>\n",
       "</table>\n",
       "</div>"
      ],
      "text/plain": [
       "     station_id                                   station_name  \\\n",
       "0          3000                                Virtual Station   \n",
       "20         3023                             Rittenhouse Square   \n",
       "43         3048                              Broad & Fitzwater   \n",
       "90         3109                              Parkside & Girard   \n",
       "103        3122  24th & Cecil B. Moore, Cecil B. Moore Library   \n",
       "\n",
       "    day_of_go_live_date    status        neighborhood  station_lat  \\\n",
       "0             4/23/2015    Active         Center City          NaN   \n",
       "20            4/23/2015  Inactive  Rittenhouse Square          NaN   \n",
       "43            4/23/2015  Inactive  South Philadelphia          NaN   \n",
       "90             5/6/2016  Inactive       East Parkside          NaN   \n",
       "103           4/27/2016  Inactive  North Philadelphia          NaN   \n",
       "\n",
       "     station_lon  \n",
       "0            NaN  \n",
       "20           NaN  \n",
       "43           NaN  \n",
       "90           NaN  \n",
       "103          NaN  "
      ]
     },
     "execution_count": 682,
     "metadata": {},
     "output_type": "execute_result"
    }
   ],
   "source": [
    "station_data_sql.loc[station_data_sql[\"station_lat\"].isnull() == True]"
   ]
  },
  {
   "cell_type": "markdown",
   "id": "545d73af",
   "metadata": {},
   "source": [
    "<br>Convert the go live date to a datetime before storing in the SQL db"
   ]
  },
  {
   "cell_type": "code",
   "execution_count": 725,
   "id": "01849bf1",
   "metadata": {},
   "outputs": [
    {
     "data": {
      "text/html": [
       "<div>\n",
       "<style scoped>\n",
       "    .dataframe tbody tr th:only-of-type {\n",
       "        vertical-align: middle;\n",
       "    }\n",
       "\n",
       "    .dataframe tbody tr th {\n",
       "        vertical-align: top;\n",
       "    }\n",
       "\n",
       "    .dataframe thead th {\n",
       "        text-align: right;\n",
       "    }\n",
       "</style>\n",
       "<table border=\"1\" class=\"dataframe\">\n",
       "  <thead>\n",
       "    <tr style=\"text-align: right;\">\n",
       "      <th></th>\n",
       "      <th>station_id</th>\n",
       "      <th>station_name</th>\n",
       "      <th>day_of_go_live_date</th>\n",
       "      <th>status</th>\n",
       "      <th>neighborhood</th>\n",
       "      <th>station_lat</th>\n",
       "      <th>station_lon</th>\n",
       "    </tr>\n",
       "  </thead>\n",
       "  <tbody>\n",
       "    <tr>\n",
       "      <th>0</th>\n",
       "      <td>3000</td>\n",
       "      <td>Virtual Station</td>\n",
       "      <td>2015-04-23</td>\n",
       "      <td>Active</td>\n",
       "      <td>Center City</td>\n",
       "      <td>NaN</td>\n",
       "      <td>NaN</td>\n",
       "    </tr>\n",
       "    <tr>\n",
       "      <th>1</th>\n",
       "      <td>3004</td>\n",
       "      <td>Municipal Services Building Plaza</td>\n",
       "      <td>2015-04-23</td>\n",
       "      <td>Active</td>\n",
       "      <td>Center City</td>\n",
       "      <td>39.953781</td>\n",
       "      <td>-75.163742</td>\n",
       "    </tr>\n",
       "  </tbody>\n",
       "</table>\n",
       "</div>"
      ],
      "text/plain": [
       "   station_id                       station_name day_of_go_live_date  status  \\\n",
       "0        3000                    Virtual Station          2015-04-23  Active   \n",
       "1        3004  Municipal Services Building Plaza          2015-04-23  Active   \n",
       "\n",
       "  neighborhood  station_lat  station_lon  \n",
       "0  Center City          NaN          NaN  \n",
       "1  Center City    39.953781   -75.163742  "
      ]
     },
     "execution_count": 725,
     "metadata": {},
     "output_type": "execute_result"
    }
   ],
   "source": [
    "import datetime as dt\n",
    "\n",
    "station_data_sql[\"day_of_go_live_date\"] = pd.to_datetime(station_data_sql[\"day_of_go_live_date\"])\n",
    "\n",
    "station_data_sql.head(2)"
   ]
  },
  {
   "cell_type": "markdown",
   "id": "6e06a5ed",
   "metadata": {},
   "source": [
    "<br>Store the combination of start & end stations with distance in between as its own table"
   ]
  },
  {
   "cell_type": "code",
   "execution_count": 611,
   "id": "33a0f1a9",
   "metadata": {},
   "outputs": [
    {
     "name": "stdout",
     "output_type": "stream",
     "text": [
      "<class 'pandas.core.frame.DataFrame'>\n",
      "RangeIndex: 23940 entries, 0 to 23939\n",
      "Data columns (total 8 columns):\n",
      " #   Column      Non-Null Count  Dtype  \n",
      "---  ------      --------------  -----  \n",
      " 0   start_name  23940 non-null  object \n",
      " 1   end_name    23940 non-null  object \n",
      " 2   start_lat   23760 non-null  float64\n",
      " 3   start_lon   23760 non-null  float64\n",
      " 4   end_lat     23760 non-null  float64\n",
      " 5   end_lon     23760 non-null  float64\n",
      " 6   count       23760 non-null  float64\n",
      " 7   distance    23940 non-null  float64\n",
      "dtypes: float64(6), object(2)\n",
      "memory usage: 1.5+ MB\n"
     ]
    }
   ],
   "source": [
    "station_name_combos.info()"
   ]
  },
  {
   "cell_type": "markdown",
   "id": "14c07611",
   "metadata": {},
   "source": [
    "<br>Drop the latlong data from this table - it is now stored in the station data table"
   ]
  },
  {
   "cell_type": "code",
   "execution_count": 688,
   "id": "ae030248",
   "metadata": {},
   "outputs": [
    {
     "data": {
      "text/html": [
       "<div>\n",
       "<style scoped>\n",
       "    .dataframe tbody tr th:only-of-type {\n",
       "        vertical-align: middle;\n",
       "    }\n",
       "\n",
       "    .dataframe tbody tr th {\n",
       "        vertical-align: top;\n",
       "    }\n",
       "\n",
       "    .dataframe thead th {\n",
       "        text-align: right;\n",
       "    }\n",
       "</style>\n",
       "<table border=\"1\" class=\"dataframe\">\n",
       "  <thead>\n",
       "    <tr style=\"text-align: right;\">\n",
       "      <th></th>\n",
       "      <th>start_name</th>\n",
       "      <th>end_name</th>\n",
       "      <th>distance</th>\n",
       "    </tr>\n",
       "  </thead>\n",
       "  <tbody>\n",
       "    <tr>\n",
       "      <th>0</th>\n",
       "      <td>10th &amp; Chestnut</td>\n",
       "      <td>10th &amp; Federal</td>\n",
       "      <td>1.1</td>\n",
       "    </tr>\n",
       "    <tr>\n",
       "      <th>1</th>\n",
       "      <td>10th &amp; Chestnut</td>\n",
       "      <td>11th &amp; Market</td>\n",
       "      <td>0.4</td>\n",
       "    </tr>\n",
       "    <tr>\n",
       "      <th>2</th>\n",
       "      <td>10th &amp; Chestnut</td>\n",
       "      <td>11th &amp; Pine, Kahn Park</td>\n",
       "      <td>0.6</td>\n",
       "    </tr>\n",
       "    <tr>\n",
       "      <th>3</th>\n",
       "      <td>10th &amp; Chestnut</td>\n",
       "      <td>11th &amp; Poplar, John F. Street Community Center</td>\n",
       "      <td>1.6</td>\n",
       "    </tr>\n",
       "    <tr>\n",
       "      <th>4</th>\n",
       "      <td>10th &amp; Chestnut</td>\n",
       "      <td>11th &amp; Reed</td>\n",
       "      <td>1.3</td>\n",
       "    </tr>\n",
       "  </tbody>\n",
       "</table>\n",
       "</div>"
      ],
      "text/plain": [
       "        start_name                                        end_name  distance\n",
       "0  10th & Chestnut                                  10th & Federal       1.1\n",
       "1  10th & Chestnut                                   11th & Market       0.4\n",
       "2  10th & Chestnut                          11th & Pine, Kahn Park       0.6\n",
       "3  10th & Chestnut  11th & Poplar, John F. Street Community Center       1.6\n",
       "4  10th & Chestnut                                     11th & Reed       1.3"
      ]
     },
     "execution_count": 688,
     "metadata": {},
     "output_type": "execute_result"
    }
   ],
   "source": [
    "station_combos_sql = station_name_combos.copy()\n",
    "\n",
    "station_combos_sql = station_combos_sql.drop(columns=[\"start_lat\", \"start_lon\", \"end_lat\", \"end_lon\", \"count\"])\n",
    "\n",
    "station_combos_sql.head()"
   ]
  },
  {
   "cell_type": "code",
   "execution_count": 612,
   "id": "2ca830e0",
   "metadata": {
    "scrolled": true
   },
   "outputs": [
    {
     "name": "stdout",
     "output_type": "stream",
     "text": [
      "<class 'pandas.core.frame.DataFrame'>\n",
      "Int64Index: 1989934 entries, 0 to 300431\n",
      "Data columns (total 15 columns):\n",
      " #   Column               Dtype  \n",
      "---  ------               -----  \n",
      " 0   trip_id              int64  \n",
      " 1   duration             int64  \n",
      " 2   start_time           object \n",
      " 3   end_time             object \n",
      " 4   start_station        int64  \n",
      " 5   start_lat            float64\n",
      " 6   start_lon            float64\n",
      " 7   end_station          int64  \n",
      " 8   end_lat              float64\n",
      " 9   end_lon              float64\n",
      " 10  bike_id              object \n",
      " 11  plan_duration        float64\n",
      " 12  trip_route_category  object \n",
      " 13  passholder_type      object \n",
      " 14  bike_type            object \n",
      "dtypes: float64(5), int64(4), object(6)\n",
      "memory usage: 242.9+ MB\n"
     ]
    }
   ],
   "source": [
    "trip_data.info()"
   ]
  },
  {
   "cell_type": "markdown",
   "id": "e6ed1857",
   "metadata": {},
   "source": [
    "<br>Drop the latlong data from this table - it is now stored in the station data table"
   ]
  },
  {
   "cell_type": "code",
   "execution_count": 720,
   "id": "80ba7090",
   "metadata": {},
   "outputs": [
    {
     "data": {
      "text/html": [
       "<div>\n",
       "<style scoped>\n",
       "    .dataframe tbody tr th:only-of-type {\n",
       "        vertical-align: middle;\n",
       "    }\n",
       "\n",
       "    .dataframe tbody tr th {\n",
       "        vertical-align: top;\n",
       "    }\n",
       "\n",
       "    .dataframe thead th {\n",
       "        text-align: right;\n",
       "    }\n",
       "</style>\n",
       "<table border=\"1\" class=\"dataframe\">\n",
       "  <thead>\n",
       "    <tr style=\"text-align: right;\">\n",
       "      <th></th>\n",
       "      <th>trip_id</th>\n",
       "      <th>duration</th>\n",
       "      <th>start_time</th>\n",
       "      <th>end_time</th>\n",
       "      <th>start_station</th>\n",
       "      <th>end_station</th>\n",
       "      <th>bike_id</th>\n",
       "      <th>plan_duration</th>\n",
       "      <th>trip_route_category</th>\n",
       "      <th>passholder_type</th>\n",
       "      <th>bike_type</th>\n",
       "    </tr>\n",
       "  </thead>\n",
       "  <tbody>\n",
       "    <tr>\n",
       "      <th>300427</th>\n",
       "      <td>428365176</td>\n",
       "      <td>10</td>\n",
       "      <td>9/30/2021 23:57</td>\n",
       "      <td>10/1/2021 0:07</td>\n",
       "      <td>3009</td>\n",
       "      <td>3035</td>\n",
       "      <td>18791</td>\n",
       "      <td>30.0</td>\n",
       "      <td>One Way</td>\n",
       "      <td>Indego30</td>\n",
       "      <td>electric</td>\n",
       "    </tr>\n",
       "    <tr>\n",
       "      <th>300428</th>\n",
       "      <td>428365174</td>\n",
       "      <td>7</td>\n",
       "      <td>9/30/2021 23:57</td>\n",
       "      <td>10/1/2021 0:04</td>\n",
       "      <td>3047</td>\n",
       "      <td>3028</td>\n",
       "      <td>5263</td>\n",
       "      <td>30.0</td>\n",
       "      <td>One Way</td>\n",
       "      <td>Indego30</td>\n",
       "      <td>standard</td>\n",
       "    </tr>\n",
       "    <tr>\n",
       "      <th>300429</th>\n",
       "      <td>428365172</td>\n",
       "      <td>7</td>\n",
       "      <td>9/30/2021 23:58</td>\n",
       "      <td>10/1/2021 0:05</td>\n",
       "      <td>3046</td>\n",
       "      <td>3050</td>\n",
       "      <td>18675</td>\n",
       "      <td>30.0</td>\n",
       "      <td>One Way</td>\n",
       "      <td>Indego30</td>\n",
       "      <td>electric</td>\n",
       "    </tr>\n",
       "    <tr>\n",
       "      <th>300430</th>\n",
       "      <td>428365170</td>\n",
       "      <td>3</td>\n",
       "      <td>9/30/2021 23:58</td>\n",
       "      <td>10/1/2021 0:01</td>\n",
       "      <td>3115</td>\n",
       "      <td>3075</td>\n",
       "      <td>21618</td>\n",
       "      <td>30.0</td>\n",
       "      <td>One Way</td>\n",
       "      <td>Indego30</td>\n",
       "      <td>electric</td>\n",
       "    </tr>\n",
       "    <tr>\n",
       "      <th>300431</th>\n",
       "      <td>428365168</td>\n",
       "      <td>12</td>\n",
       "      <td>9/30/2021 23:59</td>\n",
       "      <td>10/1/2021 0:11</td>\n",
       "      <td>3012</td>\n",
       "      <td>3112</td>\n",
       "      <td>18807</td>\n",
       "      <td>30.0</td>\n",
       "      <td>One Way</td>\n",
       "      <td>Indego30</td>\n",
       "      <td>electric</td>\n",
       "    </tr>\n",
       "  </tbody>\n",
       "</table>\n",
       "</div>"
      ],
      "text/plain": [
       "          trip_id  duration       start_time        end_time  start_station  \\\n",
       "300427  428365176        10  9/30/2021 23:57  10/1/2021 0:07           3009   \n",
       "300428  428365174         7  9/30/2021 23:57  10/1/2021 0:04           3047   \n",
       "300429  428365172         7  9/30/2021 23:58  10/1/2021 0:05           3046   \n",
       "300430  428365170         3  9/30/2021 23:58  10/1/2021 0:01           3115   \n",
       "300431  428365168        12  9/30/2021 23:59  10/1/2021 0:11           3012   \n",
       "\n",
       "        end_station bike_id  plan_duration trip_route_category  \\\n",
       "300427         3035   18791           30.0             One Way   \n",
       "300428         3028    5263           30.0             One Way   \n",
       "300429         3050   18675           30.0             One Way   \n",
       "300430         3075   21618           30.0             One Way   \n",
       "300431         3112   18807           30.0             One Way   \n",
       "\n",
       "       passholder_type bike_type  \n",
       "300427        Indego30  electric  \n",
       "300428        Indego30  standard  \n",
       "300429        Indego30  electric  \n",
       "300430        Indego30  electric  \n",
       "300431        Indego30  electric  "
      ]
     },
     "execution_count": 720,
     "metadata": {},
     "output_type": "execute_result"
    }
   ],
   "source": [
    "trip_data_sql = trip_data.copy()\n",
    "\n",
    "trip_data_sql = trip_data_sql.drop(columns=[\"start_lat\", \"start_lon\", \"end_lat\", \"end_lon\"])\n",
    "\n",
    "trip_data_sql.tail()"
   ]
  },
  {
   "cell_type": "markdown",
   "id": "e8e24fd5",
   "metadata": {},
   "source": [
    "<br>Convert the date columns to datetimes before storing in the SQL db"
   ]
  },
  {
   "cell_type": "code",
   "execution_count": 721,
   "id": "66c40cd6",
   "metadata": {},
   "outputs": [
    {
     "data": {
      "text/html": [
       "<div>\n",
       "<style scoped>\n",
       "    .dataframe tbody tr th:only-of-type {\n",
       "        vertical-align: middle;\n",
       "    }\n",
       "\n",
       "    .dataframe tbody tr th {\n",
       "        vertical-align: top;\n",
       "    }\n",
       "\n",
       "    .dataframe thead th {\n",
       "        text-align: right;\n",
       "    }\n",
       "</style>\n",
       "<table border=\"1\" class=\"dataframe\">\n",
       "  <thead>\n",
       "    <tr style=\"text-align: right;\">\n",
       "      <th></th>\n",
       "      <th>trip_id</th>\n",
       "      <th>duration</th>\n",
       "      <th>start_time</th>\n",
       "      <th>end_time</th>\n",
       "      <th>start_station</th>\n",
       "      <th>end_station</th>\n",
       "      <th>bike_id</th>\n",
       "      <th>plan_duration</th>\n",
       "      <th>trip_route_category</th>\n",
       "      <th>passholder_type</th>\n",
       "      <th>bike_type</th>\n",
       "    </tr>\n",
       "  </thead>\n",
       "  <tbody>\n",
       "    <tr>\n",
       "      <th>300427</th>\n",
       "      <td>428365176</td>\n",
       "      <td>10</td>\n",
       "      <td>2021-09-30 23:57:00</td>\n",
       "      <td>2021-10-01 00:07:00</td>\n",
       "      <td>3009</td>\n",
       "      <td>3035</td>\n",
       "      <td>18791</td>\n",
       "      <td>30.0</td>\n",
       "      <td>One Way</td>\n",
       "      <td>Indego30</td>\n",
       "      <td>electric</td>\n",
       "    </tr>\n",
       "    <tr>\n",
       "      <th>300428</th>\n",
       "      <td>428365174</td>\n",
       "      <td>7</td>\n",
       "      <td>2021-09-30 23:57:00</td>\n",
       "      <td>2021-10-01 00:04:00</td>\n",
       "      <td>3047</td>\n",
       "      <td>3028</td>\n",
       "      <td>5263</td>\n",
       "      <td>30.0</td>\n",
       "      <td>One Way</td>\n",
       "      <td>Indego30</td>\n",
       "      <td>standard</td>\n",
       "    </tr>\n",
       "    <tr>\n",
       "      <th>300429</th>\n",
       "      <td>428365172</td>\n",
       "      <td>7</td>\n",
       "      <td>2021-09-30 23:58:00</td>\n",
       "      <td>2021-10-01 00:05:00</td>\n",
       "      <td>3046</td>\n",
       "      <td>3050</td>\n",
       "      <td>18675</td>\n",
       "      <td>30.0</td>\n",
       "      <td>One Way</td>\n",
       "      <td>Indego30</td>\n",
       "      <td>electric</td>\n",
       "    </tr>\n",
       "    <tr>\n",
       "      <th>300430</th>\n",
       "      <td>428365170</td>\n",
       "      <td>3</td>\n",
       "      <td>2021-09-30 23:58:00</td>\n",
       "      <td>2021-10-01 00:01:00</td>\n",
       "      <td>3115</td>\n",
       "      <td>3075</td>\n",
       "      <td>21618</td>\n",
       "      <td>30.0</td>\n",
       "      <td>One Way</td>\n",
       "      <td>Indego30</td>\n",
       "      <td>electric</td>\n",
       "    </tr>\n",
       "    <tr>\n",
       "      <th>300431</th>\n",
       "      <td>428365168</td>\n",
       "      <td>12</td>\n",
       "      <td>2021-09-30 23:59:00</td>\n",
       "      <td>2021-10-01 00:11:00</td>\n",
       "      <td>3012</td>\n",
       "      <td>3112</td>\n",
       "      <td>18807</td>\n",
       "      <td>30.0</td>\n",
       "      <td>One Way</td>\n",
       "      <td>Indego30</td>\n",
       "      <td>electric</td>\n",
       "    </tr>\n",
       "  </tbody>\n",
       "</table>\n",
       "</div>"
      ],
      "text/plain": [
       "          trip_id  duration          start_time            end_time  \\\n",
       "300427  428365176        10 2021-09-30 23:57:00 2021-10-01 00:07:00   \n",
       "300428  428365174         7 2021-09-30 23:57:00 2021-10-01 00:04:00   \n",
       "300429  428365172         7 2021-09-30 23:58:00 2021-10-01 00:05:00   \n",
       "300430  428365170         3 2021-09-30 23:58:00 2021-10-01 00:01:00   \n",
       "300431  428365168        12 2021-09-30 23:59:00 2021-10-01 00:11:00   \n",
       "\n",
       "        start_station  end_station bike_id  plan_duration trip_route_category  \\\n",
       "300427           3009         3035   18791           30.0             One Way   \n",
       "300428           3047         3028    5263           30.0             One Way   \n",
       "300429           3046         3050   18675           30.0             One Way   \n",
       "300430           3115         3075   21618           30.0             One Way   \n",
       "300431           3012         3112   18807           30.0             One Way   \n",
       "\n",
       "       passholder_type bike_type  \n",
       "300427        Indego30  electric  \n",
       "300428        Indego30  standard  \n",
       "300429        Indego30  electric  \n",
       "300430        Indego30  electric  \n",
       "300431        Indego30  electric  "
      ]
     },
     "execution_count": 721,
     "metadata": {},
     "output_type": "execute_result"
    }
   ],
   "source": [
    "trip_data_sql[\"start_time\"] = pd.to_datetime(trip_data_sql[\"start_time\"])\n",
    "trip_data_sql[\"end_time\"] = pd.to_datetime(trip_data_sql[\"end_time\"])\n",
    "\n",
    "trip_data_sql.tail()"
   ]
  },
  {
   "cell_type": "markdown",
   "id": "c801afe2",
   "metadata": {},
   "source": [
    "<br>Create a new SQLite database"
   ]
  },
  {
   "cell_type": "code",
   "execution_count": 726,
   "id": "9e940a2c",
   "metadata": {},
   "outputs": [],
   "source": [
    "import sqlite3\n",
    "\n",
    "conn = sqlite3.connect('bike_trip_db')\n",
    "c = conn.cursor()"
   ]
  },
  {
   "cell_type": "code",
   "execution_count": 749,
   "id": "cb409baa",
   "metadata": {},
   "outputs": [],
   "source": [
    "station_data_sql.to_sql('stations', conn, if_exists='replace', index = False)\n",
    "station_combos_sql.to_sql('station_combos', conn, if_exists='replace', index = False)\n",
    "trip_data_sql.to_sql('trips', conn, if_exists='replace', index = False)"
   ]
  },
  {
   "cell_type": "markdown",
   "id": "a3121cc1",
   "metadata": {},
   "source": [
    "<br>Check header info"
   ]
  },
  {
   "cell_type": "code",
   "execution_count": 750,
   "id": "1e2e6d31",
   "metadata": {},
   "outputs": [
    {
     "name": "stdout",
     "output_type": "stream",
     "text": [
      "(0, 'station_id', 'INTEGER', 0, None, 0)\n",
      "(1, 'station_name', 'TEXT', 0, None, 0)\n",
      "(2, 'day_of_go_live_date', 'TIMESTAMP', 0, None, 0)\n",
      "(3, 'status', 'TEXT', 0, None, 0)\n",
      "(4, 'neighborhood', 'TEXT', 0, None, 0)\n",
      "(5, 'station_lat', 'REAL', 0, None, 0)\n",
      "(6, 'station_lon', 'REAL', 0, None, 0)\n"
     ]
    }
   ],
   "source": [
    "c.execute('''  \n",
    "            PRAGMA table_info(stations);\n",
    "            ''')\n",
    "\n",
    "for row in c.fetchall():\n",
    "    print (row)"
   ]
  },
  {
   "cell_type": "markdown",
   "id": "e03bbb2d",
   "metadata": {},
   "source": [
    "<br>Check data"
   ]
  },
  {
   "cell_type": "code",
   "execution_count": 751,
   "id": "ff9eaa12",
   "metadata": {},
   "outputs": [
    {
     "name": "stdout",
     "output_type": "stream",
     "text": [
      "(3000, 'Virtual Station', '2015-04-23 00:00:00', 'Active', 'Center City', None, None)\n",
      "(3004, 'Municipal Services Building Plaza', '2015-04-23 00:00:00', 'Active', 'Center City', 39.953781, -75.163742)\n",
      "(3005, 'Welcome Park, NPS', '2015-04-23 00:00:00', 'Active', 'Center City East', 39.94733, -75.144028)\n",
      "(3006, '40th & Spruce', '2015-04-23 00:00:00', 'Active', 'University City', 39.952202, -75.20311)\n",
      "(3007, '11th & Pine, Kahn Park', '2015-04-23 00:00:00', 'Active', 'Washington Square West', 39.945171, -75.159927)\n",
      "(3008, 'Temple University Station', '2015-04-23 00:00:00', 'Active', 'North Philadelphia', 39.98044755123083, -75.1506971812565)\n",
      "(3009, '33rd & Market', '2015-04-23 00:00:00', 'Active', 'University City', 39.955761, -75.189819)\n",
      "(3010, '15th & Spruce', '2015-04-23 00:00:00', 'Active', 'Rittenhouse Square', 39.947109, -75.166183)\n",
      "(3011, '38th & Powelton', '2015-04-23 00:00:00', 'Active', 'University City', 39.95960020818546, -75.19664993981894)\n",
      "(3012, '21st & Catharine', '2015-04-23 00:00:00', 'Active', 'Graduate Hospital', 39.942181, -75.177467)\n"
     ]
    }
   ],
   "source": [
    "c.execute('''  \n",
    "            SELECT * \n",
    "            FROM stations\n",
    "            LIMIT 10;\n",
    "            ''')\n",
    "\n",
    "for row in c.fetchall():\n",
    "    print (row)"
   ]
  },
  {
   "cell_type": "markdown",
   "id": "3a98238f",
   "metadata": {},
   "source": [
    "<br>Check the number of rows"
   ]
  },
  {
   "cell_type": "code",
   "execution_count": 752,
   "id": "5a1e7064",
   "metadata": {},
   "outputs": [
    {
     "name": "stdout",
     "output_type": "stream",
     "text": [
      "(180,)\n"
     ]
    }
   ],
   "source": [
    "c.execute('''  \n",
    "            SELECT COUNT(*) \n",
    "            FROM stations\n",
    "            ''')\n",
    "\n",
    "for row in c.fetchall():\n",
    "    print (row)"
   ]
  },
  {
   "cell_type": "markdown",
   "id": "89a79dc3",
   "metadata": {},
   "source": [
    "<br>The data has been stored in the 'bike_trip-db' database"
   ]
  }
 ],
 "metadata": {
  "kernelspec": {
   "display_name": "Python 3 (ipykernel)",
   "language": "python",
   "name": "python3"
  },
  "language_info": {
   "codemirror_mode": {
    "name": "ipython",
    "version": 3
   },
   "file_extension": ".py",
   "mimetype": "text/x-python",
   "name": "python",
   "nbconvert_exporter": "python",
   "pygments_lexer": "ipython3",
   "version": "3.9.7"
  }
 },
 "nbformat": 4,
 "nbformat_minor": 5
}
