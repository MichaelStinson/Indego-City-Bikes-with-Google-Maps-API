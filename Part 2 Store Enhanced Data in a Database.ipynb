{
 "cells": [
  {
   "cell_type": "markdown",
   "id": "ca510406",
   "metadata": {},
   "source": [
    "# Part 2: Store Enhanced Data in a Database\n",
    "\n",
    "Indego publishes quarterly data on city bike usage. In Part 1, this data was cleaned and enhanced with additional information, to prepare it for analysis. In Part 2, this data will be stored into a SQLite database, so it can be accessed in the future using SQL and without needing to read the full dataset into memory\n",
    "\n",
    "Jump to a specific section:\n",
    "<br> *(jump to does not work if viewing thru GitHub)*<br>\n",
    "- [Load data into dataframes](#Load-data-into-dataframes)\n",
    "- [Restructure data to fit a relational database](#Restructure-data-to-fit-a-relational-database)\n",
    "- [Store data as a SQL database](#Store-data-as-a-SQL-database)"
   ]
  },
  {
   "cell_type": "markdown",
   "id": "63e542f2",
   "metadata": {},
   "source": [
    "<br><br>\n",
    "## Load data into dataframes\n",
    "\n",
    "[Return to Top](#Part-2:-Store-Enhanced-Data-in-a-Database)\n",
    "\n",
    "Data on Indego stations is stored in a single csv file"
   ]
  },
  {
   "cell_type": "code",
   "execution_count": 3,
   "id": "c5364b52",
   "metadata": {},
   "outputs": [],
   "source": [
    "import os\n",
    "import pandas as pd\n",
    "import numpy as np\n",
    "\n",
    "# Load from csv in the current working director\n",
    "station_data = pd.read_csv(os.getcwd() + \"/staged_data/indego-stations-2021-10-01-enhanced.csv\")\n",
    "tsd_data = pd.read_csv(os.getcwd() + \"/staged_data/indego-trips-enhanced.csv\")\n",
    "station_name_combos = pd.read_csv(os.getcwd() + \"/staged_data/stations-with-distance.csv\", dtype={'bike_id':'object'})"
   ]
  },
  {
   "cell_type": "markdown",
   "id": "39c549f3",
   "metadata": {},
   "source": [
    "<br><br>\n",
    "## Restructure data to fit a relational database\n",
    "[Return to Top](#Part-2:-Store-Enhanced-Data-in-a-Database)"
   ]
  },
  {
   "cell_type": "markdown",
   "id": "cdf5119e",
   "metadata": {},
   "source": [
    "<br> Prepare the data to be stored in a relational database, starting with station data"
   ]
  },
  {
   "cell_type": "code",
   "execution_count": 4,
   "id": "0b358e77",
   "metadata": {
    "scrolled": true
   },
   "outputs": [
    {
     "name": "stdout",
     "output_type": "stream",
     "text": [
      "<class 'pandas.core.frame.DataFrame'>\n",
      "RangeIndex: 180 entries, 0 to 179\n",
      "Data columns (total 5 columns):\n",
      " #   Column               Non-Null Count  Dtype \n",
      "---  ------               --------------  ----- \n",
      " 0   station_id           180 non-null    int64 \n",
      " 1   station_name         180 non-null    object\n",
      " 2   day_of_go_live_date  179 non-null    object\n",
      " 3   status               180 non-null    object\n",
      " 4   neighborhood         180 non-null    object\n",
      "dtypes: int64(1), object(4)\n",
      "memory usage: 7.2+ KB\n"
     ]
    }
   ],
   "source": [
    "station_data.info()"
   ]
  },
  {
   "cell_type": "markdown",
   "id": "3be2e1cf",
   "metadata": {},
   "source": [
    "<br>Add latitude and longitude coordinates to station data, where available. This information is currently stored for each individual trip, rather than once per station."
   ]
  },
  {
   "cell_type": "code",
   "execution_count": 5,
   "id": "c3cdf411",
   "metadata": {},
   "outputs": [
    {
     "data": {
      "text/html": [
       "<div>\n",
       "<style scoped>\n",
       "    .dataframe tbody tr th:only-of-type {\n",
       "        vertical-align: middle;\n",
       "    }\n",
       "\n",
       "    .dataframe tbody tr th {\n",
       "        vertical-align: top;\n",
       "    }\n",
       "\n",
       "    .dataframe thead th {\n",
       "        text-align: right;\n",
       "    }\n",
       "</style>\n",
       "<table border=\"1\" class=\"dataframe\">\n",
       "  <thead>\n",
       "    <tr style=\"text-align: right;\">\n",
       "      <th></th>\n",
       "      <th>station_id</th>\n",
       "      <th>station_name</th>\n",
       "      <th>day_of_go_live_date</th>\n",
       "      <th>status</th>\n",
       "      <th>neighborhood</th>\n",
       "      <th>station_lat</th>\n",
       "      <th>station_lon</th>\n",
       "    </tr>\n",
       "  </thead>\n",
       "  <tbody>\n",
       "    <tr>\n",
       "      <th>0</th>\n",
       "      <td>3000</td>\n",
       "      <td>Virtual Station</td>\n",
       "      <td>4/23/2015</td>\n",
       "      <td>Active</td>\n",
       "      <td>Center City</td>\n",
       "      <td>NaN</td>\n",
       "      <td>NaN</td>\n",
       "    </tr>\n",
       "    <tr>\n",
       "      <th>1</th>\n",
       "      <td>3004</td>\n",
       "      <td>Municipal Services Building Plaza</td>\n",
       "      <td>4/23/2015</td>\n",
       "      <td>Active</td>\n",
       "      <td>Center City</td>\n",
       "      <td>39.953781</td>\n",
       "      <td>-75.163742</td>\n",
       "    </tr>\n",
       "    <tr>\n",
       "      <th>2</th>\n",
       "      <td>3005</td>\n",
       "      <td>Welcome Park, NPS</td>\n",
       "      <td>4/23/2015</td>\n",
       "      <td>Active</td>\n",
       "      <td>Center City East</td>\n",
       "      <td>39.947330</td>\n",
       "      <td>-75.144028</td>\n",
       "    </tr>\n",
       "    <tr>\n",
       "      <th>3</th>\n",
       "      <td>3006</td>\n",
       "      <td>40th &amp; Spruce</td>\n",
       "      <td>4/23/2015</td>\n",
       "      <td>Active</td>\n",
       "      <td>University City</td>\n",
       "      <td>39.952202</td>\n",
       "      <td>-75.203110</td>\n",
       "    </tr>\n",
       "    <tr>\n",
       "      <th>4</th>\n",
       "      <td>3007</td>\n",
       "      <td>11th &amp; Pine, Kahn Park</td>\n",
       "      <td>4/23/2015</td>\n",
       "      <td>Active</td>\n",
       "      <td>Washington Square West</td>\n",
       "      <td>39.945171</td>\n",
       "      <td>-75.159927</td>\n",
       "    </tr>\n",
       "  </tbody>\n",
       "</table>\n",
       "</div>"
      ],
      "text/plain": [
       "   station_id                       station_name day_of_go_live_date  status  \\\n",
       "0        3000                    Virtual Station           4/23/2015  Active   \n",
       "1        3004  Municipal Services Building Plaza           4/23/2015  Active   \n",
       "2        3005                  Welcome Park, NPS           4/23/2015  Active   \n",
       "3        3006                      40th & Spruce           4/23/2015  Active   \n",
       "4        3007             11th & Pine, Kahn Park           4/23/2015  Active   \n",
       "\n",
       "             neighborhood  station_lat  station_lon  \n",
       "0             Center City          NaN          NaN  \n",
       "1             Center City    39.953781   -75.163742  \n",
       "2        Center City East    39.947330   -75.144028  \n",
       "3         University City    39.952202   -75.203110  \n",
       "4  Washington Square West    39.945171   -75.159927  "
      ]
     },
     "execution_count": 5,
     "metadata": {},
     "output_type": "execute_result"
    }
   ],
   "source": [
    "# Get the list of all stations for start or end of trip, with latlong data. Avg latlong if multiple entries exist\n",
    "start_coords = tsd_data[[\"start_station\", \"start_lat\", \"start_lon\"]].groupby([\"start_station\"]).mean().reset_index()\n",
    "end_coords = tsd_data[[\"end_station\", \"end_lat\", \"end_lon\"]].groupby([\"end_station\"]).mean().reset_index()\n",
    "\n",
    "# Rename columns to match\n",
    "start_coords = start_coords.rename(columns={\"start_station\":\"station_id\", \"start_lat\":\"station_lat\", \"start_lon\":\"station_lon\"})\n",
    "end_coords = end_coords.rename(columns={\"end_station\":\"station_id\", \"end_lat\":\"station_lat\", \"end_lon\":\"station_lon\"})\n",
    "\n",
    "# Merge the two lists. Avg latlong if multple entries exist\n",
    "coords = start_coords.append(end_coords).groupby(\"station_id\").mean().reset_index()\n",
    "\n",
    "station_data_sql = pd.merge(left=station_data, right=coords[[\"station_id\", \"station_lat\", \"station_lon\"]], how=\"left\", left_on=[\"station_id\"], right_on=[\"station_id\"])\n",
    "\n",
    "station_data_sql.head(5)"
   ]
  },
  {
   "cell_type": "markdown",
   "id": "a372a769",
   "metadata": {},
   "source": [
    "<br>Check if any station IDs are missing longlat data. Only stations that are inactive and the virtual station do not have data"
   ]
  },
  {
   "cell_type": "code",
   "execution_count": 6,
   "id": "325b80bc",
   "metadata": {},
   "outputs": [
    {
     "data": {
      "text/html": [
       "<div>\n",
       "<style scoped>\n",
       "    .dataframe tbody tr th:only-of-type {\n",
       "        vertical-align: middle;\n",
       "    }\n",
       "\n",
       "    .dataframe tbody tr th {\n",
       "        vertical-align: top;\n",
       "    }\n",
       "\n",
       "    .dataframe thead th {\n",
       "        text-align: right;\n",
       "    }\n",
       "</style>\n",
       "<table border=\"1\" class=\"dataframe\">\n",
       "  <thead>\n",
       "    <tr style=\"text-align: right;\">\n",
       "      <th></th>\n",
       "      <th>station_id</th>\n",
       "      <th>station_name</th>\n",
       "      <th>day_of_go_live_date</th>\n",
       "      <th>status</th>\n",
       "      <th>neighborhood</th>\n",
       "      <th>station_lat</th>\n",
       "      <th>station_lon</th>\n",
       "    </tr>\n",
       "  </thead>\n",
       "  <tbody>\n",
       "    <tr>\n",
       "      <th>0</th>\n",
       "      <td>3000</td>\n",
       "      <td>Virtual Station</td>\n",
       "      <td>4/23/2015</td>\n",
       "      <td>Active</td>\n",
       "      <td>Center City</td>\n",
       "      <td>NaN</td>\n",
       "      <td>NaN</td>\n",
       "    </tr>\n",
       "    <tr>\n",
       "      <th>20</th>\n",
       "      <td>3023</td>\n",
       "      <td>Rittenhouse Square</td>\n",
       "      <td>4/23/2015</td>\n",
       "      <td>Inactive</td>\n",
       "      <td>Rittenhouse Square</td>\n",
       "      <td>NaN</td>\n",
       "      <td>NaN</td>\n",
       "    </tr>\n",
       "    <tr>\n",
       "      <th>43</th>\n",
       "      <td>3048</td>\n",
       "      <td>Broad &amp; Fitzwater</td>\n",
       "      <td>4/23/2015</td>\n",
       "      <td>Inactive</td>\n",
       "      <td>South Philadelphia</td>\n",
       "      <td>NaN</td>\n",
       "      <td>NaN</td>\n",
       "    </tr>\n",
       "    <tr>\n",
       "      <th>90</th>\n",
       "      <td>3109</td>\n",
       "      <td>Parkside &amp; Girard</td>\n",
       "      <td>5/6/2016</td>\n",
       "      <td>Inactive</td>\n",
       "      <td>East Parkside</td>\n",
       "      <td>NaN</td>\n",
       "      <td>NaN</td>\n",
       "    </tr>\n",
       "    <tr>\n",
       "      <th>103</th>\n",
       "      <td>3122</td>\n",
       "      <td>24th &amp; Cecil B. Moore, Cecil B. Moore Library</td>\n",
       "      <td>4/27/2016</td>\n",
       "      <td>Inactive</td>\n",
       "      <td>North Philadelphia</td>\n",
       "      <td>NaN</td>\n",
       "      <td>NaN</td>\n",
       "    </tr>\n",
       "  </tbody>\n",
       "</table>\n",
       "</div>"
      ],
      "text/plain": [
       "     station_id                                   station_name  \\\n",
       "0          3000                                Virtual Station   \n",
       "20         3023                             Rittenhouse Square   \n",
       "43         3048                              Broad & Fitzwater   \n",
       "90         3109                              Parkside & Girard   \n",
       "103        3122  24th & Cecil B. Moore, Cecil B. Moore Library   \n",
       "\n",
       "    day_of_go_live_date    status        neighborhood  station_lat  \\\n",
       "0             4/23/2015    Active         Center City          NaN   \n",
       "20            4/23/2015  Inactive  Rittenhouse Square          NaN   \n",
       "43            4/23/2015  Inactive  South Philadelphia          NaN   \n",
       "90             5/6/2016  Inactive       East Parkside          NaN   \n",
       "103           4/27/2016  Inactive  North Philadelphia          NaN   \n",
       "\n",
       "     station_lon  \n",
       "0            NaN  \n",
       "20           NaN  \n",
       "43           NaN  \n",
       "90           NaN  \n",
       "103          NaN  "
      ]
     },
     "execution_count": 6,
     "metadata": {},
     "output_type": "execute_result"
    }
   ],
   "source": [
    "station_data_sql.loc[station_data_sql[\"station_lat\"].isnull() == True]"
   ]
  },
  {
   "cell_type": "markdown",
   "id": "545d73af",
   "metadata": {},
   "source": [
    "<br>Convert the go live date to a datetime before storing in the SQL db"
   ]
  },
  {
   "cell_type": "code",
   "execution_count": 9,
   "id": "01849bf1",
   "metadata": {},
   "outputs": [
    {
     "data": {
      "text/html": [
       "<div>\n",
       "<style scoped>\n",
       "    .dataframe tbody tr th:only-of-type {\n",
       "        vertical-align: middle;\n",
       "    }\n",
       "\n",
       "    .dataframe tbody tr th {\n",
       "        vertical-align: top;\n",
       "    }\n",
       "\n",
       "    .dataframe thead th {\n",
       "        text-align: right;\n",
       "    }\n",
       "</style>\n",
       "<table border=\"1\" class=\"dataframe\">\n",
       "  <thead>\n",
       "    <tr style=\"text-align: right;\">\n",
       "      <th></th>\n",
       "      <th>station_id</th>\n",
       "      <th>station_name</th>\n",
       "      <th>go_live_date</th>\n",
       "      <th>status</th>\n",
       "      <th>neighborhood</th>\n",
       "      <th>station_lat</th>\n",
       "      <th>station_lon</th>\n",
       "    </tr>\n",
       "  </thead>\n",
       "  <tbody>\n",
       "    <tr>\n",
       "      <th>0</th>\n",
       "      <td>3000</td>\n",
       "      <td>Virtual Station</td>\n",
       "      <td>2015-04-23</td>\n",
       "      <td>Active</td>\n",
       "      <td>Center City</td>\n",
       "      <td>NaN</td>\n",
       "      <td>NaN</td>\n",
       "    </tr>\n",
       "    <tr>\n",
       "      <th>1</th>\n",
       "      <td>3004</td>\n",
       "      <td>Municipal Services Building Plaza</td>\n",
       "      <td>2015-04-23</td>\n",
       "      <td>Active</td>\n",
       "      <td>Center City</td>\n",
       "      <td>39.953781</td>\n",
       "      <td>-75.163742</td>\n",
       "    </tr>\n",
       "  </tbody>\n",
       "</table>\n",
       "</div>"
      ],
      "text/plain": [
       "   station_id                       station_name go_live_date  status  \\\n",
       "0        3000                    Virtual Station   2015-04-23  Active   \n",
       "1        3004  Municipal Services Building Plaza   2015-04-23  Active   \n",
       "\n",
       "  neighborhood  station_lat  station_lon  \n",
       "0  Center City          NaN          NaN  \n",
       "1  Center City    39.953781   -75.163742  "
      ]
     },
     "execution_count": 9,
     "metadata": {},
     "output_type": "execute_result"
    }
   ],
   "source": [
    "import datetime as dt\n",
    "\n",
    "station_data_sql[\"day_of_go_live_date\"] = pd.to_datetime(station_data_sql[\"day_of_go_live_date\"])\n",
    "station_data_sql = station_data_sql.rename(columns={\"day_of_go_live_date\": \"go_live_date\"})\n",
    "\n",
    "station_data_sql.head(2)"
   ]
  },
  {
   "cell_type": "markdown",
   "id": "6e06a5ed",
   "metadata": {},
   "source": [
    "<br>Store the combination of start & end stations with distance in between as its own table"
   ]
  },
  {
   "cell_type": "code",
   "execution_count": 10,
   "id": "33a0f1a9",
   "metadata": {},
   "outputs": [
    {
     "name": "stdout",
     "output_type": "stream",
     "text": [
      "<class 'pandas.core.frame.DataFrame'>\n",
      "RangeIndex: 23940 entries, 0 to 23939\n",
      "Data columns (total 8 columns):\n",
      " #   Column      Non-Null Count  Dtype  \n",
      "---  ------      --------------  -----  \n",
      " 0   start_name  23940 non-null  object \n",
      " 1   end_name    23940 non-null  object \n",
      " 2   start_lat   23760 non-null  float64\n",
      " 3   start_lon   23760 non-null  float64\n",
      " 4   end_lat     23760 non-null  float64\n",
      " 5   end_lon     23760 non-null  float64\n",
      " 6   count       23760 non-null  float64\n",
      " 7   distance    23940 non-null  object \n",
      "dtypes: float64(5), object(3)\n",
      "memory usage: 1.5+ MB\n"
     ]
    }
   ],
   "source": [
    "station_name_combos.info()"
   ]
  },
  {
   "cell_type": "markdown",
   "id": "14c07611",
   "metadata": {},
   "source": [
    "<br>Drop the latlong data from this table - it is now stored in the station data table"
   ]
  },
  {
   "cell_type": "code",
   "execution_count": 42,
   "id": "ae030248",
   "metadata": {},
   "outputs": [
    {
     "data": {
      "text/html": [
       "<div>\n",
       "<style scoped>\n",
       "    .dataframe tbody tr th:only-of-type {\n",
       "        vertical-align: middle;\n",
       "    }\n",
       "\n",
       "    .dataframe tbody tr th {\n",
       "        vertical-align: top;\n",
       "    }\n",
       "\n",
       "    .dataframe thead th {\n",
       "        text-align: right;\n",
       "    }\n",
       "</style>\n",
       "<table border=\"1\" class=\"dataframe\">\n",
       "  <thead>\n",
       "    <tr style=\"text-align: right;\">\n",
       "      <th></th>\n",
       "      <th>start_name</th>\n",
       "      <th>end_name</th>\n",
       "      <th>distance</th>\n",
       "    </tr>\n",
       "  </thead>\n",
       "  <tbody>\n",
       "    <tr>\n",
       "      <th>0</th>\n",
       "      <td>10th &amp; Chestnut</td>\n",
       "      <td>10th &amp; Federal</td>\n",
       "      <td>1.1 mi</td>\n",
       "    </tr>\n",
       "    <tr>\n",
       "      <th>1</th>\n",
       "      <td>10th &amp; Chestnut</td>\n",
       "      <td>11th &amp; Market</td>\n",
       "      <td>0.4 mi</td>\n",
       "    </tr>\n",
       "    <tr>\n",
       "      <th>2</th>\n",
       "      <td>10th &amp; Chestnut</td>\n",
       "      <td>11th &amp; Pine, Kahn Park</td>\n",
       "      <td>0.6 mi</td>\n",
       "    </tr>\n",
       "    <tr>\n",
       "      <th>3</th>\n",
       "      <td>10th &amp; Chestnut</td>\n",
       "      <td>11th &amp; Poplar, John F. Street Community Center</td>\n",
       "      <td>1.6 mi</td>\n",
       "    </tr>\n",
       "    <tr>\n",
       "      <th>4</th>\n",
       "      <td>10th &amp; Chestnut</td>\n",
       "      <td>11th &amp; Reed</td>\n",
       "      <td>1.3 mi</td>\n",
       "    </tr>\n",
       "  </tbody>\n",
       "</table>\n",
       "</div>"
      ],
      "text/plain": [
       "        start_name                                        end_name distance\n",
       "0  10th & Chestnut                                  10th & Federal   1.1 mi\n",
       "1  10th & Chestnut                                   11th & Market   0.4 mi\n",
       "2  10th & Chestnut                          11th & Pine, Kahn Park   0.6 mi\n",
       "3  10th & Chestnut  11th & Poplar, John F. Street Community Center   1.6 mi\n",
       "4  10th & Chestnut                                     11th & Reed   1.3 mi"
      ]
     },
     "execution_count": 42,
     "metadata": {},
     "output_type": "execute_result"
    }
   ],
   "source": [
    "station_combos_sql = station_name_combos.copy()\n",
    "\n",
    "station_combos_sql = station_combos_sql.drop(columns=[\"start_lat\", \"start_lon\", \"end_lat\", \"end_lon\", \"count\"])\n",
    "\n",
    "station_combos_sql.head()"
   ]
  },
  {
   "cell_type": "markdown",
   "id": "fe2ebaa3",
   "metadata": {},
   "source": [
    "<br>Replace the start name and end name with respective stations IDs - station ID will used consistently across the schema as the key to join tables"
   ]
  },
  {
   "cell_type": "code",
   "execution_count": 43,
   "id": "1c55a6e6",
   "metadata": {},
   "outputs": [
    {
     "data": {
      "text/html": [
       "<div>\n",
       "<style scoped>\n",
       "    .dataframe tbody tr th:only-of-type {\n",
       "        vertical-align: middle;\n",
       "    }\n",
       "\n",
       "    .dataframe tbody tr th {\n",
       "        vertical-align: top;\n",
       "    }\n",
       "\n",
       "    .dataframe thead th {\n",
       "        text-align: right;\n",
       "    }\n",
       "</style>\n",
       "<table border=\"1\" class=\"dataframe\">\n",
       "  <thead>\n",
       "    <tr style=\"text-align: right;\">\n",
       "      <th></th>\n",
       "      <th>start_id</th>\n",
       "      <th>end_id</th>\n",
       "      <th>distance</th>\n",
       "    </tr>\n",
       "  </thead>\n",
       "  <tbody>\n",
       "    <tr>\n",
       "      <th>0</th>\n",
       "      <td>3033</td>\n",
       "      <td>3098</td>\n",
       "      <td>1.1 mi</td>\n",
       "    </tr>\n",
       "    <tr>\n",
       "      <th>1</th>\n",
       "      <td>3033</td>\n",
       "      <td>3185</td>\n",
       "      <td>0.4 mi</td>\n",
       "    </tr>\n",
       "    <tr>\n",
       "      <th>2</th>\n",
       "      <td>3033</td>\n",
       "      <td>3007</td>\n",
       "      <td>0.6 mi</td>\n",
       "    </tr>\n",
       "    <tr>\n",
       "      <th>3</th>\n",
       "      <td>3033</td>\n",
       "      <td>3016</td>\n",
       "      <td>1.6 mi</td>\n",
       "    </tr>\n",
       "    <tr>\n",
       "      <th>4</th>\n",
       "      <td>3033</td>\n",
       "      <td>3034</td>\n",
       "      <td>1.3 mi</td>\n",
       "    </tr>\n",
       "  </tbody>\n",
       "</table>\n",
       "</div>"
      ],
      "text/plain": [
       "   start_id  end_id distance\n",
       "0      3033    3098   1.1 mi\n",
       "1      3033    3185   0.4 mi\n",
       "2      3033    3007   0.6 mi\n",
       "3      3033    3016   1.6 mi\n",
       "4      3033    3034   1.3 mi"
      ]
     },
     "execution_count": 43,
     "metadata": {},
     "output_type": "execute_result"
    }
   ],
   "source": [
    "# Join start station data\n",
    "station_combos_sql = pd.merge(left=station_combos_sql, right=station_data_sql[[\"station_id\", \"station_name\"]], how=\"left\", left_on=\"start_name\", right_on=\"station_name\").drop(columns=[\"station_name\"])\n",
    "station_combos_sql = station_combos_sql.rename(columns={\"station_id\":\"start_id\"})\n",
    "\n",
    "# Join end station data\n",
    "station_combos_sql = pd.merge(left=station_combos_sql, right=station_data_sql[[\"station_id\", \"station_name\"]], how=\"left\", left_on=\"end_name\", right_on=\"station_name\").drop(columns=[\"station_name\"])\n",
    "station_combos_sql = station_combos_sql.rename(columns={\"station_id\":\"end_id\"})\n",
    "\n",
    "# Drop the start name and end name columns\n",
    "station_combos_sql = station_combos_sql.drop(columns=[\"start_name\", \"end_name\"])\n",
    "\n",
    "# Reorder the columns\n",
    "station_combos_sql = station_combos_sql[[\"start_id\", \"end_id\", \"distance\"]]\n",
    "\n",
    "station_combos_sql.head(5)"
   ]
  },
  {
   "cell_type": "code",
   "execution_count": 44,
   "id": "e8af28d4",
   "metadata": {},
   "outputs": [
    {
     "name": "stdout",
     "output_type": "stream",
     "text": [
      "<class 'pandas.core.frame.DataFrame'>\n",
      "Int64Index: 24518 entries, 0 to 24517\n",
      "Data columns (total 3 columns):\n",
      " #   Column    Non-Null Count  Dtype \n",
      "---  ------    --------------  ----- \n",
      " 0   start_id  24518 non-null  int64 \n",
      " 1   end_id    24518 non-null  int64 \n",
      " 2   distance  24518 non-null  object\n",
      "dtypes: int64(2), object(1)\n",
      "memory usage: 766.2+ KB\n"
     ]
    }
   ],
   "source": [
    "station_combos_sql.info()"
   ]
  },
  {
   "cell_type": "markdown",
   "id": "b4db5c86",
   "metadata": {},
   "source": [
    "<br>Store trip data as its own table\n",
    "\n",
    "<br>Note: Since this database will be used primarily for querying and not storing transactions on an ongoing basis, distance will be stored in this data as well as in the station_combos table. Having this data readily available for querying will save time in analysis - distance data will not need to be joined dynamically each time it is needed"
   ]
  },
  {
   "cell_type": "code",
   "execution_count": 45,
   "id": "2ca830e0",
   "metadata": {
    "scrolled": true
   },
   "outputs": [
    {
     "name": "stdout",
     "output_type": "stream",
     "text": [
      "<class 'pandas.core.frame.DataFrame'>\n",
      "RangeIndex: 1990500 entries, 0 to 1990499\n",
      "Data columns (total 20 columns):\n",
      " #   Column               Dtype  \n",
      "---  ------               -----  \n",
      " 0   trip_id              int64  \n",
      " 1   duration             int64  \n",
      " 2   start_time           object \n",
      " 3   end_time             object \n",
      " 4   start_station        int64  \n",
      " 5   start_lat            float64\n",
      " 6   start_lon            float64\n",
      " 7   end_station          int64  \n",
      " 8   end_lat              float64\n",
      " 9   end_lon              float64\n",
      " 10  bike_id              object \n",
      " 11  plan_duration        float64\n",
      " 12  trip_route_category  object \n",
      " 13  passholder_type      object \n",
      " 14  bike_type            object \n",
      " 15  start_name           object \n",
      " 16  start_neighborhood   object \n",
      " 17  end_name             object \n",
      " 18  end_neighborhood     object \n",
      " 19  distance             float64\n",
      "dtypes: float64(6), int64(4), object(10)\n",
      "memory usage: 303.7+ MB\n"
     ]
    }
   ],
   "source": [
    "tsd_data.info()"
   ]
  },
  {
   "cell_type": "markdown",
   "id": "e6ed1857",
   "metadata": {},
   "source": [
    "<br>Drop the data from this table that is already stored in station data table \n",
    "\n",
    "<br>Note: Since this database will be used primarily for querying and not storing transactions on an ongoing basis, distance will be stored in this data as well as in the station_combos table. Having this data readily available for querying will save time in analysis - distance data will not need to be joined dynamically each time it is needed"
   ]
  },
  {
   "cell_type": "code",
   "execution_count": 86,
   "id": "80ba7090",
   "metadata": {},
   "outputs": [
    {
     "data": {
      "text/html": [
       "<div>\n",
       "<style scoped>\n",
       "    .dataframe tbody tr th:only-of-type {\n",
       "        vertical-align: middle;\n",
       "    }\n",
       "\n",
       "    .dataframe tbody tr th {\n",
       "        vertical-align: top;\n",
       "    }\n",
       "\n",
       "    .dataframe thead th {\n",
       "        text-align: right;\n",
       "    }\n",
       "</style>\n",
       "<table border=\"1\" class=\"dataframe\">\n",
       "  <thead>\n",
       "    <tr style=\"text-align: right;\">\n",
       "      <th></th>\n",
       "      <th>trip_id</th>\n",
       "      <th>duration</th>\n",
       "      <th>start_time</th>\n",
       "      <th>end_time</th>\n",
       "      <th>start_station</th>\n",
       "      <th>end_station</th>\n",
       "      <th>bike_id</th>\n",
       "      <th>plan_duration</th>\n",
       "      <th>trip_route_category</th>\n",
       "      <th>passholder_type</th>\n",
       "      <th>bike_type</th>\n",
       "      <th>distance</th>\n",
       "    </tr>\n",
       "  </thead>\n",
       "  <tbody>\n",
       "    <tr>\n",
       "      <th>1990495</th>\n",
       "      <td>428365176</td>\n",
       "      <td>10</td>\n",
       "      <td>9/30/2021 23:57</td>\n",
       "      <td>10/1/2021 0:07</td>\n",
       "      <td>3009</td>\n",
       "      <td>3035</td>\n",
       "      <td>18791</td>\n",
       "      <td>30.0</td>\n",
       "      <td>One Way</td>\n",
       "      <td>Indego30</td>\n",
       "      <td>electric</td>\n",
       "      <td>0.8</td>\n",
       "    </tr>\n",
       "    <tr>\n",
       "      <th>1990496</th>\n",
       "      <td>428365174</td>\n",
       "      <td>7</td>\n",
       "      <td>9/30/2021 23:57</td>\n",
       "      <td>10/1/2021 0:04</td>\n",
       "      <td>3047</td>\n",
       "      <td>3028</td>\n",
       "      <td>5263</td>\n",
       "      <td>30.0</td>\n",
       "      <td>One Way</td>\n",
       "      <td>Indego30</td>\n",
       "      <td>standard</td>\n",
       "      <td>0.8</td>\n",
       "    </tr>\n",
       "    <tr>\n",
       "      <th>1990497</th>\n",
       "      <td>428365172</td>\n",
       "      <td>7</td>\n",
       "      <td>9/30/2021 23:58</td>\n",
       "      <td>10/1/2021 0:05</td>\n",
       "      <td>3046</td>\n",
       "      <td>3050</td>\n",
       "      <td>18675</td>\n",
       "      <td>30.0</td>\n",
       "      <td>One Way</td>\n",
       "      <td>Indego30</td>\n",
       "      <td>electric</td>\n",
       "      <td>0.7</td>\n",
       "    </tr>\n",
       "    <tr>\n",
       "      <th>1990498</th>\n",
       "      <td>428365170</td>\n",
       "      <td>3</td>\n",
       "      <td>9/30/2021 23:58</td>\n",
       "      <td>10/1/2021 0:01</td>\n",
       "      <td>3115</td>\n",
       "      <td>3075</td>\n",
       "      <td>21618</td>\n",
       "      <td>30.0</td>\n",
       "      <td>One Way</td>\n",
       "      <td>Indego30</td>\n",
       "      <td>electric</td>\n",
       "      <td>0.5</td>\n",
       "    </tr>\n",
       "    <tr>\n",
       "      <th>1990499</th>\n",
       "      <td>428365168</td>\n",
       "      <td>12</td>\n",
       "      <td>9/30/2021 23:59</td>\n",
       "      <td>10/1/2021 0:11</td>\n",
       "      <td>3012</td>\n",
       "      <td>3112</td>\n",
       "      <td>18807</td>\n",
       "      <td>30.0</td>\n",
       "      <td>One Way</td>\n",
       "      <td>Indego30</td>\n",
       "      <td>electric</td>\n",
       "      <td>3.0</td>\n",
       "    </tr>\n",
       "  </tbody>\n",
       "</table>\n",
       "</div>"
      ],
      "text/plain": [
       "           trip_id  duration       start_time        end_time  start_station  \\\n",
       "1990495  428365176        10  9/30/2021 23:57  10/1/2021 0:07           3009   \n",
       "1990496  428365174         7  9/30/2021 23:57  10/1/2021 0:04           3047   \n",
       "1990497  428365172         7  9/30/2021 23:58  10/1/2021 0:05           3046   \n",
       "1990498  428365170         3  9/30/2021 23:58  10/1/2021 0:01           3115   \n",
       "1990499  428365168        12  9/30/2021 23:59  10/1/2021 0:11           3012   \n",
       "\n",
       "         end_station bike_id  plan_duration trip_route_category  \\\n",
       "1990495         3035   18791           30.0             One Way   \n",
       "1990496         3028    5263           30.0             One Way   \n",
       "1990497         3050   18675           30.0             One Way   \n",
       "1990498         3075   21618           30.0             One Way   \n",
       "1990499         3112   18807           30.0             One Way   \n",
       "\n",
       "        passholder_type bike_type  distance  \n",
       "1990495        Indego30  electric       0.8  \n",
       "1990496        Indego30  standard       0.8  \n",
       "1990497        Indego30  electric       0.7  \n",
       "1990498        Indego30  electric       0.5  \n",
       "1990499        Indego30  electric       3.0  "
      ]
     },
     "execution_count": 86,
     "metadata": {},
     "output_type": "execute_result"
    }
   ],
   "source": [
    "trip_data_sql = tsd_data.copy()\n",
    "\n",
    "trip_data_sql = tsd_data.drop(columns=[\"start_lat\", \"start_lon\", \"end_lat\", \"end_lon\", \"start_name\", \"start_neighborhood\", \"end_name\", \"end_neighborhood\"])\n",
    "\n",
    "trip_data_sql.tail()"
   ]
  },
  {
   "cell_type": "markdown",
   "id": "94956bd7",
   "metadata": {},
   "source": [
    "<br>The bike_id column is storing as an object, rather than int - indicating non-integer values. See below"
   ]
  },
  {
   "cell_type": "code",
   "execution_count": 87,
   "id": "d7028ab4",
   "metadata": {
    "scrolled": true
   },
   "outputs": [
    {
     "data": {
      "text/html": [
       "<div>\n",
       "<style scoped>\n",
       "    .dataframe tbody tr th:only-of-type {\n",
       "        vertical-align: middle;\n",
       "    }\n",
       "\n",
       "    .dataframe tbody tr th {\n",
       "        vertical-align: top;\n",
       "    }\n",
       "\n",
       "    .dataframe thead th {\n",
       "        text-align: right;\n",
       "    }\n",
       "</style>\n",
       "<table border=\"1\" class=\"dataframe\">\n",
       "  <thead>\n",
       "    <tr style=\"text-align: right;\">\n",
       "      <th></th>\n",
       "      <th>trip_id</th>\n",
       "      <th>duration</th>\n",
       "      <th>start_time</th>\n",
       "      <th>end_time</th>\n",
       "      <th>start_station</th>\n",
       "      <th>end_station</th>\n",
       "      <th>bike_id</th>\n",
       "      <th>plan_duration</th>\n",
       "      <th>trip_route_category</th>\n",
       "      <th>passholder_type</th>\n",
       "      <th>bike_type</th>\n",
       "      <th>distance</th>\n",
       "    </tr>\n",
       "  </thead>\n",
       "  <tbody>\n",
       "    <tr>\n",
       "      <th>1239893</th>\n",
       "      <td>356150624</td>\n",
       "      <td>79</td>\n",
       "      <td>9/28/2020 18:54</td>\n",
       "      <td>9/28/2020 20:13</td>\n",
       "      <td>3159</td>\n",
       "      <td>3206</td>\n",
       "      <td>46RUSSELL</td>\n",
       "      <td>30.0</td>\n",
       "      <td>One Way</td>\n",
       "      <td>Indego30</td>\n",
       "      <td>standard</td>\n",
       "      <td>2.0</td>\n",
       "    </tr>\n",
       "    <tr>\n",
       "      <th>1338199</th>\n",
       "      <td>361127740</td>\n",
       "      <td>54</td>\n",
       "      <td>11/10/2020 19:13</td>\n",
       "      <td>11/10/2020 20:07</td>\n",
       "      <td>3204</td>\n",
       "      <td>3208</td>\n",
       "      <td>47ERIN</td>\n",
       "      <td>365.0</td>\n",
       "      <td>One Way</td>\n",
       "      <td>Indego365</td>\n",
       "      <td>standard</td>\n",
       "      <td>2.7</td>\n",
       "    </tr>\n",
       "    <tr>\n",
       "      <th>1443502</th>\n",
       "      <td>368796659</td>\n",
       "      <td>128</td>\n",
       "      <td>3/2/2021 14:16</td>\n",
       "      <td>3/2/2021 16:24</td>\n",
       "      <td>3209</td>\n",
       "      <td>3010</td>\n",
       "      <td>WAND_ERIN_47</td>\n",
       "      <td>30.0</td>\n",
       "      <td>One Way</td>\n",
       "      <td>Indego30</td>\n",
       "      <td>standard</td>\n",
       "      <td>3.1</td>\n",
       "    </tr>\n",
       "    <tr>\n",
       "      <th>1638469</th>\n",
       "      <td>391010723</td>\n",
       "      <td>48</td>\n",
       "      <td>6/6/2021 14:53</td>\n",
       "      <td>6/6/2021 15:41</td>\n",
       "      <td>3206</td>\n",
       "      <td>3211</td>\n",
       "      <td>WAND_LILRUSS_43</td>\n",
       "      <td>1.0</td>\n",
       "      <td>One Way</td>\n",
       "      <td>Day Pass</td>\n",
       "      <td>standard</td>\n",
       "      <td>1.6</td>\n",
       "    </tr>\n",
       "    <tr>\n",
       "      <th>1794797</th>\n",
       "      <td>407706851</td>\n",
       "      <td>6</td>\n",
       "      <td>7/31/2021 16:14</td>\n",
       "      <td>7/31/2021 16:20</td>\n",
       "      <td>3108</td>\n",
       "      <td>3101</td>\n",
       "      <td>WAND_PHIL_61</td>\n",
       "      <td>1.0</td>\n",
       "      <td>One Way</td>\n",
       "      <td>Day Pass</td>\n",
       "      <td>standard</td>\n",
       "      <td>1.1</td>\n",
       "    </tr>\n",
       "  </tbody>\n",
       "</table>\n",
       "</div>"
      ],
      "text/plain": [
       "           trip_id  duration        start_time          end_time  \\\n",
       "1239893  356150624        79   9/28/2020 18:54   9/28/2020 20:13   \n",
       "1338199  361127740        54  11/10/2020 19:13  11/10/2020 20:07   \n",
       "1443502  368796659       128    3/2/2021 14:16    3/2/2021 16:24   \n",
       "1638469  391010723        48    6/6/2021 14:53    6/6/2021 15:41   \n",
       "1794797  407706851         6   7/31/2021 16:14   7/31/2021 16:20   \n",
       "\n",
       "         start_station  end_station          bike_id  plan_duration  \\\n",
       "1239893           3159         3206        46RUSSELL           30.0   \n",
       "1338199           3204         3208           47ERIN          365.0   \n",
       "1443502           3209         3010     WAND_ERIN_47           30.0   \n",
       "1638469           3206         3211  WAND_LILRUSS_43            1.0   \n",
       "1794797           3108         3101     WAND_PHIL_61            1.0   \n",
       "\n",
       "        trip_route_category passholder_type bike_type  distance  \n",
       "1239893             One Way        Indego30  standard       2.0  \n",
       "1338199             One Way       Indego365  standard       2.7  \n",
       "1443502             One Way        Indego30  standard       3.1  \n",
       "1638469             One Way        Day Pass  standard       1.6  \n",
       "1794797             One Way        Day Pass  standard       1.1  "
      ]
     },
     "execution_count": 87,
     "metadata": {},
     "output_type": "execute_result"
    }
   ],
   "source": [
    "trip_data_sql.loc[trip_data_sql['bike_id'].str.isdigit() ==  False]"
   ]
  },
  {
   "cell_type": "markdown",
   "id": "dfdc2cd3",
   "metadata": {},
   "source": [
    "<br>Drop the 5 rows with invalid bike IDs, then reformat the column to store as an int"
   ]
  },
  {
   "cell_type": "code",
   "execution_count": 88,
   "id": "9dfcd6b0",
   "metadata": {
    "scrolled": true
   },
   "outputs": [
    {
     "name": "stdout",
     "output_type": "stream",
     "text": [
      "<class 'pandas.core.frame.DataFrame'>\n",
      "Int64Index: 1990495 entries, 0 to 1990499\n",
      "Data columns (total 12 columns):\n",
      " #   Column               Dtype  \n",
      "---  ------               -----  \n",
      " 0   trip_id              int64  \n",
      " 1   duration             int64  \n",
      " 2   start_time           object \n",
      " 3   end_time             object \n",
      " 4   start_station        int64  \n",
      " 5   end_station          int64  \n",
      " 6   bike_id              int64  \n",
      " 7   plan_duration        float64\n",
      " 8   trip_route_category  object \n",
      " 9   passholder_type      object \n",
      " 10  bike_type            object \n",
      " 11  distance             float64\n",
      "dtypes: float64(2), int64(5), object(5)\n",
      "memory usage: 197.4+ MB\n"
     ]
    }
   ],
   "source": [
    "trip_data_sql = trip_data_sql.loc[trip_data_sql['bike_id'].str.isdigit() !=  False]\n",
    "trip_data_sql['bike_id'] = trip_data_sql['bike_id'].astype('int64') \n",
    "trip_data_sql.info()"
   ]
  },
  {
   "cell_type": "markdown",
   "id": "e8e24fd5",
   "metadata": {},
   "source": [
    "<br>Convert the date columns to datetimes before storing in the SQL db"
   ]
  },
  {
   "cell_type": "code",
   "execution_count": 90,
   "id": "66c40cd6",
   "metadata": {
    "scrolled": true
   },
   "outputs": [
    {
     "data": {
      "text/html": [
       "<div>\n",
       "<style scoped>\n",
       "    .dataframe tbody tr th:only-of-type {\n",
       "        vertical-align: middle;\n",
       "    }\n",
       "\n",
       "    .dataframe tbody tr th {\n",
       "        vertical-align: top;\n",
       "    }\n",
       "\n",
       "    .dataframe thead th {\n",
       "        text-align: right;\n",
       "    }\n",
       "</style>\n",
       "<table border=\"1\" class=\"dataframe\">\n",
       "  <thead>\n",
       "    <tr style=\"text-align: right;\">\n",
       "      <th></th>\n",
       "      <th>trip_id</th>\n",
       "      <th>duration</th>\n",
       "      <th>start_time</th>\n",
       "      <th>end_time</th>\n",
       "      <th>start_station</th>\n",
       "      <th>end_station</th>\n",
       "      <th>bike_id</th>\n",
       "      <th>plan_duration</th>\n",
       "      <th>trip_route_category</th>\n",
       "      <th>passholder_type</th>\n",
       "      <th>bike_type</th>\n",
       "      <th>distance</th>\n",
       "    </tr>\n",
       "  </thead>\n",
       "  <tbody>\n",
       "    <tr>\n",
       "      <th>1990495</th>\n",
       "      <td>428365176</td>\n",
       "      <td>10</td>\n",
       "      <td>2021-09-30 23:57:00</td>\n",
       "      <td>2021-10-01 00:07:00</td>\n",
       "      <td>3009</td>\n",
       "      <td>3035</td>\n",
       "      <td>18791</td>\n",
       "      <td>30.0</td>\n",
       "      <td>One Way</td>\n",
       "      <td>Indego30</td>\n",
       "      <td>electric</td>\n",
       "      <td>0.8</td>\n",
       "    </tr>\n",
       "    <tr>\n",
       "      <th>1990496</th>\n",
       "      <td>428365174</td>\n",
       "      <td>7</td>\n",
       "      <td>2021-09-30 23:57:00</td>\n",
       "      <td>2021-10-01 00:04:00</td>\n",
       "      <td>3047</td>\n",
       "      <td>3028</td>\n",
       "      <td>5263</td>\n",
       "      <td>30.0</td>\n",
       "      <td>One Way</td>\n",
       "      <td>Indego30</td>\n",
       "      <td>standard</td>\n",
       "      <td>0.8</td>\n",
       "    </tr>\n",
       "    <tr>\n",
       "      <th>1990497</th>\n",
       "      <td>428365172</td>\n",
       "      <td>7</td>\n",
       "      <td>2021-09-30 23:58:00</td>\n",
       "      <td>2021-10-01 00:05:00</td>\n",
       "      <td>3046</td>\n",
       "      <td>3050</td>\n",
       "      <td>18675</td>\n",
       "      <td>30.0</td>\n",
       "      <td>One Way</td>\n",
       "      <td>Indego30</td>\n",
       "      <td>electric</td>\n",
       "      <td>0.7</td>\n",
       "    </tr>\n",
       "    <tr>\n",
       "      <th>1990498</th>\n",
       "      <td>428365170</td>\n",
       "      <td>3</td>\n",
       "      <td>2021-09-30 23:58:00</td>\n",
       "      <td>2021-10-01 00:01:00</td>\n",
       "      <td>3115</td>\n",
       "      <td>3075</td>\n",
       "      <td>21618</td>\n",
       "      <td>30.0</td>\n",
       "      <td>One Way</td>\n",
       "      <td>Indego30</td>\n",
       "      <td>electric</td>\n",
       "      <td>0.5</td>\n",
       "    </tr>\n",
       "    <tr>\n",
       "      <th>1990499</th>\n",
       "      <td>428365168</td>\n",
       "      <td>12</td>\n",
       "      <td>2021-09-30 23:59:00</td>\n",
       "      <td>2021-10-01 00:11:00</td>\n",
       "      <td>3012</td>\n",
       "      <td>3112</td>\n",
       "      <td>18807</td>\n",
       "      <td>30.0</td>\n",
       "      <td>One Way</td>\n",
       "      <td>Indego30</td>\n",
       "      <td>electric</td>\n",
       "      <td>3.0</td>\n",
       "    </tr>\n",
       "  </tbody>\n",
       "</table>\n",
       "</div>"
      ],
      "text/plain": [
       "           trip_id  duration          start_time            end_time  \\\n",
       "1990495  428365176        10 2021-09-30 23:57:00 2021-10-01 00:07:00   \n",
       "1990496  428365174         7 2021-09-30 23:57:00 2021-10-01 00:04:00   \n",
       "1990497  428365172         7 2021-09-30 23:58:00 2021-10-01 00:05:00   \n",
       "1990498  428365170         3 2021-09-30 23:58:00 2021-10-01 00:01:00   \n",
       "1990499  428365168        12 2021-09-30 23:59:00 2021-10-01 00:11:00   \n",
       "\n",
       "         start_station  end_station  bike_id  plan_duration  \\\n",
       "1990495           3009         3035    18791           30.0   \n",
       "1990496           3047         3028     5263           30.0   \n",
       "1990497           3046         3050    18675           30.0   \n",
       "1990498           3115         3075    21618           30.0   \n",
       "1990499           3012         3112    18807           30.0   \n",
       "\n",
       "        trip_route_category passholder_type bike_type  distance  \n",
       "1990495             One Way        Indego30  electric       0.8  \n",
       "1990496             One Way        Indego30  standard       0.8  \n",
       "1990497             One Way        Indego30  electric       0.7  \n",
       "1990498             One Way        Indego30  electric       0.5  \n",
       "1990499             One Way        Indego30  electric       3.0  "
      ]
     },
     "execution_count": 90,
     "metadata": {},
     "output_type": "execute_result"
    }
   ],
   "source": [
    "trip_data_sql[\"start_time\"] = pd.to_datetime(trip_data_sql[\"start_time\"])\n",
    "trip_data_sql[\"end_time\"] = pd.to_datetime(trip_data_sql[\"end_time\"])\n",
    "\n",
    "trip_data_sql.tail()"
   ]
  },
  {
   "cell_type": "markdown",
   "id": "cccb8b04",
   "metadata": {},
   "source": [
    "<br><br>\n",
    "## Store data as a SQL database\n",
    "[Return to Top](#Part-2:-Store-Enhanced-Data-in-a-Database)\n",
    "\n",
    "<br>By storing the data this way, it can be queried in the future using SQL, which will not require the full dataset to be loaded into memory and allows for faster query execution"
   ]
  },
  {
   "cell_type": "markdown",
   "id": "c801afe2",
   "metadata": {},
   "source": [
    "<br>Create a new SQLite database"
   ]
  },
  {
   "cell_type": "code",
   "execution_count": 91,
   "id": "9e940a2c",
   "metadata": {},
   "outputs": [],
   "source": [
    "import sqlite3\n",
    "\n",
    "conn = sqlite3.connect('bike_trips.db')\n",
    "c = conn.cursor()"
   ]
  },
  {
   "cell_type": "code",
   "execution_count": 92,
   "id": "cb409baa",
   "metadata": {},
   "outputs": [],
   "source": [
    "station_data_sql.to_sql('stations', conn, if_exists='replace', index = False)\n",
    "station_combos_sql.to_sql('station_combos', conn, if_exists='replace', index = False)\n",
    "trip_data_sql.to_sql('trips', conn, if_exists='replace', index = False)"
   ]
  },
  {
   "cell_type": "markdown",
   "id": "a3121cc1",
   "metadata": {},
   "source": [
    "<br>Check header info"
   ]
  },
  {
   "cell_type": "code",
   "execution_count": 93,
   "id": "1e2e6d31",
   "metadata": {},
   "outputs": [
    {
     "name": "stdout",
     "output_type": "stream",
     "text": [
      "(0, 'station_id', 'INTEGER', 0, None, 0)\n",
      "(1, 'station_name', 'TEXT', 0, None, 0)\n",
      "(2, 'go_live_date', 'TIMESTAMP', 0, None, 0)\n",
      "(3, 'status', 'TEXT', 0, None, 0)\n",
      "(4, 'neighborhood', 'TEXT', 0, None, 0)\n",
      "(5, 'station_lat', 'REAL', 0, None, 0)\n",
      "(6, 'station_lon', 'REAL', 0, None, 0)\n"
     ]
    }
   ],
   "source": [
    "c.execute('''  \n",
    "            PRAGMA table_info(stations);\n",
    "            ''')\n",
    "\n",
    "for row in c.fetchall():\n",
    "    print (row)"
   ]
  },
  {
   "cell_type": "markdown",
   "id": "e03bbb2d",
   "metadata": {},
   "source": [
    "<br>Check data"
   ]
  },
  {
   "cell_type": "code",
   "execution_count": 94,
   "id": "ff9eaa12",
   "metadata": {},
   "outputs": [
    {
     "name": "stdout",
     "output_type": "stream",
     "text": [
      "(3000, 'Virtual Station', '2015-04-23 00:00:00', 'Active', 'Center City', None, None)\n",
      "(3004, 'Municipal Services Building Plaza', '2015-04-23 00:00:00', 'Active', 'Center City', 39.953781, -75.163742)\n",
      "(3005, 'Welcome Park, NPS', '2015-04-23 00:00:00', 'Active', 'Center City East', 39.94733, -75.144028)\n",
      "(3006, '40th & Spruce', '2015-04-23 00:00:00', 'Active', 'University City', 39.952202, -75.20311)\n",
      "(3007, '11th & Pine, Kahn Park', '2015-04-23 00:00:00', 'Active', 'Washington Square West', 39.945171, -75.159927)\n",
      "(3008, 'Temple University Station', '2015-04-23 00:00:00', 'Active', 'North Philadelphia', 39.98044755123083, -75.1506971812565)\n",
      "(3009, '33rd & Market', '2015-04-23 00:00:00', 'Active', 'University City', 39.955761, -75.189819)\n",
      "(3010, '15th & Spruce', '2015-04-23 00:00:00', 'Active', 'Rittenhouse Square', 39.947109, -75.166183)\n",
      "(3011, '38th & Powelton', '2015-04-23 00:00:00', 'Active', 'University City', 39.95960020818546, -75.19664993981894)\n",
      "(3012, '21st & Catharine', '2015-04-23 00:00:00', 'Active', 'Graduate Hospital', 39.942181, -75.177467)\n"
     ]
    }
   ],
   "source": [
    "c.execute('''  \n",
    "            SELECT * \n",
    "            FROM stations\n",
    "            LIMIT 10;\n",
    "            ''')\n",
    "\n",
    "for row in c.fetchall():\n",
    "    print (row)"
   ]
  },
  {
   "cell_type": "markdown",
   "id": "3a98238f",
   "metadata": {},
   "source": [
    "<br>Check the number of rows"
   ]
  },
  {
   "cell_type": "code",
   "execution_count": 95,
   "id": "5a1e7064",
   "metadata": {},
   "outputs": [
    {
     "name": "stdout",
     "output_type": "stream",
     "text": [
      "(180,)\n"
     ]
    }
   ],
   "source": [
    "c.execute('''  \n",
    "            SELECT COUNT(*) \n",
    "            FROM stations\n",
    "            ''')\n",
    "\n",
    "for row in c.fetchall():\n",
    "    print (row)"
   ]
  },
  {
   "cell_type": "markdown",
   "id": "89a79dc3",
   "metadata": {},
   "source": [
    "<br>The data has been stored in the 'bike_trip-db' database"
   ]
  }
 ],
 "metadata": {
  "kernelspec": {
   "display_name": "Python 3 (ipykernel)",
   "language": "python",
   "name": "python3"
  },
  "language_info": {
   "codemirror_mode": {
    "name": "ipython",
    "version": 3
   },
   "file_extension": ".py",
   "mimetype": "text/x-python",
   "name": "python",
   "nbconvert_exporter": "python",
   "pygments_lexer": "ipython3",
   "version": "3.9.7"
  }
 },
 "nbformat": 4,
 "nbformat_minor": 5
}
